{
 "cells": [
  {
   "cell_type": "markdown",
   "id": "99d3f660",
   "metadata": {},
   "source": [
    "### RMIT READ-BioMed-Version-2.0\n",
    "#### Milindi Kodikara : : Karin Verspoor\n",
    "Date : : 16th Sept 2024"
   ]
  },
  {
   "cell_type": "code",
   "outputs": [],
   "source": [
    "import pandas as pd\n",
    "import numpy as np\n",
    "import matplotlib.pyplot as plt\n",
    "%matplotlib inline\n",
    "\n",
    "plt.rcParams[\"figure.figsize\"] = (14, 10)\n",
    "plt.rcParams[\"figure.autolayout\"] = True\n",
    "\n",
    "opal = '#275c4d'\n",
    "ruby = '#af221d'\n",
    "topaz = '#c59103'"
   ],
   "metadata": {
    "collapsed": false
   },
   "id": "b4a368721804b4b1",
   "execution_count": null
  },
  {
   "cell_type": "code",
   "outputs": [],
   "source": [
    "dataset_details = pd.read_csv('./results/dataset_details/dataset_details.tsv', sep='\\t', header=0)\n",
    "\n",
    "dataset_details"
   ],
   "metadata": {
    "collapsed": false
   },
   "id": "99d0e4cd732b35b5",
   "execution_count": null
  },
  {
   "cell_type": "code",
   "outputs": [],
   "source": [
    "len(dataset_details)"
   ],
   "metadata": {
    "collapsed": false
   },
   "id": "958ec6f1e11ee4f7",
   "execution_count": null
  },
  {
   "cell_type": "code",
   "outputs": [],
   "source": [
    "gold_annotation_types = pd.read_csv('./results/dataset_details/gold_annotation_type_count.tsv', sep='\\t', header=0)\n",
    "\n",
    "gold_annotation_types"
   ],
   "metadata": {
    "collapsed": false
   },
   "id": "dc98ad07f7f43300",
   "execution_count": null
  },
  {
   "cell_type": "code",
   "outputs": [],
   "source": [
    "len(gold_annotation_types)"
   ],
   "metadata": {
    "collapsed": false
   },
   "id": "30bcdc6cc44efa7c",
   "execution_count": null
  },
  {
   "cell_type": "code",
   "outputs": [],
   "source": [
    "evaluation_df = pd.read_csv('./results/eval_log.tsv', sep='\t', header=0).sort_values(by=['prompt_id'])\n",
    "\n",
    "evaluation_df"
   ],
   "metadata": {
    "collapsed": false
   },
   "id": "7bf563762e69b1f8",
   "execution_count": null
  },
  {
   "cell_type": "code",
   "outputs": [],
   "source": [
    "len(evaluation_df)"
   ],
   "metadata": {
    "collapsed": false
   },
   "id": "b9353be8d58b9e54",
   "execution_count": null
  },
  {
   "cell_type": "code",
   "outputs": [],
   "source": [
    "def generic_chart(title, x_label, y_label):\n",
    "    plt.title(title)\n",
    "    plt.xlabel(x_label)\n",
    "    plt.ylabel(y_label)\n",
    "    plt.xticks(rotation=90)\n",
    "    plt.show()"
   ],
   "metadata": {
    "collapsed": false
   },
   "id": "e7bf9d4f455dd147",
   "execution_count": null
  },
  {
   "cell_type": "code",
   "outputs": [],
   "source": [
    "x = evaluation_df[\"prompt_id\"].tolist()\n",
    "y = evaluation_df[\"f1\"].tolist()\n",
    "plt.bar(x, y, color=opal)\n",
    "generic_chart('F1 score vs prompts', 'prompts', 'f1 score') "
   ],
   "metadata": {
    "collapsed": false
   },
   "id": "110447e94ff7d70e",
   "execution_count": null
  },
  {
   "cell_type": "code",
   "outputs": [],
   "source": [
    "# stacked bar char of entities vs prompts\n",
    "# for NER -> tuple count; RE, NERRE -> Correct triplet count\n",
    "def generate_stacked_entity_graph(task_type, all_tasks=False):\n",
    "    temp_df = evaluation_df\n",
    "    if not all_tasks:\n",
    "        temp_df = evaluation_df[evaluation_df['task'] == task_type]\n",
    "    x1 = temp_df[\"prompt_id\"].tolist()\n",
    "    y1 = temp_df[\"extracted_tuples_or_triplets_per_prompt\"].tolist()\n",
    "    y2 = temp_df[\"tuple_or_triplet_hallucinations_per_prompt\"].tolist()\n",
    "    plt.bar(x1, y1, color=ruby)\n",
    "    plt.bar(x1, y2, bottom=y1, color=topaz)\n",
    "    plt.legend([\"Correct entity tuple/triplet count\", \"Hallucination count\"])\n",
    "    generic_chart(f'Correct and hallucinated entity tuple/triplet count vs prompts for {task_type}', 'prompts', 'Entity tuple/triplet count')"
   ],
   "metadata": {
    "collapsed": false
   },
   "id": "47ca6fdfa3ae3060",
   "execution_count": null
  },
  {
   "cell_type": "code",
   "outputs": [],
   "source": [
    "generate_stacked_entity_graph('NER')"
   ],
   "metadata": {
    "collapsed": false
   },
   "id": "7a88a5ce9a111f2e",
   "execution_count": null
  },
  {
   "cell_type": "code",
   "outputs": [],
   "source": [
    "generate_stacked_entity_graph('RE')"
   ],
   "metadata": {
    "collapsed": false
   },
   "id": "a32f9d1f759a8973",
   "execution_count": null
  },
  {
   "cell_type": "code",
   "outputs": [],
   "source": [
    "generate_stacked_entity_graph('NERRE')"
   ],
   "metadata": {
    "collapsed": false
   },
   "id": "b65515360751d6ce",
   "execution_count": null
  },
  {
   "cell_type": "code",
   "outputs": [],
   "source": [
    "generate_stacked_entity_graph('all', True)"
   ],
   "metadata": {
    "collapsed": false
   },
   "id": "fc55a836346da072",
   "execution_count": null
  },
  {
   "cell_type": "code",
   "outputs": [],
   "source": [
    "def generate_entity_count_graph(task_type, column_name, column_label, all_tasks=False):\n",
    "    temp_df = evaluation_df\n",
    "    if not all_tasks:\n",
    "        temp_df = evaluation_df[evaluation_df['task'] == task_type]\n",
    "    x1 = temp_df[\"prompt_id\"].tolist()\n",
    "    y1 = temp_df[column_name].tolist()\n",
    "    plt.bar(x1, y1, color=topaz)\n",
    "    generic_chart(f'{column_label} vs prompts for {task_type}', 'prompts', column_label)"
   ],
   "metadata": {
    "collapsed": false
   },
   "id": "98bfd3c7b76c9478",
   "execution_count": null
  },
  {
   "cell_type": "code",
   "outputs": [],
   "source": [
    "generate_entity_count_graph('NER', 'tuple_or_triplet_hallucinations_per_prompt', \"Hallucination count\")"
   ],
   "metadata": {
    "collapsed": false
   },
   "id": "9521096f4325b76c",
   "execution_count": null
  },
  {
   "cell_type": "code",
   "outputs": [],
   "source": [
    "generate_entity_count_graph('RE', 'tuple_or_triplet_hallucinations_per_prompt', \"Hallucination count\")"
   ],
   "metadata": {
    "collapsed": false
   },
   "id": "3ef746b91e722e8a",
   "execution_count": null
  },
  {
   "cell_type": "code",
   "outputs": [],
   "source": [
    "generate_entity_count_graph('NERRE', 'tuple_or_triplet_hallucinations_per_prompt', \"Hallucination count\")"
   ],
   "metadata": {
    "collapsed": false
   },
   "id": "e26b7cb532717f77",
   "execution_count": null
  },
  {
   "cell_type": "code",
   "outputs": [],
   "source": [
    "generate_entity_count_graph('all', 'tuple_or_triplet_hallucinations_per_prompt', \"Hallucination count\", True)"
   ],
   "metadata": {
    "collapsed": false
   },
   "id": "b880c29c56aedfc9",
   "execution_count": null
  },
  {
   "cell_type": "code",
   "outputs": [],
   "source": [
    "generate_entity_count_graph('all', 'true_positive', \"True positive count\", True)"
   ],
   "metadata": {
    "collapsed": false
   },
   "id": "2923380d81add154",
   "execution_count": null
  }
 ],
 "metadata": {
  "kernelspec": {
   "name": "python3",
   "language": "python",
   "display_name": "Python 3 (ipykernel)"
  }
 },
 "nbformat": 4,
 "nbformat_minor": 5
}
