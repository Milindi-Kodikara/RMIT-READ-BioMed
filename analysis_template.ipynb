{
 "cells": [
  {
   "cell_type": "markdown",
   "id": "99d3f660",
   "metadata": {},
   "source": [
    "### RMIT READ-BioMed-Version-2.0\n",
    "#### Milindi Kodikara : : Karin Verspoor\n",
    "Date : : 16th Sept 2024"
   ]
  },
  {
   "cell_type": "code",
   "outputs": [],
   "source": [
    "import pandas as pd\n",
    "import numpy as np\n",
    "import matplotlib.pyplot as plt\n",
    "%matplotlib inline\n",
    "\n",
    "plt.rcParams[\"figure.figsize\"] = (14, 10)\n",
    "plt.rcParams[\"figure.autolayout\"] = True\n",
    "\n",
    "opal = '#275c4d'\n",
    "ruby = '#af221d'\n",
    "topaz = '#c59103'"
   ],
   "metadata": {
    "collapsed": false
   },
   "id": "b4a368721804b4b1",
   "execution_count": null
  },
  {
   "cell_type": "code",
   "outputs": [],
   "source": [
    "dataset_details = pd.read_csv('./results/dataset_details/dataset_details.tsv', sep='\\t', header=0)\n",
    "\n",
    "dataset_details"
   ],
   "metadata": {
    "collapsed": false
   },
   "id": "99d0e4cd732b35b5",
   "execution_count": null
  },
  {
   "cell_type": "code",
   "outputs": [],
   "source": [
    "len(dataset_details)"
   ],
   "metadata": {
    "collapsed": false
   },
   "id": "958ec6f1e11ee4f7",
   "execution_count": null
  },
  {
   "cell_type": "code",
   "outputs": [],
   "source": [
    "gold_annotation_types = pd.read_csv('./results/dataset_details/gold_annotation_type_count.tsv', sep='\\t', header=0)\n",
    "\n",
    "gold_annotation_types"
   ],
   "metadata": {
    "collapsed": false
   },
   "id": "dc98ad07f7f43300",
   "execution_count": null
  },
  {
   "cell_type": "code",
   "outputs": [],
   "source": [
    "len(gold_annotation_types)"
   ],
   "metadata": {
    "collapsed": false
   },
   "id": "30bcdc6cc44efa7c",
   "execution_count": null
  },
  {
   "cell_type": "code",
   "outputs": [],
   "source": [
    "evaluation_df = pd.read_csv('./results/eval_log.tsv', sep='\t', header=0).sort_values(by=['prompt_id'])\n",
    "\n",
    "evaluation_df"
   ],
   "metadata": {
    "collapsed": false
   },
   "id": "7bf563762e69b1f8",
   "execution_count": null
  },
  {
   "cell_type": "code",
   "outputs": [],
   "source": [
    "len(evaluation_df)"
   ],
   "metadata": {
    "collapsed": false
   },
   "id": "b9353be8d58b9e54",
   "execution_count": null
  },
  {
   "cell_type": "code",
   "outputs": [],
   "source": [
    "def generic_chart(title, x_label, y_label):\n",
    "    plt.title(title)\n",
    "    plt.xlabel(x_label)\n",
    "    plt.ylabel(y_label)\n",
    "    plt.xticks(rotation=90)\n",
    "    plt.show()"
   ],
   "metadata": {
    "collapsed": false
   },
   "id": "e7bf9d4f455dd147",
   "execution_count": null
  },
  {
   "cell_type": "code",
   "outputs": [],
   "source": [
    "# generate multi bar graph\n",
    "def generate_evaluation_metrics(task_type, all_tasks=False):\n",
    "    temp_df = evaluation_df\n",
    "    if not all_tasks:\n",
    "        temp_df = evaluation_df[evaluation_df['task'] == task_type]\n",
    "\n",
    "    temp_df.plot(x=\"prompt_id\", y=[\"precision\", \"recall\", \"f1\"], kind=\"bar\", color=[opal, topaz, ruby]) \n",
    "    generic_chart(f'Evaluation metrics for {task_type}', 'Prompts', 'Value') \n",
    "    "
   ],
   "metadata": {
    "collapsed": false
   },
   "id": "27432474606a636a",
   "execution_count": null
  },
  {
   "cell_type": "code",
   "outputs": [],
   "source": [
    "# stacked bar char of entities vs prompts\n",
    "# for NER -> tuple count; RE, NERRE -> Correct triplet count\n",
    "def generate_stacked_entity_graph(task_type, all_tasks=False):\n",
    "    temp_df = evaluation_df\n",
    "    if not all_tasks:\n",
    "        temp_df = evaluation_df[evaluation_df['task'] == task_type]\n",
    "    x1 = temp_df[\"prompt_id\"].tolist()\n",
    "    y1 = temp_df[\"extracted_tuples_or_triplets_per_prompt\"].tolist()\n",
    "    y2 = temp_df[\"tuple_or_triplet_hallucinations_per_prompt\"].tolist()\n",
    "    plt.bar(x1, y1, color=ruby)\n",
    "    plt.bar(x1, y2, bottom=y1, color=topaz)\n",
    "    plt.legend([\"Extracted instances\", \"Hallucinated instances\"])\n",
    "    generic_chart(f'Instances (entities and relation tuples or triplets) against prompts for {task_type}', 'prompts', 'Instances')"
   ],
   "metadata": {
    "collapsed": false
   },
   "id": "47ca6fdfa3ae3060",
   "execution_count": null
  },
  {
   "cell_type": "code",
   "outputs": [],
   "source": [
    "def generate_entity_count_graph(task_type, column_name, column_label, all_tasks=False):\n",
    "    temp_df = evaluation_df\n",
    "    if not all_tasks:\n",
    "        temp_df = evaluation_df[evaluation_df['task'] == task_type]\n",
    "    x1 = temp_df[\"prompt_id\"].tolist()\n",
    "    y1 = temp_df[column_name].tolist()\n",
    "    plt.bar(x1, y1, color=topaz)\n",
    "    generic_chart(f'{column_label} vs prompts for {task_type}', 'prompts', column_label)"
   ],
   "metadata": {
    "collapsed": false
   },
   "id": "98bfd3c7b76c9478",
   "execution_count": null
  },
  {
   "cell_type": "code",
   "outputs": [],
   "source": [
    "def simple_bar_graph(task_type, x_col, y_col, x_label, y_label, all_tasks=False):\n",
    "    temp_df = evaluation_df\n",
    "    if not all_tasks:\n",
    "        temp_df = evaluation_df[evaluation_df['task'] == task_type]\n",
    "        \n",
    "    x = temp_df[x_col].tolist()\n",
    "    y = temp_df[y_col].tolist()\n",
    "    plt.bar(x, y, color=opal)\n",
    "    generic_chart(f'{y_label} vs {x_label} for {task_type}', x_label, y_label) "
   ],
   "metadata": {
    "collapsed": false
   },
   "id": "110447e94ff7d70e",
   "execution_count": null
  },
  {
   "cell_type": "markdown",
   "source": [
    "### Analysis"
   ],
   "metadata": {
    "collapsed": false
   },
   "id": "abc42d5f300f5c2e"
  },
  {
   "cell_type": "code",
   "outputs": [],
   "source": [
    "# F1, precision, recall for NER, RE, NERRE \n",
    "generate_evaluation_metrics('NER')\n",
    "generate_evaluation_metrics('RE')\n",
    "generate_evaluation_metrics('NERRE')"
   ],
   "metadata": {
    "collapsed": false
   },
   "id": "cea3fc36bf9cde65",
   "execution_count": null
  },
  {
   "cell_type": "code",
   "outputs": [],
   "source": [
    "# Hallucinations vs matched entities\n",
    "generate_stacked_entity_graph('NER')\n",
    "generate_stacked_entity_graph('RE')\n",
    "generate_stacked_entity_graph('NERRE')"
   ],
   "metadata": {
    "collapsed": false
   },
   "id": "34cf0aed94e40244",
   "execution_count": null
  },
  {
   "cell_type": "code",
   "outputs": [],
   "source": [
    "# true positives, false negatives, false positives, total extracted entities; false positive relations, false negative relations for each task\n",
    "# sub colours\n",
    "ruby_low = '#EACBBB'\n",
    "topaz_low = '#CBB17B'\n",
    "opal_low = '#AE9800'\n",
    "opal_lower = '#787122'\n",
    "\n",
    "temp_df = evaluation_df[evaluation_df['task'] == 'NER']\n",
    "\n",
    "temp_df.plot(x=\"prompt_id\", y=[\"true_positive\", \"false_positive\", \"false_negative\"], kind=\"bar\", color=[ruby, ruby_low, topaz_low]) \n",
    "generic_chart(f'Entity counts for NER', 'Prompts', 'Entity count') \n"
   ],
   "metadata": {
    "collapsed": false
   },
   "id": "941e508da54d65dd",
   "execution_count": null
  },
  {
   "cell_type": "code",
   "outputs": [],
   "source": [
    "temp_df = evaluation_df[evaluation_df['task'] == 'RE']\n",
    "\n",
    "temp_df.plot(x=\"prompt_id\", y=[\"true_positive\", \"false_positive\", \"false_negative\", \"false_positive_relations\", \"false_negative_relations\"], kind=\"bar\", color=[ruby, ruby_low, opal_low, opal_lower, topaz_low, ]) \n",
    "generic_chart(f'Entity and Relation counts for RE', 'Prompts', 'Entity/relation count') "
   ],
   "metadata": {
    "collapsed": false
   },
   "id": "f0758d1cee125dae",
   "execution_count": null
  },
  {
   "cell_type": "code",
   "outputs": [],
   "source": [
    "temp_df = evaluation_df[evaluation_df['task'] == 'NERRE']\n",
    "\n",
    "temp_df.plot(x=\"prompt_id\", y=[\"true_positive\", \"false_positive\", \"false_negative\", \"false_positive_relations\", \"false_negative_relations\"], kind=\"bar\", color=[ruby, ruby_low, opal_low, opal_lower, topaz_low, ]) \n",
    "generic_chart(f'Entity and Relation counts for NERRE', 'Prompts', 'Entity/relation count') "
   ],
   "metadata": {
    "collapsed": false
   },
   "id": "971bd052a16e8748",
   "execution_count": null
  }
 ],
 "metadata": {
  "kernelspec": {
   "name": "python3",
   "language": "python",
   "display_name": "Python 3 (ipykernel)"
  }
 },
 "nbformat": 4,
 "nbformat_minor": 5
}
