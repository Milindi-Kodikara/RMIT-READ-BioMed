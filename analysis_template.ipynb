{
 "cells": [
  {
   "cell_type": "markdown",
   "id": "99d3f660",
   "metadata": {},
   "source": [
    "#### RMIT READ-BioMed-Version-2.0\n",
    "### Milindi Kodikara"
   ]
  },
  {
   "cell_type": "code",
   "outputs": [],
   "source": [
    "import pandas as pd\n",
    "import numpy as np\n",
    "import matplotlib.pyplot as plt\n",
    "%matplotlib inline\n",
    "\n",
    "plt.rcParams[\"figure.figsize\"] = (14, 10)\n",
    "plt.rcParams[\"figure.autolayout\"] = True\n",
    "\n",
    "opal = '#275c4d'\n",
    "ruby = '#af221d'\n",
    "topaz = '#c59103'"
   ],
   "metadata": {
    "collapsed": false
   },
   "id": "b4a368721804b4b1",
   "execution_count": null
  },
  {
   "cell_type": "code",
   "outputs": [],
   "source": [
    "evaluation_df = pd.read_csv('./results/eval_log.tsv', sep='\t', header=0)\n",
    "evaluation_df.head()"
   ],
   "metadata": {
    "collapsed": false
   },
   "id": "7bf563762e69b1f8",
   "execution_count": null
  },
  {
   "cell_type": "code",
   "outputs": [],
   "source": [
    "def generic_chart(title, x_label, y_label):\n",
    "    plt.title(title)\n",
    "    plt.xlabel(x_label)\n",
    "    plt.ylabel(y_label)\n",
    "    plt.xticks(rotation=90)\n",
    "    plt.show()"
   ],
   "metadata": {
    "collapsed": false
   },
   "id": "e7bf9d4f455dd147",
   "execution_count": null
  },
  {
   "cell_type": "code",
   "outputs": [],
   "source": [
    "x = evaluation_df[\"prompt_id\"].tolist()\n",
    "y = evaluation_df[\"f1\"].tolist()\n",
    "plt.bar(x, y, color=opal)\n",
    "generic_chart('F1 score vs prompts', 'prompts', 'f1 score') "
   ],
   "metadata": {
    "collapsed": false
   },
   "id": "110447e94ff7d70e",
   "execution_count": null
  },
  {
   "cell_type": "code",
   "outputs": [],
   "source": [
    "# stacked bar char of entities vs prompts\n",
    "\n",
    "def generate_stacked_entity_graph(task_type):\n",
    "    temp_df = evaluation_df[evaluation_df['task'] == task_type]\n",
    "    x1 = temp_df[\"prompt_id\"].tolist()\n",
    "    y1 = temp_df[\"hallucination_count\"].tolist()\n",
    "    y2 = temp_df[\"correct_entity_count\"].tolist()\n",
    "    plt.bar(x1, y1, color=ruby)\n",
    "    plt.bar(x1, y2, bottom=y1, color=topaz)\n",
    "    plt.legend([\"Hallucination count\", \"Correct entity count\"])\n",
    "    generic_chart(f'Entity count vs prompts for {task_type}', 'prompts', 'Entity count')"
   ],
   "metadata": {
    "collapsed": false
   },
   "id": "47ca6fdfa3ae3060",
   "execution_count": null
  },
  {
   "cell_type": "code",
   "outputs": [],
   "source": [
    "generate_stacked_entity_graph('NER')"
   ],
   "metadata": {
    "collapsed": false
   },
   "id": "7a88a5ce9a111f2e",
   "execution_count": null
  },
  {
   "cell_type": "code",
   "outputs": [],
   "source": [
    "generate_stacked_entity_graph('RE')"
   ],
   "metadata": {
    "collapsed": false
   },
   "id": "a32f9d1f759a8973",
   "execution_count": null
  },
  {
   "cell_type": "code",
   "outputs": [],
   "source": [
    "generate_stacked_entity_graph('NERRE')"
   ],
   "metadata": {
    "collapsed": false
   },
   "id": "b65515360751d6ce",
   "execution_count": null
  },
  {
   "cell_type": "code",
   "outputs": [],
   "source": [
    "def generate_entity_count_graph(task_type, column_name, column_label):\n",
    "    temp_df = evaluation_df[evaluation_df['task'] == task_type]\n",
    "    x1 = temp_df[\"prompt_id\"].tolist()\n",
    "    y1 = temp_df[column_name].tolist()\n",
    "    plt.bar(x1, y1, color=topaz)\n",
    "    generic_chart(f'{column_label} vs prompts for {task_type}', 'prompts', column_label)"
   ],
   "metadata": {
    "collapsed": false
   },
   "id": "98bfd3c7b76c9478"
  },
  {
   "cell_type": "code",
   "outputs": [],
   "source": [
    "generate_entity_count_graph('NER', 'hallucination_count', \"Hallucination count\")"
   ],
   "metadata": {
    "collapsed": false
   },
   "id": "9521096f4325b76c"
  },
  {
   "cell_type": "code",
   "outputs": [],
   "source": [
    "generate_entity_count_graph('RE', 'hallucination_count', \"Hallucination count\")"
   ],
   "metadata": {
    "collapsed": false
   },
   "id": "3ef746b91e722e8a"
  },
  {
   "cell_type": "code",
   "outputs": [],
   "source": [
    "generate_entity_count_graph('NERRE', 'hallucination_count', \"Hallucination count\")"
   ],
   "metadata": {
    "collapsed": false
   },
   "id": "e26b7cb532717f77"
  }
 ],
 "metadata": {
  "kernelspec": {
   "name": "python3",
   "language": "python",
   "display_name": "Python 3 (ipykernel)"
  }
 },
 "nbformat": 4,
 "nbformat_minor": 5
}
