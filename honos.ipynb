{
 "cells": [
  {
   "cell_type": "markdown",
   "id": "0881c944-4aed-4da2-8e21-72412033c1ee",
   "metadata": {},
   "source": [
    "# NER using GPT-3.5\n",
    "\n",
    "### Project name: Honos\n",
    "Date: 24th May 2024\n",
    "\n",
    "Author: Milindi Kodikara | Supervisor: Professor Karin Verspoor"
   ]
  },
  {
   "cell_type": "markdown",
   "id": "0337bbac-21c4-45c9-b0ca-922bfbc97b72",
   "metadata": {},
   "source": [
    "\n",
    "Before running this notebook:\n",
    "1. [Install Jupyter notebook](https://jupyter.org/install) \n",
    "\n",
    "\n",
    "2. [Setting up Azure OpenAI model](https://learn.microsoft.com/en-us/azure/ai-services/openai/how-to/working-with-models?tabs=powershell#model-updates)\n",
    "\n",
    "\n",
    "3. [Setting up connection to GPT-3.5 using Azure OpenAI service](https://learn.microsoft.com/en-us/azure/ai-services/openai/quickstart?tabs=command-line%2Cpython-new&pivots=programming-language-python)\n",
    "        - In the Environment variables section, instead of doing what is outlined in the link, add the `API_KEY`, `API-VERSION`, `ENDPOINT` and `DEPLOYMENT-NAME` into a `.env` file in the root folder.\n",
    "        \n",
    "4. Add the correct filename paths for `data` in Step 1 and gold annotated data filename for the `evaluate()` function in Step 4. \n"
   ]
  },
  {
   "cell_type": "code",
   "execution_count": 1,
   "id": "a7f739ac-16fa-4a1b-9855-e8b89fdeb194",
   "metadata": {
    "ExecuteTime": {
     "end_time": "2024-05-23T06:07:33.407494Z",
     "start_time": "2024-05-23T06:07:32.476095Z"
    }
   },
   "outputs": [
    {
     "data": {
      "text/plain": "True"
     },
     "execution_count": 1,
     "metadata": {},
     "output_type": "execute_result"
    }
   ],
   "source": [
    "import pandas as pd\n",
    "import re\n",
    "\n",
    "import os\n",
    "from openai import AzureOpenAI\n",
    "\n",
    "from dotenv import load_dotenv\n",
    "load_dotenv() "
   ]
  },
  {
   "cell_type": "markdown",
   "id": "5d926f35-0054-4d89-bfda-b3d3d589dcc5",
   "metadata": {},
   "source": [
    "\n",
    "### Step 1: Load and pre-process data and prompt library "
   ]
  },
  {
   "cell_type": "markdown",
   "id": "44a7d5cb-7d77-449d-a3f1-bcfb1281883d",
   "metadata": {},
   "source": [
    "\n",
    "#### Step 1.1: Load datasets"
   ]
  },
  {
   "cell_type": "code",
   "execution_count": 2,
   "id": "1cc0a4e4-b5b7-441f-b99f-29e18f7ed302",
   "metadata": {
    "ExecuteTime": {
     "end_time": "2024-05-23T06:07:33.436606Z",
     "start_time": "2024-05-23T06:07:33.409222Z"
    }
   },
   "outputs": [
    {
     "data": {
      "text/plain": "       pmid           filename  \\\n0  12672033  pmid-12672033.txt   \n1  12673366  pmid-12673366.txt   \n2  12701064  pmid-12701064.txt   \n3  12716337  pmid-12716337.txt   \n4  12719097  pmid-12719097.txt   \n\n                                                text  \n0  12672033|t|Análisis de mutaciones en DMBT1 en ...  \n1  12673366|t|Análisis del polimorfismo G/C en la...  \n2  12701064|t|Una nueva mutación compuesta hetero...  \n3  12716337|t|Polimorfismo en la posición -174 de...  \n4  12719097|t|Una nueva mutación en CACNA1F en un...  ",
      "text/html": "<div>\n<style scoped>\n    .dataframe tbody tr th:only-of-type {\n        vertical-align: middle;\n    }\n\n    .dataframe tbody tr th {\n        vertical-align: top;\n    }\n\n    .dataframe thead th {\n        text-align: right;\n    }\n</style>\n<table border=\"1\" class=\"dataframe\">\n  <thead>\n    <tr style=\"text-align: right;\">\n      <th></th>\n      <th>pmid</th>\n      <th>filename</th>\n      <th>text</th>\n    </tr>\n  </thead>\n  <tbody>\n    <tr>\n      <th>0</th>\n      <td>12672033</td>\n      <td>pmid-12672033.txt</td>\n      <td>12672033|t|Análisis de mutaciones en DMBT1 en ...</td>\n    </tr>\n    <tr>\n      <th>1</th>\n      <td>12673366</td>\n      <td>pmid-12673366.txt</td>\n      <td>12673366|t|Análisis del polimorfismo G/C en la...</td>\n    </tr>\n    <tr>\n      <th>2</th>\n      <td>12701064</td>\n      <td>pmid-12701064.txt</td>\n      <td>12701064|t|Una nueva mutación compuesta hetero...</td>\n    </tr>\n    <tr>\n      <th>3</th>\n      <td>12716337</td>\n      <td>pmid-12716337.txt</td>\n      <td>12716337|t|Polimorfismo en la posición -174 de...</td>\n    </tr>\n    <tr>\n      <th>4</th>\n      <td>12719097</td>\n      <td>pmid-12719097.txt</td>\n      <td>12719097|t|Una nueva mutación en CACNA1F en un...</td>\n    </tr>\n  </tbody>\n</table>\n</div>"
     },
     "execution_count": 2,
     "metadata": {},
     "output_type": "execute_result"
    }
   ],
   "source": [
    "# train_text.tsv\n",
    "# pmid\\tfilename\\ttext\n",
    "\n",
    "# TODO: Replace filepath for related data file\n",
    "data = pd.read_csv(\"./genovardis_train_dev/train_text.tsv\", sep='\\t', header=0)\n",
    "\n",
    "data.head(5)"
   ]
  },
  {
   "cell_type": "code",
   "outputs": [
    {
     "data": {
      "text/plain": "427"
     },
     "execution_count": 3,
     "metadata": {},
     "output_type": "execute_result"
    }
   ],
   "source": [
    "len(data)"
   ],
   "metadata": {
    "collapsed": false,
    "ExecuteTime": {
     "end_time": "2024-05-23T06:07:33.440435Z",
     "start_time": "2024-05-23T06:07:33.437596Z"
    }
   },
   "id": "4c170e2b03454265",
   "execution_count": 3
  },
  {
   "cell_type": "code",
   "outputs": [
    {
     "data": {
      "text/plain": "       pmid           filename  \\\n0  12672033  pmid-12672033.txt   \n1  12673366  pmid-12673366.txt   \n\n                                                text  \n0  12672033|t|Análisis de mutaciones en DMBT1 en ...  \n1  12673366|t|Análisis del polimorfismo G/C en la...  ",
      "text/html": "<div>\n<style scoped>\n    .dataframe tbody tr th:only-of-type {\n        vertical-align: middle;\n    }\n\n    .dataframe tbody tr th {\n        vertical-align: top;\n    }\n\n    .dataframe thead th {\n        text-align: right;\n    }\n</style>\n<table border=\"1\" class=\"dataframe\">\n  <thead>\n    <tr style=\"text-align: right;\">\n      <th></th>\n      <th>pmid</th>\n      <th>filename</th>\n      <th>text</th>\n    </tr>\n  </thead>\n  <tbody>\n    <tr>\n      <th>0</th>\n      <td>12672033</td>\n      <td>pmid-12672033.txt</td>\n      <td>12672033|t|Análisis de mutaciones en DMBT1 en ...</td>\n    </tr>\n    <tr>\n      <th>1</th>\n      <td>12673366</td>\n      <td>pmid-12673366.txt</td>\n      <td>12673366|t|Análisis del polimorfismo G/C en la...</td>\n    </tr>\n  </tbody>\n</table>\n</div>"
     },
     "execution_count": 4,
     "metadata": {},
     "output_type": "execute_result"
    }
   ],
   "source": [
    "# TODO: remove this after testing\n",
    "data = data.head(2)\n",
    "\n",
    "data"
   ],
   "metadata": {
    "collapsed": false,
    "ExecuteTime": {
     "end_time": "2024-05-23T06:07:33.447136Z",
     "start_time": "2024-05-23T06:07:33.442077Z"
    }
   },
   "id": "be60d3202a45483d",
   "execution_count": 4
  },
  {
   "cell_type": "code",
   "outputs": [
    {
     "data": {
      "text/plain": "       pmid           filename  \\\n0  12672033  pmid-12672033.txt   \n1  12673366  pmid-12673366.txt   \n\n                                                text  \n0  Análisis de mutaciones en DMBT1 en glioblastom...  \n1  Análisis del polimorfismo G/C en la región no ...  ",
      "text/html": "<div>\n<style scoped>\n    .dataframe tbody tr th:only-of-type {\n        vertical-align: middle;\n    }\n\n    .dataframe tbody tr th {\n        vertical-align: top;\n    }\n\n    .dataframe thead th {\n        text-align: right;\n    }\n</style>\n<table border=\"1\" class=\"dataframe\">\n  <thead>\n    <tr style=\"text-align: right;\">\n      <th></th>\n      <th>pmid</th>\n      <th>filename</th>\n      <th>text</th>\n    </tr>\n  </thead>\n  <tbody>\n    <tr>\n      <th>0</th>\n      <td>12672033</td>\n      <td>pmid-12672033.txt</td>\n      <td>Análisis de mutaciones en DMBT1 en glioblastom...</td>\n    </tr>\n    <tr>\n      <th>1</th>\n      <td>12673366</td>\n      <td>pmid-12673366.txt</td>\n      <td>Análisis del polimorfismo G/C en la región no ...</td>\n    </tr>\n  </tbody>\n</table>\n</div>"
     },
     "execution_count": 5,
     "metadata": {},
     "output_type": "execute_result"
    }
   ],
   "source": [
    "# clean up text by removing the appended pmid and title abstract tags at the start of each section\n",
    "\n",
    "pattern = '(?:[\\d]{1,10}\\|t\\|)(?P<title>[\\w\\W]+)(?:\\\\n[\\d]{1,20}\\|a\\|)(?P<abstract>[\\w\\W]+)'\n",
    "\n",
    "def clean_text(text):\n",
    "    matches = re.search(pattern, text)\n",
    "    reformatted_text = f'{matches.group(\"title\")}\\n{matches.group(\"abstract\")}'\n",
    "    return reformatted_text\n",
    "\n",
    "data['text'] = [clean_text(text) for text in data['text']]\n",
    "\n",
    "\n",
    "data"
   ],
   "metadata": {
    "collapsed": false,
    "ExecuteTime": {
     "end_time": "2024-05-23T06:07:33.454965Z",
     "start_time": "2024-05-23T06:07:33.448619Z"
    }
   },
   "id": "b95fb5318ed345a8",
   "execution_count": 5
  },
  {
   "cell_type": "code",
   "outputs": [
    {
     "data": {
      "text/plain": "2"
     },
     "execution_count": 6,
     "metadata": {},
     "output_type": "execute_result"
    }
   ],
   "source": [
    "len(data)"
   ],
   "metadata": {
    "collapsed": false,
    "ExecuteTime": {
     "end_time": "2024-05-23T06:07:33.459160Z",
     "start_time": "2024-05-23T06:07:33.455974Z"
    }
   },
   "id": "4538b77133430eb0",
   "execution_count": 6
  },
  {
   "cell_type": "markdown",
   "source": [
    "\n",
    "#### Step 1.2: Load prompt library\n",
    "\n",
    "Prompt id structure:\n",
    "`p_<index>_<task>_<language>_<output>`\n",
    "\n",
    "TODO: Figure out `<guideline>_<paradigm>`"
   ],
   "metadata": {},
   "id": "da74db47-221a-40f1-9e02-2fd68220b367"
  },
  {
   "cell_type": "code",
   "outputs": [
    {
     "data": {
      "text/plain": "           prompt_id                                        instruction  \\\n0  p_001_ner_en_json  Target: Find the gene and disease entities in ...   \n1  p_002_ner_es_json  Objetivo: encontrar las entidades genéticas y ...   \n\n       text  \n0  Text: {}  \n1  Text: {}  ",
      "text/html": "<div>\n<style scoped>\n    .dataframe tbody tr th:only-of-type {\n        vertical-align: middle;\n    }\n\n    .dataframe tbody tr th {\n        vertical-align: top;\n    }\n\n    .dataframe thead th {\n        text-align: right;\n    }\n</style>\n<table border=\"1\" class=\"dataframe\">\n  <thead>\n    <tr style=\"text-align: right;\">\n      <th></th>\n      <th>prompt_id</th>\n      <th>instruction</th>\n      <th>text</th>\n    </tr>\n  </thead>\n  <tbody>\n    <tr>\n      <th>0</th>\n      <td>p_001_ner_en_json</td>\n      <td>Target: Find the gene and disease entities in ...</td>\n      <td>Text: {}</td>\n    </tr>\n    <tr>\n      <th>1</th>\n      <td>p_002_ner_es_json</td>\n      <td>Objetivo: encontrar las entidades genéticas y ...</td>\n      <td>Text: {}</td>\n    </tr>\n  </tbody>\n</table>\n</div>"
     },
     "execution_count": 7,
     "metadata": {},
     "output_type": "execute_result"
    }
   ],
   "source": [
    "prompt_library = pd.read_json('prompts.json')\n",
    "\n",
    "prompt_library"
   ],
   "metadata": {
    "ExecuteTime": {
     "end_time": "2024-05-23T06:07:33.469318Z",
     "start_time": "2024-05-23T06:07:33.460315Z"
    }
   },
   "id": "fb1d18f8-110f-4981-bc3a-40c417cb490a",
   "execution_count": 7
  },
  {
   "cell_type": "markdown",
   "source": [
    "\n",
    "#### Step 1.3: Create data+prompt dataset"
   ],
   "metadata": {},
   "id": "7e17606d-7a57-4044-94b3-ef4b802af0f4"
  },
  {
   "cell_type": "code",
   "outputs": [],
   "source": [
    "# TODO: Buff up the prompts with guidelines and examples (shots)\n",
    "# pmid prompt_id embedded_prompt\n",
    "def embed_data_in_prompts(row_data):\n",
    "    prompts = []\n",
    "    pmid = row_data['pmid']\n",
    "    data_text = row_data['text']\n",
    "    \n",
    "    for index, row_prompt in prompt_library.iterrows():\n",
    "        instruction = row_prompt['instruction']\n",
    "        prompt_text = row_prompt['text'].format(data_text)\n",
    "        # TODO: Figure out the new line characters \n",
    "        concatenated_prompt = '{}\\n\"{}\"'.format(instruction, prompt_text)\n",
    "        \n",
    "        prompt = {'prompt_id': row_prompt['prompt_id'], 'prompt': concatenated_prompt}\n",
    "        prompts.append(prompt)\n",
    "    \n",
    "    return {'pmid': pmid, 'prompts': prompts}\n"
   ],
   "metadata": {
    "ExecuteTime": {
     "end_time": "2024-05-23T06:07:33.474408Z",
     "start_time": "2024-05-23T06:07:33.470302Z"
    }
   },
   "id": "6dc0bb8a-f112-432c-aee1-335dbf175970",
   "execution_count": 8
  },
  {
   "cell_type": "code",
   "outputs": [],
   "source": [
    "\n",
    "embedded_prompt_data_list = [embed_data_in_prompts(row_data) for index, row_data in data.iterrows()]"
   ],
   "metadata": {
    "collapsed": false,
    "ExecuteTime": {
     "end_time": "2024-05-23T06:07:33.478452Z",
     "start_time": "2024-05-23T06:07:33.475529Z"
    }
   },
   "id": "2e3fd79116cffa1c",
   "execution_count": 9
  },
  {
   "cell_type": "code",
   "outputs": [
    {
     "data": {
      "text/plain": "{'pmid': 12672033,\n 'prompts': [{'prompt_id': 'p_001_ner_en_json',\n   'prompt': 'Target: Find the gene and disease entities in the provided spanish language text. Display the results in JSON tuples with \\'label\\' attribute for identified entity type as either gene or disease and \\'span\\' for identified entities.\\n\"Text: Análisis de mutaciones en DMBT1 en glioblastoma, meduloblastoma y tumores oligodendrogliales\\nDMBT1 ha sido implicado como un posible gen supresor de tumores en el cromosoma 10q en cáncer de cerebro, gastrointestinal y pulmón. La deleción homocigota y la falta de expresión son dos mecanismos conocidos para la inactivación de DMBT1. Evaluamos si la mutación somática, que representa un mecanismo importante de inactivación para la mayoría de los genes supresores de tumores, ocurre en el gen DMBT1. Se analizaron un total de 102 tumores cerebrales primarios, que consistían en 25 glioblastomas multiforme, 24 meduloblastomas y 53 tumores oligodendrogliales, mediante electroforesis en gel sensible a la conformación en los 54 exones codificantes de DMBT1. Se detectaron doce sustituciones de bases diferentes en 26 (25%) tumores. Ocho sustituciones de bases resultaron en cambios de aminoácidos y 4 fueron silenciosas. Sin embargo, estos cambios de bases también se detectaron en muestras de sangre emparejadas con los tumores, lo que indica que las variaciones de bases representan polimorfismos genéticos. También evaluamos las deleciones homocigotas del gen DMBT1 en la serie y encontramos que 16 de 95 (5 glioblastomas, 5 meduloblastomas, 6 tumores oligodendrogliales; total 17%) tumores presentan esta alteración. Se disponía de muestras de ADN de alta calidad de sangre en 5 tumores con deleción homocigota y, mediante PCR de largo alcance, se encontró que 3 de estas muestras de sangre presentaban deleciones hemizigotas germinales en una región entre los intrones 10 y 26 de DMBT1. Nuestros resultados mostraron que la mutación no juega un papel en la inactivación de DMBT1 en tumores cerebrales. La deleción homocigota intragénica de DMBT1 es común en tumores cerebrales y probablemente es el resultado de una deleción germinativa de un alelo seguida de la pérdida del segundo alelo durante el desarrollo del tumor.\\n\"'},\n  {'prompt_id': 'p_002_ner_es_json',\n   'prompt': 'Objetivo: encontrar las entidades genéticas y patológicas en el texto en español proporcionado. Muestre los resultados en tuplas JSON con el atributo \\'label\\' para el tipo de entidad identificada como gen o enfermedad y \\'span\\' para entidades identificadas.\\n\"Text: Análisis de mutaciones en DMBT1 en glioblastoma, meduloblastoma y tumores oligodendrogliales\\nDMBT1 ha sido implicado como un posible gen supresor de tumores en el cromosoma 10q en cáncer de cerebro, gastrointestinal y pulmón. La deleción homocigota y la falta de expresión son dos mecanismos conocidos para la inactivación de DMBT1. Evaluamos si la mutación somática, que representa un mecanismo importante de inactivación para la mayoría de los genes supresores de tumores, ocurre en el gen DMBT1. Se analizaron un total de 102 tumores cerebrales primarios, que consistían en 25 glioblastomas multiforme, 24 meduloblastomas y 53 tumores oligodendrogliales, mediante electroforesis en gel sensible a la conformación en los 54 exones codificantes de DMBT1. Se detectaron doce sustituciones de bases diferentes en 26 (25%) tumores. Ocho sustituciones de bases resultaron en cambios de aminoácidos y 4 fueron silenciosas. Sin embargo, estos cambios de bases también se detectaron en muestras de sangre emparejadas con los tumores, lo que indica que las variaciones de bases representan polimorfismos genéticos. También evaluamos las deleciones homocigotas del gen DMBT1 en la serie y encontramos que 16 de 95 (5 glioblastomas, 5 meduloblastomas, 6 tumores oligodendrogliales; total 17%) tumores presentan esta alteración. Se disponía de muestras de ADN de alta calidad de sangre en 5 tumores con deleción homocigota y, mediante PCR de largo alcance, se encontró que 3 de estas muestras de sangre presentaban deleciones hemizigotas germinales en una región entre los intrones 10 y 26 de DMBT1. Nuestros resultados mostraron que la mutación no juega un papel en la inactivación de DMBT1 en tumores cerebrales. La deleción homocigota intragénica de DMBT1 es común en tumores cerebrales y probablemente es el resultado de una deleción germinativa de un alelo seguida de la pérdida del segundo alelo durante el desarrollo del tumor.\\n\"'}]}"
     },
     "execution_count": 10,
     "metadata": {},
     "output_type": "execute_result"
    }
   ],
   "source": [
    "embedded_prompt_data_list[0]"
   ],
   "metadata": {
    "collapsed": false,
    "ExecuteTime": {
     "end_time": "2024-05-23T06:07:33.484316Z",
     "start_time": "2024-05-23T06:07:33.481132Z"
    }
   },
   "id": "5905c131cf4c8e7b",
   "execution_count": 10
  },
  {
   "cell_type": "markdown",
   "id": "eac6e4d1-bfb4-4c90-8b7b-d0ffc71d6313",
   "metadata": {},
   "source": [
    "\n",
    "### Step 2: Setting up GPT-3.5"
   ]
  },
  {
   "cell_type": "code",
   "execution_count": 11,
   "id": "9bac339d-8467-4651-bc3f-72faa835033b",
   "metadata": {
    "ExecuteTime": {
     "end_time": "2024-05-23T06:07:33.530480Z",
     "start_time": "2024-05-23T06:07:33.485269Z"
    }
   },
   "outputs": [],
   "source": [
    "\n",
    "client = AzureOpenAI(\n",
    "    api_key=os.environ[\"API-KEY\"],  \n",
    "    api_version=os.environ[\"API-VERSION\"],\n",
    "    azure_endpoint=os.environ[\"ENDPOINT\"]\n",
    "    )\n",
    "    \n",
    "deployment_name=os.environ[\"DEPLOYMENT-NAME\"]\n"
   ]
  },
  {
   "cell_type": "code",
   "outputs": [
    {
     "name": "stdout",
     "output_type": "stream",
     "text": [
      "Hello! How can I assist you today?\n"
     ]
    }
   ],
   "source": [
    "# Testing the connection\n",
    "test_response = client.chat.completions.create(model=deployment_name, messages=[{\"role\": \"user\", \"content\": \"Hello, World!\"}])\n",
    "print(test_response.choices[0].message.content)"
   ],
   "metadata": {
    "collapsed": false,
    "ExecuteTime": {
     "end_time": "2024-05-23T06:07:34.282686Z",
     "start_time": "2024-05-23T06:07:33.531772Z"
    }
   },
   "id": "efd39ba90dcb4d0b",
   "execution_count": 12
  },
  {
   "cell_type": "code",
   "outputs": [],
   "source": [
    "# TODO: Ask Karin whether we should run again and again to see what gpt generates\n",
    "results_list = []\n",
    "def generate_results(prompt_items):\n",
    "    \n",
    "    pmid = prompt_items['pmid']\n",
    "    \n",
    "    for prompt_item in prompt_items['prompts']:\n",
    "    \n",
    "        prompt_id = prompt_item['prompt_id']\n",
    "        prompt = prompt_item['prompt']\n",
    "\n",
    "        response = client.chat.completions.create(model=deployment_name, messages=[{\"role\": \"user\", \"content\": prompt}])\n",
    "        \n",
    "        results_list.append({'pmid': pmid, 'prompt_id': prompt_id, 'result': response.choices[0].message.content.replace('\\r', '').replace('\\n', '')})\n",
    "    \n",
    "        print(f'Prompt:\\n{prompt}\\n\\nResponse:\\n{response.choices[0].message.content} \\n----------\\n')\n",
    "    \n",
    "    return results_list\n",
    "    "
   ],
   "metadata": {
    "collapsed": false,
    "ExecuteTime": {
     "end_time": "2024-05-23T06:07:34.289095Z",
     "start_time": "2024-05-23T06:07:34.284282Z"
    }
   },
   "id": "b71f8c1697ad95c",
   "execution_count": 13
  },
  {
   "cell_type": "code",
   "outputs": [
    {
     "name": "stdout",
     "output_type": "stream",
     "text": [
      "Prompt:\n",
      "Target: Find the gene and disease entities in the provided spanish language text. Display the results in JSON tuples with 'label' attribute for identified entity type as either gene or disease and 'span' for identified entities.\n",
      "\"Text: Análisis de mutaciones en DMBT1 en glioblastoma, meduloblastoma y tumores oligodendrogliales\n",
      "DMBT1 ha sido implicado como un posible gen supresor de tumores en el cromosoma 10q en cáncer de cerebro, gastrointestinal y pulmón. La deleción homocigota y la falta de expresión son dos mecanismos conocidos para la inactivación de DMBT1. Evaluamos si la mutación somática, que representa un mecanismo importante de inactivación para la mayoría de los genes supresores de tumores, ocurre en el gen DMBT1. Se analizaron un total de 102 tumores cerebrales primarios, que consistían en 25 glioblastomas multiforme, 24 meduloblastomas y 53 tumores oligodendrogliales, mediante electroforesis en gel sensible a la conformación en los 54 exones codificantes de DMBT1. Se detectaron doce sustituciones de bases diferentes en 26 (25%) tumores. Ocho sustituciones de bases resultaron en cambios de aminoácidos y 4 fueron silenciosas. Sin embargo, estos cambios de bases también se detectaron en muestras de sangre emparejadas con los tumores, lo que indica que las variaciones de bases representan polimorfismos genéticos. También evaluamos las deleciones homocigotas del gen DMBT1 en la serie y encontramos que 16 de 95 (5 glioblastomas, 5 meduloblastomas, 6 tumores oligodendrogliales; total 17%) tumores presentan esta alteración. Se disponía de muestras de ADN de alta calidad de sangre en 5 tumores con deleción homocigota y, mediante PCR de largo alcance, se encontró que 3 de estas muestras de sangre presentaban deleciones hemizigotas germinales en una región entre los intrones 10 y 26 de DMBT1. Nuestros resultados mostraron que la mutación no juega un papel en la inactivación de DMBT1 en tumores cerebrales. La deleción homocigota intragénica de DMBT1 es común en tumores cerebrales y probablemente es el resultado de una deleción germinativa de un alelo seguida de la pérdida del segundo alelo durante el desarrollo del tumor.\n",
      "\"\n",
      "\n",
      "Response:\n",
      "{\n",
      "  \"entities\": [\n",
      "    {\n",
      "      \"label\": \"gene\",\n",
      "      \"span\": \"DMBT1\"\n",
      "    },\n",
      "    {\n",
      "      \"label\": \"disease\",\n",
      "      \"span\": \"glioblastoma\"\n",
      "    },\n",
      "    {\n",
      "      \"label\": \"disease\",\n",
      "      \"span\": \"meduloblastoma\"\n",
      "    },\n",
      "    {\n",
      "      \"label\": \"disease\",\n",
      "      \"span\": \"tumores oligodendrogliales\"\n",
      "    },\n",
      "    {\n",
      "      \"label\": \"disease\",\n",
      "      \"span\": \"cáncer de cerebro\"\n",
      "    },\n",
      "    {\n",
      "      \"label\": \"disease\",\n",
      "      \"span\": \"gastrointestinal\"\n",
      "    },\n",
      "    {\n",
      "      \"label\": \"disease\",\n",
      "      \"span\": \"pulmón\"\n",
      "    }\n",
      "  ]\n",
      "} \n",
      "----------\n",
      "Prompt:\n",
      "Objetivo: encontrar las entidades genéticas y patológicas en el texto en español proporcionado. Muestre los resultados en tuplas JSON con el atributo 'label' para el tipo de entidad identificada como gen o enfermedad y 'span' para entidades identificadas.\n",
      "\"Text: Análisis de mutaciones en DMBT1 en glioblastoma, meduloblastoma y tumores oligodendrogliales\n",
      "DMBT1 ha sido implicado como un posible gen supresor de tumores en el cromosoma 10q en cáncer de cerebro, gastrointestinal y pulmón. La deleción homocigota y la falta de expresión son dos mecanismos conocidos para la inactivación de DMBT1. Evaluamos si la mutación somática, que representa un mecanismo importante de inactivación para la mayoría de los genes supresores de tumores, ocurre en el gen DMBT1. Se analizaron un total de 102 tumores cerebrales primarios, que consistían en 25 glioblastomas multiforme, 24 meduloblastomas y 53 tumores oligodendrogliales, mediante electroforesis en gel sensible a la conformación en los 54 exones codificantes de DMBT1. Se detectaron doce sustituciones de bases diferentes en 26 (25%) tumores. Ocho sustituciones de bases resultaron en cambios de aminoácidos y 4 fueron silenciosas. Sin embargo, estos cambios de bases también se detectaron en muestras de sangre emparejadas con los tumores, lo que indica que las variaciones de bases representan polimorfismos genéticos. También evaluamos las deleciones homocigotas del gen DMBT1 en la serie y encontramos que 16 de 95 (5 glioblastomas, 5 meduloblastomas, 6 tumores oligodendrogliales; total 17%) tumores presentan esta alteración. Se disponía de muestras de ADN de alta calidad de sangre en 5 tumores con deleción homocigota y, mediante PCR de largo alcance, se encontró que 3 de estas muestras de sangre presentaban deleciones hemizigotas germinales en una región entre los intrones 10 y 26 de DMBT1. Nuestros resultados mostraron que la mutación no juega un papel en la inactivación de DMBT1 en tumores cerebrales. La deleción homocigota intragénica de DMBT1 es común en tumores cerebrales y probablemente es el resultado de una deleción germinativa de un alelo seguida de la pérdida del segundo alelo durante el desarrollo del tumor.\n",
      "\"\n",
      "\n",
      "Response:\n",
      "[\n",
      "    {\n",
      "        \"label\": \"gen\",\n",
      "        \"span\": \"DMBT1\"\n",
      "    },\n",
      "    {\n",
      "        \"label\": \"patología\",\n",
      "        \"span\": \"glioblastoma\"\n",
      "    },\n",
      "    {\n",
      "        \"label\": \"patología\",\n",
      "        \"span\": \"meduloblastoma\"\n",
      "    },\n",
      "    {\n",
      "        \"label\": \"patología\",\n",
      "        \"span\": \"tumores oligodendrogliales\"\n",
      "    },\n",
      "    {\n",
      "        \"label\": \"patología\",\n",
      "        \"span\": \"cáncer de cerebro\"\n",
      "    },\n",
      "    {\n",
      "        \"label\": \"patología\",\n",
      "        \"span\": \"gastrointestinal\"\n",
      "    },\n",
      "    {\n",
      "        \"label\": \"patología\",\n",
      "        \"span\": \"pulmón\"\n",
      "    },\n",
      "    {\n",
      "        \"label\": \"gen\",\n",
      "        \"span\": \"cromosoma 10q\"\n",
      "    },\n",
      "    {\n",
      "        \"label\": \"gen\",\n",
      "        \"span\": \"genes supresores de tumores\"\n",
      "    }\n",
      "] \n",
      "----------\n",
      "Prompt:\n",
      "Target: Find the gene and disease entities in the provided spanish language text. Display the results in JSON tuples with 'label' attribute for identified entity type as either gene or disease and 'span' for identified entities.\n",
      "\"Text: Análisis del polimorfismo G/C en la región no traducida 5' del gen RAD51 en cáncer de mama.\n",
      "Las proteínas supresoras del cáncer de mama BRCA1 y BRCA2 interactúan con RAD51, una proteína esencial para mantener la estabilidad genómica al desempeñar un papel central en la reparación recombinacional dependiente de la homología de las roturas de doble cadena del ADN. Por lo tanto, la variabilidad genética en el gen RAD51 puede contribuir a la aparición y/o progresión del cáncer de mama. Se ha informado que un polimorfismo de nucleótido único en la región no traducida 5' de RAD51 (una sustitución G por C en la posición 135, el polimorfismo G/C) modula el riesgo de cáncer de mama. Investigamos la distribución de genotipos y frecuencia de alelos del polimorfismo G/C en cáncer de mama. Se obtuvieron muestras de tejido tumoral de mujeres posmenopáusicas con carcinoma de mama sin ganglios linfáticos afectados y con ganglios linfáticos afectados con tamaño uniforme del tumor. Las muestras de sangre de mujeres sanas de la misma edad sirvieron como control. El polimorfismo G/C se determinó mediante polimorfismo de longitud de fragmentos de restricción basado en PCR con MvaI. La distribución de los genotipos del polimorfismo G/C no difirió significativamente (P > 0,05) de los predichos por la distribución de Hardy-Weinberg. No hubo diferencias en la distribución de genotipos y frecuencias de alelos entre pacientes con ganglios linfáticos afectados y sin afectar. No hubo diferencias significativas entre las distribuciones de los genotipos en subgrupos asignados a grados histológicos según los criterios de Scarf-Bloom-Richardson y la distribución predicha por el equilibrio de Hardy-Weinberg (P > 0,05). Nuestro estudio sugiere que el polimorfismo G/C del gen RAD51 puede no estar directamente involucrado en el desarrollo y/o progresión del cáncer de mama y, por lo tanto, puede no ser útil como marcador independiente en esta enfermedad.\n",
      "\"\n",
      "\n",
      "Response:\n",
      "{\"entities\": [{\"label\": \"gene\", \"span\": \"gen RAD51\"}, {\"label\": \"disease\", \"span\": \"cáncer de mama\"}, {\"label\": \"gene\", \"span\": \"BRCA1\"}, {\"label\": \"gene\", \"span\": \"BRCA2\"}, {\"label\": \"gene\", \"span\": \"RAD51\"}, {\"label\": \"disease\", \"span\": \"cáncer...morfismo G/C\"}, {\"label\": \"gene\", \"span\": \"RAD51\"}, {\"label\": \"disease\", \"span\": \"cáncer de mama\"}, {\"label\": \"gene\", \"span\": \"Hardy-Weinberg\"}, {\"label\": \"disease\", \"span\": \"cáncer de mama\"}, {\"label\": \"gene\", \"span\": \"RAD51\"}, {\"label\": \"disease\",... \n",
      "----------\n",
      "Prompt:\n",
      "Objetivo: encontrar las entidades genéticas y patológicas en el texto en español proporcionado. Muestre los resultados en tuplas JSON con el atributo 'label' para el tipo de entidad identificada como gen o enfermedad y 'span' para entidades identificadas.\n",
      "\"Text: Análisis del polimorfismo G/C en la región no traducida 5' del gen RAD51 en cáncer de mama.\n",
      "Las proteínas supresoras del cáncer de mama BRCA1 y BRCA2 interactúan con RAD51, una proteína esencial para mantener la estabilidad genómica al desempeñar un papel central en la reparación recombinacional dependiente de la homología de las roturas de doble cadena del ADN. Por lo tanto, la variabilidad genética en el gen RAD51 puede contribuir a la aparición y/o progresión del cáncer de mama. Se ha informado que un polimorfismo de nucleótido único en la región no traducida 5' de RAD51 (una sustitución G por C en la posición 135, el polimorfismo G/C) modula el riesgo de cáncer de mama. Investigamos la distribución de genotipos y frecuencia de alelos del polimorfismo G/C en cáncer de mama. Se obtuvieron muestras de tejido tumoral de mujeres posmenopáusicas con carcinoma de mama sin ganglios linfáticos afectados y con ganglios linfáticos afectados con tamaño uniforme del tumor. Las muestras de sangre de mujeres sanas de la misma edad sirvieron como control. El polimorfismo G/C se determinó mediante polimorfismo de longitud de fragmentos de restricción basado en PCR con MvaI. La distribución de los genotipos del polimorfismo G/C no difirió significativamente (P > 0,05) de los predichos por la distribución de Hardy-Weinberg. No hubo diferencias en la distribución de genotipos y frecuencias de alelos entre pacientes con ganglios linfáticos afectados y sin afectar. No hubo diferencias significativas entre las distribuciones de los genotipos en subgrupos asignados a grados histológicos según los criterios de Scarf-Bloom-Richardson y la distribución predicha por el equilibrio de Hardy-Weinberg (P > 0,05). Nuestro estudio sugiere que el polimorfismo G/C del gen RAD51 puede no estar directamente involucrado en el desarrollo y/o progresión del cáncer de mama y, por lo tanto, puede no ser útil como marcador independiente en esta enfermedad.\n",
      "\"\n",
      "\n",
      "Response:\n",
      "{\n",
      "  \"entities\": [\n",
      "    {\n",
      "      \"label\": \"gen\",\n",
      "      \"span\": \"RAD51\"\n",
      "    },\n",
      "    {\n",
      "      \"label\": \"enfermedad\",\n",
      "      \"span\": \"cáncer de mama\"\n",
      "    },\n",
      "    {\n",
      "      \"label\": \"gen\",\n",
      "      \"span\": \"BRCA1\"\n",
      "    },\n",
      "    {\n",
      "      \"label\": \"gen\",\n",
      "      \"span\": \"BRCA2\"\n",
      "    },\n",
      "    {\n",
      "      \"label\": \"enfermedad\",\n",
      "      \"span\": \"reparación recombinacional dependiente de la homología de las roturas de doble cadena del ADN\"\n",
      "    },\n",
      "    {\n",
      "      \"label\": \"gen\",\n",
      "      \"span\": \"nucleótido único\"\n",
      "    },\n",
      "    {\n",
      "      \"label\": \"enfermedad\",\n",
      "      \"span\": \"carcinoma de mama\"\n",
      "    },\n",
      "    {\n",
      "      \"label\": \"enfermedad\",\n",
      "      \"span\": \"ganglios linfáticos afectados\"\n",
      "    },\n",
      "    {\n",
      "      \"label\": \"enfermedad\",\n",
      "      \"span\": \"tamaño uniforme del tumor\"\n",
      "    },\n",
      "    {\n",
      "      \"label\": \"enfermedad\",\n",
      "      \"span\": \"grados histológicos\"\n",
      "    },\n",
      "    {\n",
      "      \"label\": \"enfermedad\",\n",
      "      \"span\": \"Scarf-Bloom-Richardson\"\n",
      "    }\n",
      "  ]\n",
      "} \n",
      "----------\n"
     ]
    }
   ],
   "source": [
    "for embedded_prompt_data in embedded_prompt_data_list:\n",
    "    generate_results(embedded_prompt_data)"
   ],
   "metadata": {
    "collapsed": false,
    "ExecuteTime": {
     "end_time": "2024-05-23T06:08:01.219483Z",
     "start_time": "2024-05-23T06:07:34.290340Z"
    }
   },
   "id": "2ff8b7c3321ce93d",
   "execution_count": 14
  },
  {
   "cell_type": "code",
   "outputs": [
    {
     "data": {
      "text/plain": "[{'pmid': 12672033,\n  'prompt_id': 'p_001_ner_en_json',\n  'result': '{  \"entities\": [    {      \"label\": \"gene\",      \"span\": \"DMBT1\"    },    {      \"label\": \"disease\",      \"span\": \"glioblastoma\"    },    {      \"label\": \"disease\",      \"span\": \"meduloblastoma\"    },    {      \"label\": \"disease\",      \"span\": \"tumores oligodendrogliales\"    },    {      \"label\": \"disease\",      \"span\": \"cáncer de cerebro\"    },    {      \"label\": \"disease\",      \"span\": \"gastrointestinal\"    },    {      \"label\": \"disease\",      \"span\": \"pulmón\"    }  ]}'},\n {'pmid': 12672033,\n  'prompt_id': 'p_002_ner_es_json',\n  'result': '[    {        \"label\": \"gen\",        \"span\": \"DMBT1\"    },    {        \"label\": \"patología\",        \"span\": \"glioblastoma\"    },    {        \"label\": \"patología\",        \"span\": \"meduloblastoma\"    },    {        \"label\": \"patología\",        \"span\": \"tumores oligodendrogliales\"    },    {        \"label\": \"patología\",        \"span\": \"cáncer de cerebro\"    },    {        \"label\": \"patología\",        \"span\": \"gastrointestinal\"    },    {        \"label\": \"patología\",        \"span\": \"pulmón\"    },    {        \"label\": \"gen\",        \"span\": \"cromosoma 10q\"    },    {        \"label\": \"gen\",        \"span\": \"genes supresores de tumores\"    }]'},\n {'pmid': 12673366,\n  'prompt_id': 'p_001_ner_en_json',\n  'result': '{\"entities\": [{\"label\": \"gene\", \"span\": \"gen RAD51\"}, {\"label\": \"disease\", \"span\": \"cáncer de mama\"}, {\"label\": \"gene\", \"span\": \"BRCA1\"}, {\"label\": \"gene\", \"span\": \"BRCA2\"}, {\"label\": \"gene\", \"span\": \"RAD51\"}, {\"label\": \"disease\", \"span\": \"cáncer...morfismo G/C\"}, {\"label\": \"gene\", \"span\": \"RAD51\"}, {\"label\": \"disease\", \"span\": \"cáncer de mama\"}, {\"label\": \"gene\", \"span\": \"Hardy-Weinberg\"}, {\"label\": \"disease\", \"span\": \"cáncer de mama\"}, {\"label\": \"gene\", \"span\": \"RAD51\"}, {\"label\": \"disease\",...'},\n {'pmid': 12673366,\n  'prompt_id': 'p_002_ner_es_json',\n  'result': '{  \"entities\": [    {      \"label\": \"gen\",      \"span\": \"RAD51\"    },    {      \"label\": \"enfermedad\",      \"span\": \"cáncer de mama\"    },    {      \"label\": \"gen\",      \"span\": \"BRCA1\"    },    {      \"label\": \"gen\",      \"span\": \"BRCA2\"    },    {      \"label\": \"enfermedad\",      \"span\": \"reparación recombinacional dependiente de la homología de las roturas de doble cadena del ADN\"    },    {      \"label\": \"gen\",      \"span\": \"nucleótido único\"    },    {      \"label\": \"enfermedad\",      \"span\": \"carcinoma de mama\"    },    {      \"label\": \"enfermedad\",      \"span\": \"ganglios linfáticos afectados\"    },    {      \"label\": \"enfermedad\",      \"span\": \"tamaño uniforme del tumor\"    },    {      \"label\": \"enfermedad\",      \"span\": \"grados histológicos\"    },    {      \"label\": \"enfermedad\",      \"span\": \"Scarf-Bloom-Richardson\"    }  ]}'}]"
     },
     "execution_count": 15,
     "metadata": {},
     "output_type": "execute_result"
    }
   ],
   "source": [
    "results_list"
   ],
   "metadata": {
    "collapsed": false,
    "ExecuteTime": {
     "end_time": "2024-05-23T06:08:01.231930Z",
     "start_time": "2024-05-23T06:08:01.222026Z"
    }
   },
   "id": "ac9d89026d543e42",
   "execution_count": 15
  },
  {
   "cell_type": "markdown",
   "id": "0ce5f688-6a65-4e58-a070-22caf6cdf95d",
   "metadata": {},
   "source": [
    "### Step 3: Post-processing"
   ]
  },
  {
   "cell_type": "code",
   "outputs": [],
   "source": [
    "# create df from results list and data df\n",
    "# columns = pmid, prompt_id, filename, label, offset1, offset2, span"
   ],
   "metadata": {
    "collapsed": false,
    "ExecuteTime": {
     "end_time": "2024-05-23T06:08:01.238602Z",
     "start_time": "2024-05-23T06:08:01.233889Z"
    }
   },
   "id": "81729923a951ac42",
   "execution_count": 16
  },
  {
   "cell_type": "markdown",
   "id": "5b2da4d1-bb9b-4b6a-932c-0ceecc811e2b",
   "metadata": {},
   "source": [
    "\n",
    "### Step 4: Evaluation\n",
    "\n",
    "*Skip this part for evaluation dataset as there is no gold standard data to compare against.*"
   ]
  },
  {
   "cell_type": "code",
   "outputs": [],
   "source": [
    "# train_annotations.tsv\n",
    "# pmid\\tfilename\\tmark\\tlabel\\toffset1\\toffset2\\tspan\n",
    "\n",
    "# brat format for NER\n",
    "# <unique_id>   <label>  <offset1> <offset2>   <span> \n",
    "def bratify(eval_filepath=None, results=None):\n",
    "    if eval_filepath is not None:\n",
    "        \n",
    "        gold_standard_annotations = pd.read_csv(eval_filepath, sep='\\t', header=0)\n",
    "        # TODO: Get gold standard data in brat formation for evaluation\n",
    "        print(gold_standard_annotations.sample(5))\n",
    "        # TODO: Save file in desired output file     \n",
    "        \n",
    "    if results is not None:\n",
    "        # TODO: Get results in the brat format for evaluation\n",
    "        results = results\n",
    "        # TODO: Save file in desired output format\n",
    "    "
   ],
   "metadata": {
    "ExecuteTime": {
     "end_time": "2024-05-23T06:08:01.248512Z",
     "start_time": "2024-05-23T06:08:01.240926Z"
    }
   },
   "id": "4a8ce412-2e29-4838-90a5-15c9a72e4011",
   "execution_count": 17
  },
  {
   "cell_type": "code",
   "execution_count": 18,
   "id": "19a97533-fd35-41cd-801c-ac42721da509",
   "metadata": {
    "ExecuteTime": {
     "end_time": "2024-05-23T06:08:01.274208Z",
     "start_time": "2024-05-23T06:08:01.250255Z"
    }
   },
   "outputs": [
    {
     "name": "stdout",
     "output_type": "stream",
     "text": [
      "          pmid           filename mark    label  offset1  offset2  \\\n",
      "1039  15122711  pmid-15122711.ann  T17  Disease      511      529   \n",
      "665   14630830  pmid-14630830.ann  T16     Gene     1061     1064   \n",
      "6840  21070631  pmid-21070631.ann  T14  Disease      737      739   \n",
      "620   14623461  pmid-14623461.ann   T1     Gene       40       44   \n",
      "3711  17437275  pmid-17437275.ann  T10     Gene      688      692   \n",
      "\n",
      "                    span  \n",
      "1039  síndrome de Alpers  \n",
      "665                  PML  \n",
      "6840                  EA  \n",
      "620                 EXO1  \n",
      "3711                ZEB1  \n"
     ]
    }
   ],
   "source": [
    "# TODO: Replace filepath of to convert to brat format\n",
    "bratify(\"./genovardis_train_dev/train_annotation.tsv\")"
   ]
  },
  {
   "cell_type": "code",
   "outputs": [],
   "source": [
    "# https://github.com/READ-BioMed/brateval"
   ],
   "metadata": {
    "collapsed": false,
    "ExecuteTime": {
     "end_time": "2024-05-23T06:08:01.278697Z",
     "start_time": "2024-05-23T06:08:01.275535Z"
    }
   },
   "id": "7bab3531e682749e",
   "execution_count": 19
  },
  {
   "cell_type": "markdown",
   "id": "96d5210a-e7e4-49b5-a29d-9fe8c28a179f",
   "metadata": {},
   "source": [
    "\n",
    "### Step 5: Saving output\n",
    "\n",
    "`.tsv` file containing the annotations in the following format: \n",
    "\n",
    "`pmid   filename   label   offset1   offset2   span`.\n",
    "\n"
   ]
  },
  {
   "cell_type": "code",
   "outputs": [],
   "source": [
    "# get results for tsv in the format\n",
    "# `pmid   filename   label   offset1   offset2   span`.\n"
   ],
   "metadata": {
    "collapsed": false,
    "ExecuteTime": {
     "end_time": "2024-05-23T06:08:01.284722Z",
     "start_time": "2024-05-23T06:08:01.281090Z"
    }
   },
   "id": "67d97f003a09c295",
   "execution_count": 20
  },
  {
   "cell_type": "code",
   "execution_count": 20,
   "id": "2bff9721-1ec5-4602-baf4-084936802af4",
   "metadata": {
    "ExecuteTime": {
     "end_time": "2024-05-23T06:08:01.288658Z",
     "start_time": "2024-05-23T06:08:01.286598Z"
    }
   },
   "outputs": [],
   "source": []
  },
  {
   "cell_type": "code",
   "execution_count": 20,
   "id": "5f2f59c7-cf46-465f-8bdd-119f86425c41",
   "metadata": {
    "ExecuteTime": {
     "end_time": "2024-05-23T06:08:01.294141Z",
     "start_time": "2024-05-23T06:08:01.289760Z"
    }
   },
   "outputs": [],
   "source": []
  },
  {
   "cell_type": "code",
   "execution_count": 20,
   "id": "a9531b6e-e5b8-430b-8332-44c46687ff15",
   "metadata": {
    "ExecuteTime": {
     "end_time": "2024-05-23T06:08:01.299672Z",
     "start_time": "2024-05-23T06:08:01.296598Z"
    }
   },
   "outputs": [],
   "source": []
  },
  {
   "cell_type": "code",
   "execution_count": 20,
   "id": "54faf207-facd-4b75-b86a-04b6f71aa0df",
   "metadata": {
    "ExecuteTime": {
     "end_time": "2024-05-23T06:08:01.304356Z",
     "start_time": "2024-05-23T06:08:01.301688Z"
    }
   },
   "outputs": [],
   "source": []
  }
 ],
 "metadata": {
  "kernelspec": {
   "display_name": "Python 3 (ipykernel)",
   "language": "python",
   "name": "python3"
  },
  "language_info": {
   "codemirror_mode": {
    "name": "ipython",
    "version": 3
   },
   "file_extension": ".py",
   "mimetype": "text/x-python",
   "name": "python",
   "nbconvert_exporter": "python",
   "pygments_lexer": "ipython3",
   "version": "3.11.7"
  }
 },
 "nbformat": 4,
 "nbformat_minor": 5
}
