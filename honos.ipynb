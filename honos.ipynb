{
 "cells": [
  {
   "cell_type": "markdown",
   "id": "0881c944-4aed-4da2-8e21-72412033c1ee",
   "metadata": {},
   "source": [
    "# NER using GPT-3.5\n",
    "\n",
    "### Project name: Honos\n",
    "Date: 24th May 2024\n",
    "\n",
    "Author: Milindi Kodikara | Supervisor: Professor Karin Verspoor"
   ]
  },
  {
   "cell_type": "markdown",
   "id": "0337bbac-21c4-45c9-b0ca-922bfbc97b72",
   "metadata": {},
   "source": [
    "\n",
    "Before running this notebook:\n",
    "1. [Install Jupyter notebook](https://jupyter.org/install) \n",
    "\n",
    "\n",
    "2. [Setting up Azure OpenAI model](https://learn.microsoft.com/en-us/azure/ai-services/openai/how-to/working-with-models?tabs=powershell#model-updates)\n",
    "\n",
    "\n",
    "3. [Setting up connection to GPT-3.5 using Azure OpenAI service](https://learn.microsoft.com/en-us/azure/ai-services/openai/quickstart?tabs=command-line%2Cpython-new&pivots=programming-language-python)\n",
    "        - In the Environment variables section, instead of doing what is outlined in the link, add the `API_KEY`, `API-VERSION`, `ENDPOINT` and `DEPLOYMENT-NAME` into a `.env` file in the root folder.\n",
    "        \n",
    "4. Add the correct filename paths for `data` in Step 1 and gold annotated data filename for the `evaluate()` function in Step 4. \n"
   ]
  },
  {
   "cell_type": "code",
   "execution_count": 1,
   "id": "a7f739ac-16fa-4a1b-9855-e8b89fdeb194",
   "metadata": {
    "ExecuteTime": {
     "end_time": "2024-05-25T12:27:05.694240Z",
     "start_time": "2024-05-25T12:27:04.690401Z"
    }
   },
   "outputs": [
    {
     "data": {
      "text/plain": "True"
     },
     "execution_count": 1,
     "metadata": {},
     "output_type": "execute_result"
    }
   ],
   "source": [
    "import pandas as pd\n",
    "import re\n",
    "\n",
    "import os\n",
    "from openai import AzureOpenAI\n",
    "\n",
    "from dotenv import load_dotenv\n",
    "load_dotenv() "
   ]
  },
  {
   "cell_type": "markdown",
   "id": "5d926f35-0054-4d89-bfda-b3d3d589dcc5",
   "metadata": {},
   "source": [
    "\n",
    "### Step 1: Load and pre-process data and prompt library "
   ]
  },
  {
   "cell_type": "markdown",
   "id": "44a7d5cb-7d77-449d-a3f1-bcfb1281883d",
   "metadata": {},
   "source": [
    "\n",
    "#### Step 1.1: Load datasets"
   ]
  },
  {
   "cell_type": "code",
   "execution_count": 2,
   "id": "1cc0a4e4-b5b7-441f-b99f-29e18f7ed302",
   "metadata": {
    "ExecuteTime": {
     "end_time": "2024-05-25T12:27:05.730544Z",
     "start_time": "2024-05-25T12:27:05.696837Z"
    }
   },
   "outputs": [
    {
     "data": {
      "text/plain": "       pmid           filename  \\\n0  12672033  pmid-12672033.txt   \n1  12673366  pmid-12673366.txt   \n2  12701064  pmid-12701064.txt   \n3  12716337  pmid-12716337.txt   \n4  12719097  pmid-12719097.txt   \n\n                                                text  \n0  12672033|t|Análisis de mutaciones en DMBT1 en ...  \n1  12673366|t|Análisis del polimorfismo G/C en la...  \n2  12701064|t|Una nueva mutación compuesta hetero...  \n3  12716337|t|Polimorfismo en la posición -174 de...  \n4  12719097|t|Una nueva mutación en CACNA1F en un...  ",
      "text/html": "<div>\n<style scoped>\n    .dataframe tbody tr th:only-of-type {\n        vertical-align: middle;\n    }\n\n    .dataframe tbody tr th {\n        vertical-align: top;\n    }\n\n    .dataframe thead th {\n        text-align: right;\n    }\n</style>\n<table border=\"1\" class=\"dataframe\">\n  <thead>\n    <tr style=\"text-align: right;\">\n      <th></th>\n      <th>pmid</th>\n      <th>filename</th>\n      <th>text</th>\n    </tr>\n  </thead>\n  <tbody>\n    <tr>\n      <th>0</th>\n      <td>12672033</td>\n      <td>pmid-12672033.txt</td>\n      <td>12672033|t|Análisis de mutaciones en DMBT1 en ...</td>\n    </tr>\n    <tr>\n      <th>1</th>\n      <td>12673366</td>\n      <td>pmid-12673366.txt</td>\n      <td>12673366|t|Análisis del polimorfismo G/C en la...</td>\n    </tr>\n    <tr>\n      <th>2</th>\n      <td>12701064</td>\n      <td>pmid-12701064.txt</td>\n      <td>12701064|t|Una nueva mutación compuesta hetero...</td>\n    </tr>\n    <tr>\n      <th>3</th>\n      <td>12716337</td>\n      <td>pmid-12716337.txt</td>\n      <td>12716337|t|Polimorfismo en la posición -174 de...</td>\n    </tr>\n    <tr>\n      <th>4</th>\n      <td>12719097</td>\n      <td>pmid-12719097.txt</td>\n      <td>12719097|t|Una nueva mutación en CACNA1F en un...</td>\n    </tr>\n  </tbody>\n</table>\n</div>"
     },
     "execution_count": 2,
     "metadata": {},
     "output_type": "execute_result"
    }
   ],
   "source": [
    "# train_text.tsv\n",
    "# pmid\\tfilename\\ttext\n",
    "\n",
    "# TODO: Replace filepath for related data file\n",
    "data = pd.read_csv(\"./genovardis_train_dev/train_text.tsv\", sep='\\t', header=0)\n",
    "\n",
    "data.head(5)"
   ]
  },
  {
   "cell_type": "code",
   "outputs": [
    {
     "data": {
      "text/plain": "427"
     },
     "execution_count": 3,
     "metadata": {},
     "output_type": "execute_result"
    }
   ],
   "source": [
    "len(data)"
   ],
   "metadata": {
    "collapsed": false,
    "ExecuteTime": {
     "end_time": "2024-05-25T12:27:05.736694Z",
     "start_time": "2024-05-25T12:27:05.732326Z"
    }
   },
   "id": "4c170e2b03454265",
   "execution_count": 3
  },
  {
   "cell_type": "code",
   "outputs": [
    {
     "data": {
      "text/plain": "       pmid           filename  \\\n0  12672033  pmid-12672033.txt   \n1  12673366  pmid-12673366.txt   \n\n                                                text  \n0  12672033|t|Análisis de mutaciones en DMBT1 en ...  \n1  12673366|t|Análisis del polimorfismo G/C en la...  ",
      "text/html": "<div>\n<style scoped>\n    .dataframe tbody tr th:only-of-type {\n        vertical-align: middle;\n    }\n\n    .dataframe tbody tr th {\n        vertical-align: top;\n    }\n\n    .dataframe thead th {\n        text-align: right;\n    }\n</style>\n<table border=\"1\" class=\"dataframe\">\n  <thead>\n    <tr style=\"text-align: right;\">\n      <th></th>\n      <th>pmid</th>\n      <th>filename</th>\n      <th>text</th>\n    </tr>\n  </thead>\n  <tbody>\n    <tr>\n      <th>0</th>\n      <td>12672033</td>\n      <td>pmid-12672033.txt</td>\n      <td>12672033|t|Análisis de mutaciones en DMBT1 en ...</td>\n    </tr>\n    <tr>\n      <th>1</th>\n      <td>12673366</td>\n      <td>pmid-12673366.txt</td>\n      <td>12673366|t|Análisis del polimorfismo G/C en la...</td>\n    </tr>\n  </tbody>\n</table>\n</div>"
     },
     "execution_count": 4,
     "metadata": {},
     "output_type": "execute_result"
    }
   ],
   "source": [
    "# TODO: remove this after testing\n",
    "data = data.head(2)\n",
    "\n",
    "data"
   ],
   "metadata": {
    "collapsed": false,
    "ExecuteTime": {
     "end_time": "2024-05-25T12:27:05.746015Z",
     "start_time": "2024-05-25T12:27:05.739559Z"
    }
   },
   "id": "be60d3202a45483d",
   "execution_count": 4
  },
  {
   "cell_type": "markdown",
   "source": [
    "\n",
    "#### Step 1.2: Load prompt library\n",
    "\n",
    "Prompt id structure:\n",
    "`p_<index>_<task>_<language>_<output>`\n",
    "\n",
    "TODO: Figure out `<guideline>_<paradigm>`"
   ],
   "metadata": {},
   "id": "da74db47-221a-40f1-9e02-2fd68220b367"
  },
  {
   "cell_type": "code",
   "outputs": [
    {
     "data": {
      "text/plain": "          prompt_id                                        instruction  \\\n0  p_001_ner_en_tsv  Target: Find variant on DNA sequence entities ...   \n1  p_002_ner_es_tsv  Objetivo: encontrar variantes en entidades de ...   \n\n       text  \n0  Text: {}  \n1  Text: {}  ",
      "text/html": "<div>\n<style scoped>\n    .dataframe tbody tr th:only-of-type {\n        vertical-align: middle;\n    }\n\n    .dataframe tbody tr th {\n        vertical-align: top;\n    }\n\n    .dataframe thead th {\n        text-align: right;\n    }\n</style>\n<table border=\"1\" class=\"dataframe\">\n  <thead>\n    <tr style=\"text-align: right;\">\n      <th></th>\n      <th>prompt_id</th>\n      <th>instruction</th>\n      <th>text</th>\n    </tr>\n  </thead>\n  <tbody>\n    <tr>\n      <th>0</th>\n      <td>p_001_ner_en_tsv</td>\n      <td>Target: Find variant on DNA sequence entities ...</td>\n      <td>Text: {}</td>\n    </tr>\n    <tr>\n      <th>1</th>\n      <td>p_002_ner_es_tsv</td>\n      <td>Objetivo: encontrar variantes en entidades de ...</td>\n      <td>Text: {}</td>\n    </tr>\n  </tbody>\n</table>\n</div>"
     },
     "execution_count": 5,
     "metadata": {},
     "output_type": "execute_result"
    }
   ],
   "source": [
    "# TODO: Ask for mutations, variants, SNPs etc.\n",
    "prompt_library = pd.read_json('prompts.json')\n",
    "\n",
    "prompt_library"
   ],
   "metadata": {
    "ExecuteTime": {
     "end_time": "2024-05-25T12:27:05.760633Z",
     "start_time": "2024-05-25T12:27:05.747576Z"
    }
   },
   "id": "fb1d18f8-110f-4981-bc3a-40c417cb490a",
   "execution_count": 5
  },
  {
   "cell_type": "code",
   "outputs": [],
   "source": [
    "# TODO: remove this after testing\n",
    "# prompt_library = prompt_library.head(1)\n",
    "# \n",
    "# prompt_library"
   ],
   "metadata": {
    "collapsed": false,
    "ExecuteTime": {
     "end_time": "2024-05-25T12:27:05.764609Z",
     "start_time": "2024-05-25T12:27:05.762093Z"
    }
   },
   "id": "3f999fda207f1d6d",
   "execution_count": 6
  },
  {
   "cell_type": "markdown",
   "source": [
    "\n",
    "#### Step 1.3: Create data+prompt dataset"
   ],
   "metadata": {},
   "id": "7e17606d-7a57-4044-94b3-ef4b802af0f4"
  },
  {
   "cell_type": "code",
   "outputs": [],
   "source": [
    "# TODO: Buff up the prompts with guidelines and examples (shots)\n",
    "# pmid prompt_id embedded_prompt\n",
    "def embed_data_in_prompts(row_data):\n",
    "    prompts = []\n",
    "    pmid = row_data['pmid']\n",
    "    data_text = row_data['text']\n",
    "    \n",
    "    for index, row_prompt in prompt_library.iterrows():\n",
    "        instruction = row_prompt['instruction']\n",
    "        prompt_text = row_prompt['text'].format(data_text)\n",
    "        # TODO: Figure out the new line characters \n",
    "        concatenated_prompt = '{}\\n\"{}\"'.format(instruction, prompt_text)\n",
    "        \n",
    "        prompt = {'prompt_id': row_prompt['prompt_id'], 'prompt': concatenated_prompt}\n",
    "        prompts.append(prompt)\n",
    "    \n",
    "    return {'pmid': pmid, 'prompts': prompts}\n"
   ],
   "metadata": {
    "ExecuteTime": {
     "end_time": "2024-05-25T12:27:05.771455Z",
     "start_time": "2024-05-25T12:27:05.766493Z"
    }
   },
   "id": "6dc0bb8a-f112-432c-aee1-335dbf175970",
   "execution_count": 7
  },
  {
   "cell_type": "code",
   "outputs": [],
   "source": [
    "\n",
    "embedded_prompt_data_list = [embed_data_in_prompts(row_data) for index, row_data in data.iterrows()]"
   ],
   "metadata": {
    "collapsed": false,
    "ExecuteTime": {
     "end_time": "2024-05-25T12:27:05.777499Z",
     "start_time": "2024-05-25T12:27:05.773802Z"
    }
   },
   "id": "2e3fd79116cffa1c",
   "execution_count": 8
  },
  {
   "cell_type": "code",
   "outputs": [
    {
     "data": {
      "text/plain": "{'pmid': 12672033,\n 'prompts': [{'prompt_id': 'p_001_ner_en_tsv',\n   'prompt': 'Target: Find variant on DNA sequence entities as \\'DNAMutation\\', RS number entities as \\'SNP\\', COSMIC mutation entities as \\'SNP\\', Allele on DNA sequence entities as \\'DNAAllele\\', wild type and mutations as \\'NucleotideChange\\', variant entities with insufficient information as \\'OtherMutation\\', gene entities as \\'Gene\\', disease entities as \\'Disease\\' and Transcript ID entities as \\'Transcript\\' in the provided spanish language text. Display results in the tsv format with the headers \\'label\\' to annotate the entity as one of \\'DNAMutation\\', \\'SNP\\', \\'SNP\\', \\'DNAAllele\\', \\'NucleotideChange\\', \\'OtherMutation\\', \\'Gene\\', \\'Disease\\', \\'Transcript\\' and \\'span\\' for the identified entity. Provide each label and span in a new line.\\n\"Text: 12672033|t|Análisis de mutaciones en DMBT1 en glioblastoma, meduloblastoma y tumores oligodendrogliales\\n12672033|a|DMBT1 ha sido implicado como un posible gen supresor de tumores en el cromosoma 10q en cáncer de cerebro, gastrointestinal y pulmón. La deleción homocigota y la falta de expresión son dos mecanismos conocidos para la inactivación de DMBT1. Evaluamos si la mutación somática, que representa un mecanismo importante de inactivación para la mayoría de los genes supresores de tumores, ocurre en el gen DMBT1. Se analizaron un total de 102 tumores cerebrales primarios, que consistían en 25 glioblastomas multiforme, 24 meduloblastomas y 53 tumores oligodendrogliales, mediante electroforesis en gel sensible a la conformación en los 54 exones codificantes de DMBT1. Se detectaron doce sustituciones de bases diferentes en 26 (25%) tumores. Ocho sustituciones de bases resultaron en cambios de aminoácidos y 4 fueron silenciosas. Sin embargo, estos cambios de bases también se detectaron en muestras de sangre emparejadas con los tumores, lo que indica que las variaciones de bases representan polimorfismos genéticos. También evaluamos las deleciones homocigotas del gen DMBT1 en la serie y encontramos que 16 de 95 (5 glioblastomas, 5 meduloblastomas, 6 tumores oligodendrogliales; total 17%) tumores presentan esta alteración. Se disponía de muestras de ADN de alta calidad de sangre en 5 tumores con deleción homocigota y, mediante PCR de largo alcance, se encontró que 3 de estas muestras de sangre presentaban deleciones hemizigotas germinales en una región entre los intrones 10 y 26 de DMBT1. Nuestros resultados mostraron que la mutación no juega un papel en la inactivación de DMBT1 en tumores cerebrales. La deleción homocigota intragénica de DMBT1 es común en tumores cerebrales y probablemente es el resultado de una deleción germinativa de un alelo seguida de la pérdida del segundo alelo durante el desarrollo del tumor.\\n\"'},\n  {'prompt_id': 'p_002_ner_es_tsv',\n   'prompt': 'Objetivo: encontrar variantes en entidades de secuencia de ADN como \\'DNAMutation\\', entidades de número RS como \\'SNP\\', entidades de mutación COSMIC como \\'SNP\\', alelos en entidades de secuencia de ADN como \\'DNAAllele\\', tipo salvaje y mutaciones como \\' NucleotideChange\\', entidades variantes con información insuficiente como \\'OtherMutation\\', entidades genéticas como \\'Gene\\', entidades de enfermedad como \\'Disease\\' y entidades de ID de transcripción como \\'Transcript\\' en el texto en español proporcionado. Muestra los resultados en formato tsv con los encabezados. \\'label\\' para anotar la entidad como una de \\'DNAMutation\\', \\'SNP\\', \\'DNAAllele\\', \\'NucleotideChange\\', \\'OtherMutation\\', \\'Gene\\', \\'Disease\\', \\'Transcript\\' y \\'span\\' para la entidad identificada. Proporcione cada etiqueta y intervalo en una nueva línea.\\n\"Text: 12672033|t|Análisis de mutaciones en DMBT1 en glioblastoma, meduloblastoma y tumores oligodendrogliales\\n12672033|a|DMBT1 ha sido implicado como un posible gen supresor de tumores en el cromosoma 10q en cáncer de cerebro, gastrointestinal y pulmón. La deleción homocigota y la falta de expresión son dos mecanismos conocidos para la inactivación de DMBT1. Evaluamos si la mutación somática, que representa un mecanismo importante de inactivación para la mayoría de los genes supresores de tumores, ocurre en el gen DMBT1. Se analizaron un total de 102 tumores cerebrales primarios, que consistían en 25 glioblastomas multiforme, 24 meduloblastomas y 53 tumores oligodendrogliales, mediante electroforesis en gel sensible a la conformación en los 54 exones codificantes de DMBT1. Se detectaron doce sustituciones de bases diferentes en 26 (25%) tumores. Ocho sustituciones de bases resultaron en cambios de aminoácidos y 4 fueron silenciosas. Sin embargo, estos cambios de bases también se detectaron en muestras de sangre emparejadas con los tumores, lo que indica que las variaciones de bases representan polimorfismos genéticos. También evaluamos las deleciones homocigotas del gen DMBT1 en la serie y encontramos que 16 de 95 (5 glioblastomas, 5 meduloblastomas, 6 tumores oligodendrogliales; total 17%) tumores presentan esta alteración. Se disponía de muestras de ADN de alta calidad de sangre en 5 tumores con deleción homocigota y, mediante PCR de largo alcance, se encontró que 3 de estas muestras de sangre presentaban deleciones hemizigotas germinales en una región entre los intrones 10 y 26 de DMBT1. Nuestros resultados mostraron que la mutación no juega un papel en la inactivación de DMBT1 en tumores cerebrales. La deleción homocigota intragénica de DMBT1 es común en tumores cerebrales y probablemente es el resultado de una deleción germinativa de un alelo seguida de la pérdida del segundo alelo durante el desarrollo del tumor.\\n\"'}]}"
     },
     "execution_count": 9,
     "metadata": {},
     "output_type": "execute_result"
    }
   ],
   "source": [
    "embedded_prompt_data_list[0]"
   ],
   "metadata": {
    "collapsed": false,
    "ExecuteTime": {
     "end_time": "2024-05-25T12:27:05.783638Z",
     "start_time": "2024-05-25T12:27:05.779048Z"
    }
   },
   "id": "5905c131cf4c8e7b",
   "execution_count": 9
  },
  {
   "cell_type": "markdown",
   "id": "eac6e4d1-bfb4-4c90-8b7b-d0ffc71d6313",
   "metadata": {},
   "source": [
    "\n",
    "### Step 2: Setting up GPT-3.5"
   ]
  },
  {
   "cell_type": "code",
   "execution_count": 10,
   "id": "9bac339d-8467-4651-bc3f-72faa835033b",
   "metadata": {
    "ExecuteTime": {
     "end_time": "2024-05-25T12:27:05.833942Z",
     "start_time": "2024-05-25T12:27:05.787344Z"
    }
   },
   "outputs": [],
   "source": [
    "\n",
    "client = AzureOpenAI(\n",
    "    api_key=os.environ[\"API-KEY\"],  \n",
    "    api_version=os.environ[\"API-VERSION\"],\n",
    "    azure_endpoint=os.environ[\"ENDPOINT\"]\n",
    "    )\n",
    "    \n",
    "deployment_name=os.environ[\"DEPLOYMENT-NAME\"]\n"
   ]
  },
  {
   "cell_type": "code",
   "outputs": [
    {
     "name": "stdout",
     "output_type": "stream",
     "text": [
      "Hello! How can I assist you today?\n"
     ]
    }
   ],
   "source": [
    "# Testing the connection\n",
    "test_response = client.chat.completions.create(model=deployment_name, messages=[{\"role\": \"user\", \"content\": \"Hello, World!\"}])\n",
    "print(test_response.choices[0].message.content)"
   ],
   "metadata": {
    "collapsed": false,
    "ExecuteTime": {
     "end_time": "2024-05-25T12:27:06.411825Z",
     "start_time": "2024-05-25T12:27:05.835592Z"
    }
   },
   "id": "efd39ba90dcb4d0b",
   "execution_count": 11
  },
  {
   "cell_type": "code",
   "outputs": [],
   "source": [
    "# TODO: Ask Karin whether we should run again and again to see what gpt generates - yes! later!\n",
    "results_list = []\n",
    "def generate_results(prompt_items):\n",
    "    \n",
    "    pmid = prompt_items['pmid']\n",
    "    \n",
    "    for prompt_item in prompt_items['prompts']:\n",
    "    \n",
    "        prompt_id = prompt_item['prompt_id']\n",
    "        prompt = prompt_item['prompt']\n",
    "        \n",
    "        # TODO: Look into hyper params like temp \n",
    "        response = client.chat.completions.create(model=deployment_name, messages=[{\"role\": \"user\", \"content\": prompt}])\n",
    "        \n",
    "        response_result = response.choices[0].message.content\n",
    "        \n",
    "        results_list.append({'pmid': pmid, 'prompt_id': prompt_id, 'result': response_result})\n",
    "    \n",
    "        # print(f'Prompt:\\n{prompt}\\n\\nResponse:\\n{response_result} \\n----------\\n')\n",
    "        print(f'Prompt_id:\\n{prompt_id}\\n\\npmid:\\n{pmid}\\n----------\\n')\n",
    "    \n",
    "    return results_list\n",
    "    "
   ],
   "metadata": {
    "collapsed": false,
    "ExecuteTime": {
     "end_time": "2024-05-25T12:27:06.419674Z",
     "start_time": "2024-05-25T12:27:06.414455Z"
    }
   },
   "id": "b71f8c1697ad95c",
   "execution_count": 12
  },
  {
   "cell_type": "code",
   "outputs": [
    {
     "name": "stdout",
     "output_type": "stream",
     "text": [
      "Prompt_id:\n",
      "p_001_ner_en_tsv\n",
      "\n",
      "pmid:\n",
      "12672033\n",
      "----------\n",
      "Prompt_id:\n",
      "p_002_ner_es_tsv\n",
      "\n",
      "pmid:\n",
      "12672033\n",
      "----------\n",
      "Prompt_id:\n",
      "p_001_ner_en_tsv\n",
      "\n",
      "pmid:\n",
      "12673366\n",
      "----------\n",
      "Prompt_id:\n",
      "p_002_ner_es_tsv\n",
      "\n",
      "pmid:\n",
      "12673366\n",
      "----------\n"
     ]
    }
   ],
   "source": [
    "for embedded_prompt_data in embedded_prompt_data_list:\n",
    "    generate_results(embedded_prompt_data)"
   ],
   "metadata": {
    "collapsed": false,
    "ExecuteTime": {
     "end_time": "2024-05-25T12:28:19.758344Z",
     "start_time": "2024-05-25T12:27:06.421056Z"
    }
   },
   "id": "2ff8b7c3321ce93d",
   "execution_count": 13
  },
  {
   "cell_type": "code",
   "outputs": [
    {
     "data": {
      "text/plain": "[{'pmid': 12672033,\n  'prompt_id': 'p_001_ner_en_tsv',\n  'result': 'label   span\\nGene    DMBT1\\nDisease glioblastoma\\nDisease meduloblastoma\\nDisease tumores oligodendrogliales\\nDNAMutation    mutación\\nDNAMutation    sustituciones de bases\\nSNP RS number  12672033\\nSNP RS number  10q\\nSNP RS number  cáncer de cerebro\\nSNP RS number  gastrointestinal\\nSNP RS number  pulmón\\nDNAAllele  polimorfismos genéticos\\nDNAAllele  deleción homocigota\\nDNAAllele  deleciones hemizigotas\\nDNAAllele  una región entre los intrones 10 y 26 de DMBT1\\nNucleotideChange  cambios de bases\\nNucleotideChange  cambios de aminoácidos\\nNucleotideChange  silenciosas\\nOtherMutation  sin embargo\\nTranscript ID  12672033'},\n {'pmid': 12672033,\n  'prompt_id': 'p_002_ner_es_tsv',\n  'result': 'label   span\\nDNAMutation    174-181\\nDNAMutation    253-260\\nDNAMutation    266-273\\nDNAMutation    282-289\\nDNAMutation    351-358\\nDNAMutation    401-408\\nDNAMutation    537-544\\nDNAMutation    691-698\\nDNAMutation    767-774\\nSNP    893-897\\nDNAMutation    917-924\\nDNAMutation    997-1004\\nDNAMutation    1073-1080\\nDNAMutation    1105-1112\\nDNAMutation    1132-1139\\nDNAMutation    1206-1213\\nDNAMutation    1607-1614\\nDNAMutation    1651-1658\\nDNAMutation    1782-1789\\nDNAMutation    1857-1864\\nDNAMutation    2218-2225\\nSNP    1836-1840\\nSNP    2282-2286\\nSNP    2329-2333\\nSNP    2521-2525\\nDNAMutation    2550-2557\\nSNP    2584-2588\\nDNAMutation    2706-2713\\nDNAMutation    2854-2861\\nDNAMutation    2842-2849\\nDNAMutation    2897-2904\\nNucleotideChange    2935-2957\\nDNAMutation    3056-3063\\nDNAMutation    3282-3289\\nDNAMutation    3400-3407\\nDNAMutation    3611-3618\\nDNAMutation    3484-3491\\nDNAMutation    3525-3532\\nSNP    3550-3554\\nDNAMutation    3628-3635\\nSNP    3555-3559\\nDNAMutation    3746-3753\\nSNP    3754-3758\\nDNAMutation    3897-3904\\nDNAMutation    4188-4195\\nNucleotideChange   4203-4214\\nOtherMutation    4256-4270\\nSNP    4451-4455\\nDNAMutation    4649-4656\\nDNAMutation    5220-5227\\nDNAMutation    5571-5578\\nDNAMutation    5707-5714\\nDNAMutation    6054-6061\\nDNAMutation    6378-6385\\nDNAMutation    6542-6549\\nDNAMutation    6668-6675\\nDNAMutation    6812-6819\\nDNAMutation    6866-6873\\nDNAMutation    6996-7003\\nDNAMutation    7013-7020\\nDNAMutation    7020-7027\\nDNAMutation    7037-7044\\nDNAMutation    7052-7059\\nDNAMutation    7114-7121\\nDNAMutation    7193-7200\\nDNAMutation    7240-7247\\nDNAMutation    7298-7305\\nDNAMutation    7394-7401\\nDNAMutation    7465-7472\\nDNAMutation    7676-7683\\nDNAMutation    7743-7750\\nDNAMutation    7759-7766\\nDNAMutation    7802-7809\\nDNAMutation    7872-7879\\nDNAMutation    7889-7896\\nDNAMutation    8008-8015\\nDNAMutation    8048-8055\\nDNAMutation    8686-8693\\nDNAMutation    8722-8729\\nGene    34-40\\nGene    82-88\\nGene    98-105\\nGene    291-297\\nGene    671-677\\nGene    690-696\\nGene    843-849\\nGene    863-869\\nGene    1161-1167\\nGene    1535-1541\\nGene    1621-1627\\nGene    1846-1858\\nGene    1917-1923\\nDisease    0-10\\nDisease    12-23\\nDisease    27-37\\nDisease    40-49\\nDisease    87-94\\nDisease    101-116\\nDisease    158-165\\nDisease    220-231\\nDisease    451-459\\nDisease    553-563\\nDisease    751-763\\nDisease    800-813\\nDisease    829-840\\nDisease    885-891\\nDisease    908-920\\nDisease    999-1005\\nDisease    1083-1095\\nDisease    1153-1160\\nDisease    1237-1250\\nDisease    1275-1282\\nDisease    1347-1356\\nDisease    1390-1406\\nDisease    1489-1495\\nDisease    1732-1739\\nDisease    1785-1793\\nDisease    1866-1874\\nDisease    1946-1953\\nDisease    2047-2058\\nDisease    2101-2105\\nDisease    2174-2183\\nDisease    2184-2193\\nDisease    2281-2289\\nDisease    2292-2300\\nTranscript    742-749\\nTranscript    783-791\\nTranscript    594-602\\nTranscript    926-934\\nTranscript    945-953\\nTranscript    1003-1009\\nTranscript    1212-1218\\nTranscript    1247-1253\\nTranscript    1416-1424\\nTranscript    1534-1542\\nTranscript    1602-1610\\nTranscript    1728-1736\\nTranscript    1756-1764\\nTranscript    1831-1839\\nTranscript    1863-1871\\nTranscript    1934-1942\\nTranscript    2016-2024\\nTranscript    2064-2072\\nTranscript    2195-2201\\nTranscript    2212-2218\\nTranscript    2218-2225\\nTranscript    2249-2257\\nTranscript    2314-2323\\nTranscript    2314-2318\\nTranscript    2455-2461\\nTranscript    2498-2506\\nTranscript    2564-2570\\nTranscript    2639-2647\\nTranscript    2723-2731\\nTranscript    2375-2380\\nTranscript    2831-2837\\nTranscript    2858-2866\\nTranscript    2936-2942\\nTranscript    2303-2322\\nTranscript    2982-2990\\nTranscript    2997-3004\\nTranscript    3013-3019\\nTranscript    3080-3088\\nTranscript    3079-3084\\nTranscript    3180-3188\\nTranscript    3230-3238\\nTranscript    3357-3365\\nTranscript    3461-3469\\nTranscript    3323-3327\\nTranscript    3556-3564\\nTranscript    3615-3621\\nTranscript    3667-3673\\nTranscript    3713-3721\\nTranscript    3834-3842\\nTranscript    3865-3871\\nTranscript    3942-3950\\nTranscript    3977-3985\\nTranscript    4304-4312\\nTranscript    4471-4479\\nTranscript    4614-4622\\nTranscript    4164-4169\\nTranscript    4738-4746\\nTranscript    4949-4957\\nTranscript    5064-5070\\nTranscript    5102-5116\\nTranscript    5257-5265\\nTranscript    5279-5287\\nTranscript    5415-5421\\nTranscript    5456-5463\\nTranscript    5513-5522\\nTranscript    5636-5644\\nTranscript    5732-5740\\nTranscript    5851-5859\\nTranscript    6154-6162\\nTranscript    6231-6239\\nTranscript    6401-6409\\nTranscript    6689-6697\\nTranscript    6425-6429\\nTranscript    7077-7085\\nTranscript    7223-7231\\nTranscript    7343-7351\\nTranscript    7472-7480\\nTranscript    7552-7556\\nTranscript    7631-7635\\nTranscript    7650-7654\\nTranscript    7766-7774\\nTranscript    7942-7948\\nTranscript    7992-8000\\nTranscript    8026-8034\\nTranscript    8243-8251\\nTranscript    8272-8280\\nTranscript    8406-8414\\nTranscript    8532-8540\\nTranscript    8591-8599\\nTranscript    8857-8865\\nTranscript    9039-9047\\nTranscript    9255-9263\\nTranscript    9286-9289\\nTranscript    9357-9365\\nTranscript    9432-9440\\nTranscript    9512-9520\\nTranscript    9603-9611\\nTranscript    9729-9737\\nTranscript    9995-10009\\nTranscript    10086-10094\\nTranscript    10179-10187\\nTranscript    10248-10256\\nTranscript    10281-10289\\nTranscript    10427-10435\\nTranscript    10446-10454\\nTranscript    10507-10515\\nTranscript    10701-10709\\nTranscript    10704-10708\\nTranscript    10864-10872\\nTranscript    10973-10981\\nTranscript    11068-11076\\nTranscript    11137-11145\\nTranscript    11150-11158\\nTranscript    11212-11216\\nTranscript    11216-11224\\nTranscript    11391-11399\\nTranscript    11448-11456\\nTranscript    11481-11489\\nTranscript    11625-11633\\nTranscript    11692-11700\\nTranscript    11806-11814\\nTranscript    11904-11912\\nTranscript    12292-12300\\nTranscript    12414-12422\\nTranscript    12525-12533\\nTranscript    12729-12737\\nTranscript    12515-12519\\nTranscript    12913-12921\\nTranscript    13063-13071\\nTranscript    13124-13131\\nTranscript    13224-13231\\nTranscript    13305-13316\\nTranscript    13349-13357\\nTranscript    13365-13373\\nTranscript    13423-13431\\nTranscript    13554-13562\\nTranscript    13776-13784\\nTranscript    13811-13817\\nTranscript    13841-13849\\nTranscript    13938-13946\\nTranscript    14004-14012\\nTranscript    14059-14067\\nTranscript    14156-14164\\nTranscript    14379-14387\\nTranscript    14565-14573\\nTranscript    14675-14683\\nTranscript    14675-14679\\nTranscript    15098-15106\\nTranscript    15099-15107\\nTranscript    15116-15124\\nTranscript    15147-15155\\nTranscript    15188-15196\\nTranscript    15205-15213\\nTranscript    15239-15247\\nTranscript    15334-15340\\nTranscript    15374-15381\\nTranscript    15150-15158\\nTranscript    15270-15274\\nTranscript    801-810\\nTranscript    2585-2593\\nTranscript    1918-1938\\nTranscript    108-122\\nTranscript    3623-3631\\nTranscript    1708-1712\\nTranscript    12898-12914\\nTranscript    12911-12912\\nTranscript    12911-12914\\nTranscript    14007-14019\\nTranscript    14318-14326\\nTranscript    14338-14346\\nTranscript    14351-14361\\nTranscript    14853-14861\\nTranscript    14857-14861\\nTranscript    15479-15487\\nTranscript    15490-15498'},\n {'pmid': 12673366,\n  'prompt_id': 'p_001_ner_en_tsv',\n  'result': \"label    span\\nOtherMutation    G/C\\nGene    RAD51\\nDisease    cáncer de mama\\nGene    BRCA1\\nGene    BRCA2\\nGene    RAD51\\nOtherMutation    G\\nNucleotideChange    sustitución G por C en la posición 135\\nDisease    cáncer de mama\\nOtherMutation    polimorfismo G/C\\nGene    RAD51\\nDisease    cáncer de mama\\nOtherMutation    polimorfismo G/C\\nSNP    G/C\\nGene    RAD51\\nDisease    cáncer de mama\\nOtherMutation    G/C\\nDisease    cáncer de mama\\nDisease    cáncer de mama\\nDisease    cáncer de mama\\nGene   RAD51\\nOtherMutation    G/C\\nTranscript    No traducida 5' de RAD51\\nGene    RAD51\\nDisease    cáncer de mama\\nOtherMutation    G/C\\nDisease    cáncer de mama\\nSNP    G/C\\nSNP    G/C\\nDisease    cáncer de mama\\nGene    RAD51\\nDisease    cáncer de mama\\nDisease    cáncer de mama\\nOtherMutation    G/C\\nGene    RAD51\\nDisease    cáncer de mama\\nOtherMutation    G/C\\nGene    RAD51\\nDisease    cáncer de mama\\nDisease    cáncer de mama\\nOtherMutation    G/C\\nDisease    cáncer de mama\\nOtherMutation    G/C\\nDisease    cáncer de mama\\nGene    RAD51\\nSNP    G/C\\nGene    RAD51\\nDisease    cáncer de mama\\nOtherMutation    G/C\\nDisease    cáncer de mama\\nSNP    G/C\\nGene    RAD51\\nDisease    cáncer de mama\\nOtherMutation    G/C\\nDisease    cáncer de mama\\nOtherMutation    G/C\\nDisease    cáncer de mama\\nGene    RAD51\\nDisease    cáncer de mama\\nDisease    cáncer de mama\\nDisease    cáncer de mama\\nDisease    cáncer de mama\\nDisease    cáncer de mama\\nDisease    cáncer de mama\\nDisease    cáncer de mama\\nDisease    cáncer de mama\\nDisease    cáncer de mama\\nGene    RAD51\\nDisease    cáncer de mama\\nDisease    cáncer de mama\\nSNP    G/C\\nOtherMutation    G/C\\nGene    RAD51\\nDisease    cáncer de mama\\nGene    RAD51\\nDisease    cáncer de mama\\nOtherMutation    G/C\\nDisease    cáncer de mama\\nOtherMutation    G/C\\nGene    RAD51\\nDisease    cáncer de mama\\nSNP    G/C\\nGene    RAD51\\nDisease    cáncer de mama\\nOtherMutation    G/C\\nTranscript    No traducida 5' de RAD51\\nGene    RAD51\\nDisease    cáncer de mama\\nOtherMutation    G/C\\nDisease    cáncer de mama\\nSNP    G/C\\nSNP    G/C\\nGene    RAD51\\nDisease    cáncer de mama\\nOtherMutation    G/C\\nGene    RAD51\\nDisease    cáncer de mama\\nDisease    cáncer de mama\\nOtherMutation    G/C\\nDisease    cáncer de mama\\nGene    RAD51\\nDisease    cáncer de mama\\nOtherMutation    G/C\\nDisease    cáncer de mama\\nDisease    cáncer de mama\\nOtherMutation    G/C\\nSNP    G/C\\nGene    RAD51\\nDisease    cáncer de mama\\nOtherMutation    G/C\\nDisease    cáncer de mama\\nOtherMutation    G/C\\nGene    RAD51\\nDisease    cáncer de mama\\nOtherMutation    G/C\\nDisease    cáncer de mama\\nOtherMutation    G/C\\nDisease    cáncer de mama\\nGene    RAD51\\nDisease    cáncer de mama\\nDisease    cáncer de mama\\nGene    RAD51\\nOtherMutation    G/C\\nGene    RAD51\\nDisease    cáncer de mama\\nOtherMutation    G/C\\nDisease    cáncer de mama\\nSNP    G/C\\nDisease    cáncer de mama\\nDisease    cáncer de mama\\nDisease    cáncer de mama\\nDisease    cáncer de mama\\nDisease    cáncer de mama\\nDisease    cáncer de mama\\nGene    RAD51\\nDisease    cáncer de mama\\nOtherMutation    G/C\\nDisease    cáncer de mama\\nSNP    G/C\\nTranscript    No traducida 5' de RAD51\\nGene    RAD51\\nDisease    cáncer de mama\\nGene    RAD51\\nDisease    cáncer de mama\\nOtherMutation    G/C\\nDisease    cáncer de mama\\nOtherMutation    G/C\\nGene    RAD51\\nDisease    cáncer de mama\\nSNP    G/C\\nSNP    G/C\\nGene    RAD51\\nDisease    cáncer de mama\\nOtherMutation    G/C\\nGene    RAD51\\nDisease    cáncer de mama\\nDisease    cáncer de mama\\nOtherMutation    G/C\\nDisease    cáncer de mama\\nGene    RAD51\\nDisease    cáncer de mama\\nOtherMutation    G/C\\nDisease    cáncer de mama\\nDisease    cáncer de mama\\nOtherMutation    G/C\\nGene    RAD51\\nDisease    cáncer de mama\\nDisease    cáncer de mama\\nDisease    cáncer de mama\\nDisease    cáncer de mama\\nDisease    cáncer de mama\\nDisease    cáncer de mama\\nDisease    cáncer de mama\\nDisease    cáncer de mama\\nDisease    cáncer de mama\\nGene    RAD51\\nDisease    cáncer de mama\\nDisease    cáncer de mama\\nSNP    G/C\\nOtherMutation    G/C\\nGene    RAD51\\nDisease    cáncer de mama\\nGene    RAD51\\nDisease    cáncer de mama\\nOtherMutation    G/C\\nDisease    cáncer de mama\\nOtherMutation    G/C\\nGene    RAD51\\nDisease    cáncer de mama\\nSNP    G/C\\nGene    RAD51\\nDisease    cáncer de mama\\nOtherMutation    G/C\\nTranscript    No traducida 5' de RAD51\\nGene    RAD51\\nDisease    cáncer de mama\\nOtherMutation    G/C\\nDisease    cáncer de mama\\nSNP    G/C\\nSNP    G/C\\nGene    RAD51\\nDisease    cáncer de mama\\nOtherMutation    G/C\\nGene    RAD51\\nDisease    cáncer de mama\\nDisease    cáncer de mama\\nOtherMutation    G/C\\nDisease    cáncer de mama\\nGene    RAD51\\nDisease    cáncer de mama\\nOtherMutation    G/C\\nDisease    cáncer de mama\\nDisease    cáncer de mama\\nOtherMutation    G/C\\nSNP    G/C\\nGene    RAD51\\nDisease    cáncer de mama\\nOtherMutation    G/C\\nDisease    cáncer de mama\\nOtherMutation    G/C\\nGene    RAD51\\nDisease    cáncer de mama\\nOtherMutation    G/C\\nDisease    cáncer de mama\"},\n {'pmid': 12673366,\n  'prompt_id': 'p_002_ner_es_tsv',\n  'result': '\"label\"\\t\"span\"'}]"
     },
     "execution_count": 14,
     "metadata": {},
     "output_type": "execute_result"
    }
   ],
   "source": [
    "results_list"
   ],
   "metadata": {
    "collapsed": false,
    "ExecuteTime": {
     "end_time": "2024-05-25T12:28:19.763105Z",
     "start_time": "2024-05-25T12:28:19.759372Z"
    }
   },
   "id": "ac9d89026d543e42",
   "execution_count": 14
  },
  {
   "cell_type": "code",
   "outputs": [
    {
     "data": {
      "text/plain": "4"
     },
     "execution_count": 15,
     "metadata": {},
     "output_type": "execute_result"
    }
   ],
   "source": [
    "len(results_list)"
   ],
   "metadata": {
    "collapsed": false,
    "ExecuteTime": {
     "end_time": "2024-05-25T12:28:19.767517Z",
     "start_time": "2024-05-25T12:28:19.764458Z"
    }
   },
   "id": "f90944f4d4f74661",
   "execution_count": 15
  },
  {
   "cell_type": "markdown",
   "id": "0ce5f688-6a65-4e58-a070-22caf6cdf95d",
   "metadata": {},
   "source": [
    "### Step 3: Post-processing"
   ]
  },
  {
   "cell_type": "code",
   "outputs": [],
   "source": [
    "# create df from results list and data df\n",
    "# columns = pmid, prompt_id, filename, label, offset1, offset2, span\n",
    "extracted_entity_results = pd.DataFrame(columns=['pmid','prompt_id','filename','label', 'offset_checked', 'offset1','offset2','span'])"
   ],
   "metadata": {
    "collapsed": false,
    "ExecuteTime": {
     "end_time": "2024-05-25T12:28:19.772778Z",
     "start_time": "2024-05-25T12:28:19.768443Z"
    }
   },
   "id": "81729923a951ac42",
   "execution_count": 16
  },
  {
   "cell_type": "code",
   "outputs": [
    {
     "data": {
      "text/plain": "0"
     },
     "execution_count": 17,
     "metadata": {},
     "output_type": "execute_result"
    }
   ],
   "source": [
    "len(extracted_entity_results)"
   ],
   "metadata": {
    "collapsed": false,
    "ExecuteTime": {
     "end_time": "2024-05-25T12:28:19.776875Z",
     "start_time": "2024-05-25T12:28:19.773784Z"
    }
   },
   "id": "2b445e9eccce4b77",
   "execution_count": 17
  },
  {
   "cell_type": "code",
   "outputs": [],
   "source": [
    "label_entity_pattern = '^(?P<label>DNAMutation|SNP|DNAAllele|NucleotideChange|OtherMutation|Gene|Disease)\\s+(?P<span>[\\w\\W]+)$'\n",
    "\n",
    "def extract_tuple(tuple_string):\n",
    "    stripped_tuple_string = tuple_string.strip()\n",
    "    matches = re.search(label_entity_pattern, stripped_tuple_string)\n",
    "    \n",
    "    if not matches:\n",
    "        return\n",
    "    \n",
    "    label = matches.group(\"label\").strip()\n",
    "    span = matches.group(\"span\").strip()\n",
    "    \n",
    "    return {'label': label, 'span': span}"
   ],
   "metadata": {
    "collapsed": false,
    "ExecuteTime": {
     "end_time": "2024-05-25T12:28:19.781156Z",
     "start_time": "2024-05-25T12:28:19.777891Z"
    }
   },
   "id": "4ad88bf60dafa5b0",
   "execution_count": 18
  },
  {
   "cell_type": "code",
   "outputs": [],
   "source": [
    "# extract each entity from the combined result string from gpt-3.5\n",
    "# add each extracted tuple as a new row in extracted_entity_results df\n",
    "def extract_ner_results(pmid, prompt_id, result_string):\n",
    "    extracted_list = result_string.splitlines()\n",
    "    extracted_tuple_list = [ extract_tuple(result_string) for result_string in extracted_list]\n",
    "    \n",
    "    for extracted_tuple in extracted_tuple_list:\n",
    "        if extracted_tuple:\n",
    "            row = {\n",
    "                    \"pmid\": pmid,\n",
    "                    \"prompt_id\": prompt_id,\n",
    "                    \"filename\" : data.loc[data['pmid'] == pmid, 'filename'].iloc[0],\n",
    "                    \"label\": extracted_tuple['label'],\n",
    "                    \"offset_checked\": False,\n",
    "                    \"offset1\": '',\n",
    "                    \"offset2\": '',\n",
    "                    \"span\": extracted_tuple['span']\n",
    "                }\n",
    "        \n",
    "            extracted_entity_results.loc[len(extracted_entity_results)] = row\n",
    "    "
   ],
   "metadata": {
    "collapsed": false,
    "ExecuteTime": {
     "end_time": "2024-05-25T12:28:19.786278Z",
     "start_time": "2024-05-25T12:28:19.782062Z"
    }
   },
   "id": "986f798aed3ca42b",
   "execution_count": 19
  },
  {
   "cell_type": "code",
   "outputs": [],
   "source": [
    "# extract the concatenated results strings into a new line for each tuple \n",
    "for result_dict in results_list:\n",
    "    extract_ner_results(result_dict['pmid'], result_dict['prompt_id'], result_dict['result'])\n"
   ],
   "metadata": {
    "collapsed": false,
    "ExecuteTime": {
     "end_time": "2024-05-25T12:28:20.097719Z",
     "start_time": "2024-05-25T12:28:19.787416Z"
    }
   },
   "id": "ba7743f3b0d9c2bd",
   "execution_count": 20
  },
  {
   "cell_type": "code",
   "outputs": [
    {
     "data": {
      "text/plain": "         pmid         prompt_id           filename          label  \\\n0    12672033  p_001_ner_en_tsv  pmid-12672033.txt           Gene   \n1    12672033  p_001_ner_en_tsv  pmid-12672033.txt        Disease   \n2    12672033  p_001_ner_en_tsv  pmid-12672033.txt        Disease   \n3    12672033  p_001_ner_en_tsv  pmid-12672033.txt        Disease   \n4    12672033  p_001_ner_en_tsv  pmid-12672033.txt    DNAMutation   \n..        ...               ...                ...            ...   \n359  12673366  p_001_ner_en_tsv  pmid-12673366.txt  OtherMutation   \n360  12673366  p_001_ner_en_tsv  pmid-12673366.txt           Gene   \n361  12673366  p_001_ner_en_tsv  pmid-12673366.txt        Disease   \n362  12673366  p_001_ner_en_tsv  pmid-12673366.txt  OtherMutation   \n363  12673366  p_001_ner_en_tsv  pmid-12673366.txt        Disease   \n\n     offset_checked offset1 offset2                        span  \n0             False                                       DMBT1  \n1             False                                glioblastoma  \n2             False                              meduloblastoma  \n3             False                  tumores oligodendrogliales  \n4             False                                    mutación  \n..              ...     ...     ...                         ...  \n359           False                                         G/C  \n360           False                                       RAD51  \n361           False                              cáncer de mama  \n362           False                                         G/C  \n363           False                              cáncer de mama  \n\n[364 rows x 8 columns]",
      "text/html": "<div>\n<style scoped>\n    .dataframe tbody tr th:only-of-type {\n        vertical-align: middle;\n    }\n\n    .dataframe tbody tr th {\n        vertical-align: top;\n    }\n\n    .dataframe thead th {\n        text-align: right;\n    }\n</style>\n<table border=\"1\" class=\"dataframe\">\n  <thead>\n    <tr style=\"text-align: right;\">\n      <th></th>\n      <th>pmid</th>\n      <th>prompt_id</th>\n      <th>filename</th>\n      <th>label</th>\n      <th>offset_checked</th>\n      <th>offset1</th>\n      <th>offset2</th>\n      <th>span</th>\n    </tr>\n  </thead>\n  <tbody>\n    <tr>\n      <th>0</th>\n      <td>12672033</td>\n      <td>p_001_ner_en_tsv</td>\n      <td>pmid-12672033.txt</td>\n      <td>Gene</td>\n      <td>False</td>\n      <td></td>\n      <td></td>\n      <td>DMBT1</td>\n    </tr>\n    <tr>\n      <th>1</th>\n      <td>12672033</td>\n      <td>p_001_ner_en_tsv</td>\n      <td>pmid-12672033.txt</td>\n      <td>Disease</td>\n      <td>False</td>\n      <td></td>\n      <td></td>\n      <td>glioblastoma</td>\n    </tr>\n    <tr>\n      <th>2</th>\n      <td>12672033</td>\n      <td>p_001_ner_en_tsv</td>\n      <td>pmid-12672033.txt</td>\n      <td>Disease</td>\n      <td>False</td>\n      <td></td>\n      <td></td>\n      <td>meduloblastoma</td>\n    </tr>\n    <tr>\n      <th>3</th>\n      <td>12672033</td>\n      <td>p_001_ner_en_tsv</td>\n      <td>pmid-12672033.txt</td>\n      <td>Disease</td>\n      <td>False</td>\n      <td></td>\n      <td></td>\n      <td>tumores oligodendrogliales</td>\n    </tr>\n    <tr>\n      <th>4</th>\n      <td>12672033</td>\n      <td>p_001_ner_en_tsv</td>\n      <td>pmid-12672033.txt</td>\n      <td>DNAMutation</td>\n      <td>False</td>\n      <td></td>\n      <td></td>\n      <td>mutación</td>\n    </tr>\n    <tr>\n      <th>...</th>\n      <td>...</td>\n      <td>...</td>\n      <td>...</td>\n      <td>...</td>\n      <td>...</td>\n      <td>...</td>\n      <td>...</td>\n      <td>...</td>\n    </tr>\n    <tr>\n      <th>359</th>\n      <td>12673366</td>\n      <td>p_001_ner_en_tsv</td>\n      <td>pmid-12673366.txt</td>\n      <td>OtherMutation</td>\n      <td>False</td>\n      <td></td>\n      <td></td>\n      <td>G/C</td>\n    </tr>\n    <tr>\n      <th>360</th>\n      <td>12673366</td>\n      <td>p_001_ner_en_tsv</td>\n      <td>pmid-12673366.txt</td>\n      <td>Gene</td>\n      <td>False</td>\n      <td></td>\n      <td></td>\n      <td>RAD51</td>\n    </tr>\n    <tr>\n      <th>361</th>\n      <td>12673366</td>\n      <td>p_001_ner_en_tsv</td>\n      <td>pmid-12673366.txt</td>\n      <td>Disease</td>\n      <td>False</td>\n      <td></td>\n      <td></td>\n      <td>cáncer de mama</td>\n    </tr>\n    <tr>\n      <th>362</th>\n      <td>12673366</td>\n      <td>p_001_ner_en_tsv</td>\n      <td>pmid-12673366.txt</td>\n      <td>OtherMutation</td>\n      <td>False</td>\n      <td></td>\n      <td></td>\n      <td>G/C</td>\n    </tr>\n    <tr>\n      <th>363</th>\n      <td>12673366</td>\n      <td>p_001_ner_en_tsv</td>\n      <td>pmid-12673366.txt</td>\n      <td>Disease</td>\n      <td>False</td>\n      <td></td>\n      <td></td>\n      <td>cáncer de mama</td>\n    </tr>\n  </tbody>\n</table>\n<p>364 rows × 8 columns</p>\n</div>"
     },
     "execution_count": 21,
     "metadata": {},
     "output_type": "execute_result"
    }
   ],
   "source": [
    "extracted_entity_results"
   ],
   "metadata": {
    "collapsed": false,
    "ExecuteTime": {
     "end_time": "2024-05-25T12:28:20.150665Z",
     "start_time": "2024-05-25T12:28:20.098927Z"
    }
   },
   "id": "a4f69ce585b7d7eb",
   "execution_count": 21
  },
  {
   "cell_type": "code",
   "outputs": [
    {
     "data": {
      "text/plain": "364"
     },
     "execution_count": 22,
     "metadata": {},
     "output_type": "execute_result"
    }
   ],
   "source": [
    "len(extracted_entity_results)"
   ],
   "metadata": {
    "collapsed": false,
    "ExecuteTime": {
     "end_time": "2024-05-25T12:28:20.154978Z",
     "start_time": "2024-05-25T12:28:20.152126Z"
    }
   },
   "id": "d976196e5c4e9fea",
   "execution_count": 22
  },
  {
   "cell_type": "code",
   "outputs": [],
   "source": [
    "# Find offsets \n",
    "\n",
    "# loop df, find each span, calculate the word length, find the indexes of each occurance \n",
    "for _, row in extracted_entity_results.iterrows():\n",
    "    pmid = row['pmid']\n",
    "    prompt_id = row['prompt_id']\n",
    "    text = data.loc[data['pmid'] == pmid, 'text'].iloc[0]\n",
    "    \n",
    "    if not row['offset_checked'] and row['offset1'] == '':\n",
    "        span = row['span']\n",
    "        span_length = len(span)\n",
    "        span_start_indexes = [m.start() for m in re.finditer(re.escape(span), text)]\n",
    "        span_count = 0\n",
    "        \n",
    "        matching_spans = extracted_entity_results[(extracted_entity_results['pmid']==pmid) & (extracted_entity_results['prompt_id']==prompt_id) & (extracted_entity_results['span']==span) & (extracted_entity_results['offset1']=='') & (extracted_entity_results['offset_checked']==False)]\n",
    "        \n",
    "        for index, matched_span in matching_spans.iterrows(): \n",
    "            if span_start_indexes and span_count < len(span_start_indexes):\n",
    "                extracted_entity_results.loc[index, 'offset1'] = str(span_start_indexes[span_count])\n",
    "                extracted_entity_results.loc[index, 'offset2'] = str(span_start_indexes[span_count] + span_length)\n",
    "                \n",
    "                span_count = span_count + 1\n",
    "            else: \n",
    "                # Add -1 to extra or missing ones \n",
    "                extracted_entity_results.loc[index, 'offset1'] = '-1'\n",
    "                extracted_entity_results.loc[index, 'offset2'] = '-1'\n",
    "                \n",
    "            extracted_entity_results.loc[index, 'offset_checked'] = True\n",
    "            \n",
    "        # testing code\n",
    "        # test_matching_spans = extracted_entity_results[(extracted_entity_results['pmid']==pmid) & (extracted_entity_results['prompt_id']==prompt_id) & (extracted_entity_results['span']==span)]\n",
    "        # \n",
    "        # print(test_matching_spans)"
   ],
   "metadata": {
    "collapsed": false,
    "ExecuteTime": {
     "end_time": "2024-05-25T12:28:20.533603Z",
     "start_time": "2024-05-25T12:28:20.155984Z"
    }
   },
   "id": "c120fe53384d5e53",
   "execution_count": 23
  },
  {
   "cell_type": "code",
   "outputs": [
    {
     "data": {
      "text/plain": "         pmid         prompt_id           filename          label  \\\n0    12672033  p_001_ner_en_tsv  pmid-12672033.txt           Gene   \n1    12672033  p_001_ner_en_tsv  pmid-12672033.txt        Disease   \n2    12672033  p_001_ner_en_tsv  pmid-12672033.txt        Disease   \n3    12672033  p_001_ner_en_tsv  pmid-12672033.txt        Disease   \n4    12672033  p_001_ner_en_tsv  pmid-12672033.txt    DNAMutation   \n..        ...               ...                ...            ...   \n359  12673366  p_001_ner_en_tsv  pmid-12673366.txt  OtherMutation   \n360  12673366  p_001_ner_en_tsv  pmid-12673366.txt           Gene   \n361  12673366  p_001_ner_en_tsv  pmid-12673366.txt        Disease   \n362  12673366  p_001_ner_en_tsv  pmid-12673366.txt  OtherMutation   \n363  12673366  p_001_ner_en_tsv  pmid-12673366.txt        Disease   \n\n     offset_checked offset1 offset2                        span  \n0              True      37      42                       DMBT1  \n1              True      46      58                glioblastoma  \n2              True      60      74              meduloblastoma  \n3              True      77     103  tumores oligodendrogliales  \n4              True     371     379                    mutación  \n..              ...     ...     ...                         ...  \n359            True      -1      -1                         G/C  \n360            True      -1      -1                       RAD51  \n361            True      -1      -1              cáncer de mama  \n362            True      -1      -1                         G/C  \n363            True      -1      -1              cáncer de mama  \n\n[364 rows x 8 columns]",
      "text/html": "<div>\n<style scoped>\n    .dataframe tbody tr th:only-of-type {\n        vertical-align: middle;\n    }\n\n    .dataframe tbody tr th {\n        vertical-align: top;\n    }\n\n    .dataframe thead th {\n        text-align: right;\n    }\n</style>\n<table border=\"1\" class=\"dataframe\">\n  <thead>\n    <tr style=\"text-align: right;\">\n      <th></th>\n      <th>pmid</th>\n      <th>prompt_id</th>\n      <th>filename</th>\n      <th>label</th>\n      <th>offset_checked</th>\n      <th>offset1</th>\n      <th>offset2</th>\n      <th>span</th>\n    </tr>\n  </thead>\n  <tbody>\n    <tr>\n      <th>0</th>\n      <td>12672033</td>\n      <td>p_001_ner_en_tsv</td>\n      <td>pmid-12672033.txt</td>\n      <td>Gene</td>\n      <td>True</td>\n      <td>37</td>\n      <td>42</td>\n      <td>DMBT1</td>\n    </tr>\n    <tr>\n      <th>1</th>\n      <td>12672033</td>\n      <td>p_001_ner_en_tsv</td>\n      <td>pmid-12672033.txt</td>\n      <td>Disease</td>\n      <td>True</td>\n      <td>46</td>\n      <td>58</td>\n      <td>glioblastoma</td>\n    </tr>\n    <tr>\n      <th>2</th>\n      <td>12672033</td>\n      <td>p_001_ner_en_tsv</td>\n      <td>pmid-12672033.txt</td>\n      <td>Disease</td>\n      <td>True</td>\n      <td>60</td>\n      <td>74</td>\n      <td>meduloblastoma</td>\n    </tr>\n    <tr>\n      <th>3</th>\n      <td>12672033</td>\n      <td>p_001_ner_en_tsv</td>\n      <td>pmid-12672033.txt</td>\n      <td>Disease</td>\n      <td>True</td>\n      <td>77</td>\n      <td>103</td>\n      <td>tumores oligodendrogliales</td>\n    </tr>\n    <tr>\n      <th>4</th>\n      <td>12672033</td>\n      <td>p_001_ner_en_tsv</td>\n      <td>pmid-12672033.txt</td>\n      <td>DNAMutation</td>\n      <td>True</td>\n      <td>371</td>\n      <td>379</td>\n      <td>mutación</td>\n    </tr>\n    <tr>\n      <th>...</th>\n      <td>...</td>\n      <td>...</td>\n      <td>...</td>\n      <td>...</td>\n      <td>...</td>\n      <td>...</td>\n      <td>...</td>\n      <td>...</td>\n    </tr>\n    <tr>\n      <th>359</th>\n      <td>12673366</td>\n      <td>p_001_ner_en_tsv</td>\n      <td>pmid-12673366.txt</td>\n      <td>OtherMutation</td>\n      <td>True</td>\n      <td>-1</td>\n      <td>-1</td>\n      <td>G/C</td>\n    </tr>\n    <tr>\n      <th>360</th>\n      <td>12673366</td>\n      <td>p_001_ner_en_tsv</td>\n      <td>pmid-12673366.txt</td>\n      <td>Gene</td>\n      <td>True</td>\n      <td>-1</td>\n      <td>-1</td>\n      <td>RAD51</td>\n    </tr>\n    <tr>\n      <th>361</th>\n      <td>12673366</td>\n      <td>p_001_ner_en_tsv</td>\n      <td>pmid-12673366.txt</td>\n      <td>Disease</td>\n      <td>True</td>\n      <td>-1</td>\n      <td>-1</td>\n      <td>cáncer de mama</td>\n    </tr>\n    <tr>\n      <th>362</th>\n      <td>12673366</td>\n      <td>p_001_ner_en_tsv</td>\n      <td>pmid-12673366.txt</td>\n      <td>OtherMutation</td>\n      <td>True</td>\n      <td>-1</td>\n      <td>-1</td>\n      <td>G/C</td>\n    </tr>\n    <tr>\n      <th>363</th>\n      <td>12673366</td>\n      <td>p_001_ner_en_tsv</td>\n      <td>pmid-12673366.txt</td>\n      <td>Disease</td>\n      <td>True</td>\n      <td>-1</td>\n      <td>-1</td>\n      <td>cáncer de mama</td>\n    </tr>\n  </tbody>\n</table>\n<p>364 rows × 8 columns</p>\n</div>"
     },
     "execution_count": 24,
     "metadata": {},
     "output_type": "execute_result"
    }
   ],
   "source": [
    "extracted_entity_results"
   ],
   "metadata": {
    "collapsed": false,
    "ExecuteTime": {
     "end_time": "2024-05-25T12:28:20.544371Z",
     "start_time": "2024-05-25T12:28:20.534870Z"
    }
   },
   "id": "4dda2d6069e63a23",
   "execution_count": 24
  },
  {
   "cell_type": "code",
   "outputs": [
    {
     "data": {
      "text/plain": "364"
     },
     "execution_count": 25,
     "metadata": {},
     "output_type": "execute_result"
    }
   ],
   "source": [
    "len(extracted_entity_results)"
   ],
   "metadata": {
    "collapsed": false,
    "ExecuteTime": {
     "end_time": "2024-05-25T12:28:20.549605Z",
     "start_time": "2024-05-25T12:28:20.545514Z"
    }
   },
   "id": "b42da2e6058cb0d2",
   "execution_count": 25
  },
  {
   "cell_type": "code",
   "outputs": [],
   "source": [
    "# remove hallucinations\n",
    "# TODO: Find a better way for this \n",
    "extracted_entity_results = extracted_entity_results[(extracted_entity_results['offset1'] != '-1') & (extracted_entity_results['offset2'] != '-1')]"
   ],
   "metadata": {
    "collapsed": false,
    "ExecuteTime": {
     "end_time": "2024-05-25T12:28:20.554986Z",
     "start_time": "2024-05-25T12:28:20.551232Z"
    }
   },
   "id": "fe1fc86f056705bf",
   "execution_count": 26
  },
  {
   "cell_type": "code",
   "outputs": [
    {
     "data": {
      "text/plain": "         pmid         prompt_id           filename             label  \\\n0    12672033  p_001_ner_en_tsv  pmid-12672033.txt              Gene   \n1    12672033  p_001_ner_en_tsv  pmid-12672033.txt           Disease   \n2    12672033  p_001_ner_en_tsv  pmid-12672033.txt           Disease   \n3    12672033  p_001_ner_en_tsv  pmid-12672033.txt           Disease   \n4    12672033  p_001_ner_en_tsv  pmid-12672033.txt       DNAMutation   \n5    12672033  p_001_ner_en_tsv  pmid-12672033.txt       DNAMutation   \n11   12672033  p_001_ner_en_tsv  pmid-12672033.txt         DNAAllele   \n12   12672033  p_001_ner_en_tsv  pmid-12672033.txt         DNAAllele   \n13   12672033  p_001_ner_en_tsv  pmid-12672033.txt         DNAAllele   \n14   12672033  p_001_ner_en_tsv  pmid-12672033.txt         DNAAllele   \n15   12672033  p_001_ner_en_tsv  pmid-12672033.txt  NucleotideChange   \n16   12672033  p_001_ner_en_tsv  pmid-12672033.txt  NucleotideChange   \n17   12672033  p_001_ner_en_tsv  pmid-12672033.txt  NucleotideChange   \n144  12673366  p_001_ner_en_tsv  pmid-12673366.txt     OtherMutation   \n145  12673366  p_001_ner_en_tsv  pmid-12673366.txt              Gene   \n146  12673366  p_001_ner_en_tsv  pmid-12673366.txt           Disease   \n147  12673366  p_001_ner_en_tsv  pmid-12673366.txt              Gene   \n148  12673366  p_001_ner_en_tsv  pmid-12673366.txt              Gene   \n149  12673366  p_001_ner_en_tsv  pmid-12673366.txt              Gene   \n150  12673366  p_001_ner_en_tsv  pmid-12673366.txt     OtherMutation   \n151  12673366  p_001_ner_en_tsv  pmid-12673366.txt  NucleotideChange   \n152  12673366  p_001_ner_en_tsv  pmid-12673366.txt           Disease   \n153  12673366  p_001_ner_en_tsv  pmid-12673366.txt     OtherMutation   \n154  12673366  p_001_ner_en_tsv  pmid-12673366.txt              Gene   \n155  12673366  p_001_ner_en_tsv  pmid-12673366.txt           Disease   \n156  12673366  p_001_ner_en_tsv  pmid-12673366.txt     OtherMutation   \n157  12673366  p_001_ner_en_tsv  pmid-12673366.txt               SNP   \n158  12673366  p_001_ner_en_tsv  pmid-12673366.txt              Gene   \n159  12673366  p_001_ner_en_tsv  pmid-12673366.txt           Disease   \n160  12673366  p_001_ner_en_tsv  pmid-12673366.txt     OtherMutation   \n161  12673366  p_001_ner_en_tsv  pmid-12673366.txt           Disease   \n162  12673366  p_001_ner_en_tsv  pmid-12673366.txt           Disease   \n164  12673366  p_001_ner_en_tsv  pmid-12673366.txt              Gene   \n165  12673366  p_001_ner_en_tsv  pmid-12673366.txt     OtherMutation   \n168  12673366  p_001_ner_en_tsv  pmid-12673366.txt     OtherMutation   \n170  12673366  p_001_ner_en_tsv  pmid-12673366.txt               SNP   \n\n     offset_checked offset1 offset2  \\\n0              True      37      42   \n1              True      46      58   \n2              True      60      74   \n3              True      77     103   \n4              True     371     379   \n5              True     797     819   \n11             True    1105    1128   \n12             True     251     270   \n13             True    1527    1549   \n14             True    1564    1610   \n15             True     960     976   \n16             True     894     916   \n17             True     928     939   \n144            True      37      40   \n145            True      78      83   \n146            True      87     101   \n147            True     158     163   \n148            True     166     171   \n149            True     188     193   \n150            True      37      38   \n151            True     608     646   \n152            True     143     157   \n153            True      24      40   \n154            True     436     441   \n155            True     493     507   \n156            True     651     667   \n157            True     664     667   \n158            True     597     602   \n159            True     689     703   \n160            True     787     790   \n161            True     794     808   \n162            True    1875    1889   \n164            True    1793    1798   \n165            True    1098    1101   \n168            True    1252    1255   \n170            True    1781    1784   \n\n                                               span  \n0                                             DMBT1  \n1                                      glioblastoma  \n2                                    meduloblastoma  \n3                        tumores oligodendrogliales  \n4                                          mutación  \n5                            sustituciones de bases  \n11                          polimorfismos genéticos  \n12                              deleción homocigota  \n13                           deleciones hemizigotas  \n14   una región entre los intrones 10 y 26 de DMBT1  \n15                                 cambios de bases  \n16                           cambios de aminoácidos  \n17                                      silenciosas  \n144                                             G/C  \n145                                           RAD51  \n146                                  cáncer de mama  \n147                                           BRCA1  \n148                                           BRCA2  \n149                                           RAD51  \n150                                               G  \n151          sustitución G por C en la posición 135  \n152                                  cáncer de mama  \n153                                polimorfismo G/C  \n154                                           RAD51  \n155                                  cáncer de mama  \n156                                polimorfismo G/C  \n157                                             G/C  \n158                                           RAD51  \n159                                  cáncer de mama  \n160                                             G/C  \n161                                  cáncer de mama  \n162                                  cáncer de mama  \n164                                           RAD51  \n165                                             G/C  \n168                                             G/C  \n170                                             G/C  ",
      "text/html": "<div>\n<style scoped>\n    .dataframe tbody tr th:only-of-type {\n        vertical-align: middle;\n    }\n\n    .dataframe tbody tr th {\n        vertical-align: top;\n    }\n\n    .dataframe thead th {\n        text-align: right;\n    }\n</style>\n<table border=\"1\" class=\"dataframe\">\n  <thead>\n    <tr style=\"text-align: right;\">\n      <th></th>\n      <th>pmid</th>\n      <th>prompt_id</th>\n      <th>filename</th>\n      <th>label</th>\n      <th>offset_checked</th>\n      <th>offset1</th>\n      <th>offset2</th>\n      <th>span</th>\n    </tr>\n  </thead>\n  <tbody>\n    <tr>\n      <th>0</th>\n      <td>12672033</td>\n      <td>p_001_ner_en_tsv</td>\n      <td>pmid-12672033.txt</td>\n      <td>Gene</td>\n      <td>True</td>\n      <td>37</td>\n      <td>42</td>\n      <td>DMBT1</td>\n    </tr>\n    <tr>\n      <th>1</th>\n      <td>12672033</td>\n      <td>p_001_ner_en_tsv</td>\n      <td>pmid-12672033.txt</td>\n      <td>Disease</td>\n      <td>True</td>\n      <td>46</td>\n      <td>58</td>\n      <td>glioblastoma</td>\n    </tr>\n    <tr>\n      <th>2</th>\n      <td>12672033</td>\n      <td>p_001_ner_en_tsv</td>\n      <td>pmid-12672033.txt</td>\n      <td>Disease</td>\n      <td>True</td>\n      <td>60</td>\n      <td>74</td>\n      <td>meduloblastoma</td>\n    </tr>\n    <tr>\n      <th>3</th>\n      <td>12672033</td>\n      <td>p_001_ner_en_tsv</td>\n      <td>pmid-12672033.txt</td>\n      <td>Disease</td>\n      <td>True</td>\n      <td>77</td>\n      <td>103</td>\n      <td>tumores oligodendrogliales</td>\n    </tr>\n    <tr>\n      <th>4</th>\n      <td>12672033</td>\n      <td>p_001_ner_en_tsv</td>\n      <td>pmid-12672033.txt</td>\n      <td>DNAMutation</td>\n      <td>True</td>\n      <td>371</td>\n      <td>379</td>\n      <td>mutación</td>\n    </tr>\n    <tr>\n      <th>5</th>\n      <td>12672033</td>\n      <td>p_001_ner_en_tsv</td>\n      <td>pmid-12672033.txt</td>\n      <td>DNAMutation</td>\n      <td>True</td>\n      <td>797</td>\n      <td>819</td>\n      <td>sustituciones de bases</td>\n    </tr>\n    <tr>\n      <th>11</th>\n      <td>12672033</td>\n      <td>p_001_ner_en_tsv</td>\n      <td>pmid-12672033.txt</td>\n      <td>DNAAllele</td>\n      <td>True</td>\n      <td>1105</td>\n      <td>1128</td>\n      <td>polimorfismos genéticos</td>\n    </tr>\n    <tr>\n      <th>12</th>\n      <td>12672033</td>\n      <td>p_001_ner_en_tsv</td>\n      <td>pmid-12672033.txt</td>\n      <td>DNAAllele</td>\n      <td>True</td>\n      <td>251</td>\n      <td>270</td>\n      <td>deleción homocigota</td>\n    </tr>\n    <tr>\n      <th>13</th>\n      <td>12672033</td>\n      <td>p_001_ner_en_tsv</td>\n      <td>pmid-12672033.txt</td>\n      <td>DNAAllele</td>\n      <td>True</td>\n      <td>1527</td>\n      <td>1549</td>\n      <td>deleciones hemizigotas</td>\n    </tr>\n    <tr>\n      <th>14</th>\n      <td>12672033</td>\n      <td>p_001_ner_en_tsv</td>\n      <td>pmid-12672033.txt</td>\n      <td>DNAAllele</td>\n      <td>True</td>\n      <td>1564</td>\n      <td>1610</td>\n      <td>una región entre los intrones 10 y 26 de DMBT1</td>\n    </tr>\n    <tr>\n      <th>15</th>\n      <td>12672033</td>\n      <td>p_001_ner_en_tsv</td>\n      <td>pmid-12672033.txt</td>\n      <td>NucleotideChange</td>\n      <td>True</td>\n      <td>960</td>\n      <td>976</td>\n      <td>cambios de bases</td>\n    </tr>\n    <tr>\n      <th>16</th>\n      <td>12672033</td>\n      <td>p_001_ner_en_tsv</td>\n      <td>pmid-12672033.txt</td>\n      <td>NucleotideChange</td>\n      <td>True</td>\n      <td>894</td>\n      <td>916</td>\n      <td>cambios de aminoácidos</td>\n    </tr>\n    <tr>\n      <th>17</th>\n      <td>12672033</td>\n      <td>p_001_ner_en_tsv</td>\n      <td>pmid-12672033.txt</td>\n      <td>NucleotideChange</td>\n      <td>True</td>\n      <td>928</td>\n      <td>939</td>\n      <td>silenciosas</td>\n    </tr>\n    <tr>\n      <th>144</th>\n      <td>12673366</td>\n      <td>p_001_ner_en_tsv</td>\n      <td>pmid-12673366.txt</td>\n      <td>OtherMutation</td>\n      <td>True</td>\n      <td>37</td>\n      <td>40</td>\n      <td>G/C</td>\n    </tr>\n    <tr>\n      <th>145</th>\n      <td>12673366</td>\n      <td>p_001_ner_en_tsv</td>\n      <td>pmid-12673366.txt</td>\n      <td>Gene</td>\n      <td>True</td>\n      <td>78</td>\n      <td>83</td>\n      <td>RAD51</td>\n    </tr>\n    <tr>\n      <th>146</th>\n      <td>12673366</td>\n      <td>p_001_ner_en_tsv</td>\n      <td>pmid-12673366.txt</td>\n      <td>Disease</td>\n      <td>True</td>\n      <td>87</td>\n      <td>101</td>\n      <td>cáncer de mama</td>\n    </tr>\n    <tr>\n      <th>147</th>\n      <td>12673366</td>\n      <td>p_001_ner_en_tsv</td>\n      <td>pmid-12673366.txt</td>\n      <td>Gene</td>\n      <td>True</td>\n      <td>158</td>\n      <td>163</td>\n      <td>BRCA1</td>\n    </tr>\n    <tr>\n      <th>148</th>\n      <td>12673366</td>\n      <td>p_001_ner_en_tsv</td>\n      <td>pmid-12673366.txt</td>\n      <td>Gene</td>\n      <td>True</td>\n      <td>166</td>\n      <td>171</td>\n      <td>BRCA2</td>\n    </tr>\n    <tr>\n      <th>149</th>\n      <td>12673366</td>\n      <td>p_001_ner_en_tsv</td>\n      <td>pmid-12673366.txt</td>\n      <td>Gene</td>\n      <td>True</td>\n      <td>188</td>\n      <td>193</td>\n      <td>RAD51</td>\n    </tr>\n    <tr>\n      <th>150</th>\n      <td>12673366</td>\n      <td>p_001_ner_en_tsv</td>\n      <td>pmid-12673366.txt</td>\n      <td>OtherMutation</td>\n      <td>True</td>\n      <td>37</td>\n      <td>38</td>\n      <td>G</td>\n    </tr>\n    <tr>\n      <th>151</th>\n      <td>12673366</td>\n      <td>p_001_ner_en_tsv</td>\n      <td>pmid-12673366.txt</td>\n      <td>NucleotideChange</td>\n      <td>True</td>\n      <td>608</td>\n      <td>646</td>\n      <td>sustitución G por C en la posición 135</td>\n    </tr>\n    <tr>\n      <th>152</th>\n      <td>12673366</td>\n      <td>p_001_ner_en_tsv</td>\n      <td>pmid-12673366.txt</td>\n      <td>Disease</td>\n      <td>True</td>\n      <td>143</td>\n      <td>157</td>\n      <td>cáncer de mama</td>\n    </tr>\n    <tr>\n      <th>153</th>\n      <td>12673366</td>\n      <td>p_001_ner_en_tsv</td>\n      <td>pmid-12673366.txt</td>\n      <td>OtherMutation</td>\n      <td>True</td>\n      <td>24</td>\n      <td>40</td>\n      <td>polimorfismo G/C</td>\n    </tr>\n    <tr>\n      <th>154</th>\n      <td>12673366</td>\n      <td>p_001_ner_en_tsv</td>\n      <td>pmid-12673366.txt</td>\n      <td>Gene</td>\n      <td>True</td>\n      <td>436</td>\n      <td>441</td>\n      <td>RAD51</td>\n    </tr>\n    <tr>\n      <th>155</th>\n      <td>12673366</td>\n      <td>p_001_ner_en_tsv</td>\n      <td>pmid-12673366.txt</td>\n      <td>Disease</td>\n      <td>True</td>\n      <td>493</td>\n      <td>507</td>\n      <td>cáncer de mama</td>\n    </tr>\n    <tr>\n      <th>156</th>\n      <td>12673366</td>\n      <td>p_001_ner_en_tsv</td>\n      <td>pmid-12673366.txt</td>\n      <td>OtherMutation</td>\n      <td>True</td>\n      <td>651</td>\n      <td>667</td>\n      <td>polimorfismo G/C</td>\n    </tr>\n    <tr>\n      <th>157</th>\n      <td>12673366</td>\n      <td>p_001_ner_en_tsv</td>\n      <td>pmid-12673366.txt</td>\n      <td>SNP</td>\n      <td>True</td>\n      <td>664</td>\n      <td>667</td>\n      <td>G/C</td>\n    </tr>\n    <tr>\n      <th>158</th>\n      <td>12673366</td>\n      <td>p_001_ner_en_tsv</td>\n      <td>pmid-12673366.txt</td>\n      <td>Gene</td>\n      <td>True</td>\n      <td>597</td>\n      <td>602</td>\n      <td>RAD51</td>\n    </tr>\n    <tr>\n      <th>159</th>\n      <td>12673366</td>\n      <td>p_001_ner_en_tsv</td>\n      <td>pmid-12673366.txt</td>\n      <td>Disease</td>\n      <td>True</td>\n      <td>689</td>\n      <td>703</td>\n      <td>cáncer de mama</td>\n    </tr>\n    <tr>\n      <th>160</th>\n      <td>12673366</td>\n      <td>p_001_ner_en_tsv</td>\n      <td>pmid-12673366.txt</td>\n      <td>OtherMutation</td>\n      <td>True</td>\n      <td>787</td>\n      <td>790</td>\n      <td>G/C</td>\n    </tr>\n    <tr>\n      <th>161</th>\n      <td>12673366</td>\n      <td>p_001_ner_en_tsv</td>\n      <td>pmid-12673366.txt</td>\n      <td>Disease</td>\n      <td>True</td>\n      <td>794</td>\n      <td>808</td>\n      <td>cáncer de mama</td>\n    </tr>\n    <tr>\n      <th>162</th>\n      <td>12673366</td>\n      <td>p_001_ner_en_tsv</td>\n      <td>pmid-12673366.txt</td>\n      <td>Disease</td>\n      <td>True</td>\n      <td>1875</td>\n      <td>1889</td>\n      <td>cáncer de mama</td>\n    </tr>\n    <tr>\n      <th>164</th>\n      <td>12673366</td>\n      <td>p_001_ner_en_tsv</td>\n      <td>pmid-12673366.txt</td>\n      <td>Gene</td>\n      <td>True</td>\n      <td>1793</td>\n      <td>1798</td>\n      <td>RAD51</td>\n    </tr>\n    <tr>\n      <th>165</th>\n      <td>12673366</td>\n      <td>p_001_ner_en_tsv</td>\n      <td>pmid-12673366.txt</td>\n      <td>OtherMutation</td>\n      <td>True</td>\n      <td>1098</td>\n      <td>1101</td>\n      <td>G/C</td>\n    </tr>\n    <tr>\n      <th>168</th>\n      <td>12673366</td>\n      <td>p_001_ner_en_tsv</td>\n      <td>pmid-12673366.txt</td>\n      <td>OtherMutation</td>\n      <td>True</td>\n      <td>1252</td>\n      <td>1255</td>\n      <td>G/C</td>\n    </tr>\n    <tr>\n      <th>170</th>\n      <td>12673366</td>\n      <td>p_001_ner_en_tsv</td>\n      <td>pmid-12673366.txt</td>\n      <td>SNP</td>\n      <td>True</td>\n      <td>1781</td>\n      <td>1784</td>\n      <td>G/C</td>\n    </tr>\n  </tbody>\n</table>\n</div>"
     },
     "execution_count": 27,
     "metadata": {},
     "output_type": "execute_result"
    }
   ],
   "source": [
    "extracted_entity_results"
   ],
   "metadata": {
    "collapsed": false,
    "ExecuteTime": {
     "end_time": "2024-05-25T12:28:20.600836Z",
     "start_time": "2024-05-25T12:28:20.556594Z"
    }
   },
   "id": "f2f7ae68b7c12551",
   "execution_count": 27
  },
  {
   "cell_type": "code",
   "outputs": [
    {
     "data": {
      "text/plain": "36"
     },
     "execution_count": 28,
     "metadata": {},
     "output_type": "execute_result"
    }
   ],
   "source": [
    "len(extracted_entity_results)"
   ],
   "metadata": {
    "collapsed": false,
    "ExecuteTime": {
     "end_time": "2024-05-25T12:28:20.609899Z",
     "start_time": "2024-05-25T12:28:20.606192Z"
    }
   },
   "id": "86edcea9bf90fa98",
   "execution_count": 28
  },
  {
   "cell_type": "markdown",
   "source": [
    "\n",
    "### Step 4: Evaluation\n",
    "\n",
    "*Skip this part for evaluation dataset as there is no gold standard data to compare against.*"
   ],
   "metadata": {},
   "id": "5b2da4d1-bb9b-4b6a-932c-0ceecc811e2b"
  },
  {
   "cell_type": "code",
   "outputs": [],
   "source": [
    "# train_annotations.tsv\n",
    "# pmid\\tfilename\\tmark\\tlabel\\toffset1\\toffset2\\tspan\n",
    "\n",
    "# TODO: Keep track of the variations between the runs eg: hyperparams (fixed), prompt that worked best etc. to add the metrics for result \n",
    "# Read and find what other people have done \n",
    "\n",
    "# brat format for NER\n",
    "# <unique_id>   <label>  <offset1> <offset2>   <span> \n",
    "def bratify(eval_filepath=None, results=None):\n",
    "    if eval_filepath is not None:\n",
    "        \n",
    "        gold_standard_annotations = pd.read_csv(eval_filepath, sep='\\t', header=0)\n",
    "        # TODO: Get gold standard data in brat formation for evaluation\n",
    "        print(gold_standard_annotations.sample(5))\n",
    "        # TODO: Save file in desired output file     \n",
    "        \n",
    "    if results is not None:\n",
    "        # TODO: Get results in the brat format for evaluation\n",
    "        # TODO: Remove extra whitespaces and new lines from the response for JSON format\n",
    "        # TODO: Extract each new line as a row in the results \n",
    "        # formatted_response = re.sub('[^\\S\\t]', '', response.choices[0].message.content)\n",
    "        results = results\n",
    "        # TODO: Save file in desired output format\n",
    "    "
   ],
   "metadata": {
    "ExecuteTime": {
     "end_time": "2024-05-25T12:28:20.614148Z",
     "start_time": "2024-05-25T12:28:20.610985Z"
    }
   },
   "id": "4a8ce412-2e29-4838-90a5-15c9a72e4011",
   "execution_count": 29
  },
  {
   "cell_type": "code",
   "outputs": [
    {
     "name": "stdout",
     "output_type": "stream",
     "text": [
      "          pmid           filename mark    label  offset1  offset2  \\\n",
      "5442  19521089  pmid-19521089.ann  T20      SNP      879      886   \n",
      "2379  16181814  pmid-16181814.ann  T14  Disease      309      339   \n",
      "124   12736721  pmid-12736721.ann   T6     Gene      464      473   \n",
      "4292  18272172  pmid-18272172.ann   T4     Gene      150      171   \n",
      "6363  20534142  pmid-20534142.ann  T20      SNP     1428     1434   \n",
      "\n",
      "                                span  \n",
      "5442                         rs25531  \n",
      "2379  enfermedad cerebral y hepática  \n",
      "124                        M6P/IGF2R  \n",
      "4292           ether-a-go-go-related  \n",
      "6363                          rs6235  \n"
     ]
    }
   ],
   "source": [
    "# TODO: Replace filepath of to convert to brat format\n",
    "bratify(\"./genovardis_train_dev/train_annotation.tsv\")"
   ],
   "metadata": {
    "ExecuteTime": {
     "end_time": "2024-05-25T12:28:20.632588Z",
     "start_time": "2024-05-25T12:28:20.615165Z"
    }
   },
   "id": "19a97533-fd35-41cd-801c-ac42721da509",
   "execution_count": 30
  },
  {
   "cell_type": "code",
   "outputs": [],
   "source": [
    "# https://github.com/READ-BioMed/brateval"
   ],
   "metadata": {
    "collapsed": false,
    "ExecuteTime": {
     "end_time": "2024-05-25T12:28:20.635891Z",
     "start_time": "2024-05-25T12:28:20.633800Z"
    }
   },
   "id": "7bab3531e682749e",
   "execution_count": 31
  },
  {
   "cell_type": "markdown",
   "source": [
    "\n",
    "### Step 5: Saving output\n",
    "\n",
    "`.tsv` file containing the annotations in the following format: \n",
    "\n",
    "`pmid   filename   label   offset1   offset2   span`.\n",
    "\n"
   ],
   "metadata": {},
   "id": "96d5210a-e7e4-49b5-a29d-9fe8c28a179f"
  },
  {
   "cell_type": "code",
   "outputs": [],
   "source": [
    "# Extracting results of a specific prompt\n",
    "def save_output(prompt_id):\n",
    "    extracted_entity_results_subset = extracted_entity_results[(extracted_entity_results['prompt_id']==prompt_id)]\n",
    "    extracted_entity_results_subset = extracted_entity_results_subset.drop(['prompt_id', 'offset_checked'], axis=1)\n",
    "    print(f'Original len: {len(extracted_entity_results)}, subset len: {len(extracted_entity_results_subset)}\\n\\n')\n",
    "    print('Sample:\\n', extracted_entity_results_subset.sample(5))\n",
    "    \n",
    "    # get results for tsv in the format\n",
    "    # `pmid   filename   label   offset1   offset2   span`.\n",
    "    filename = f'genovardis_{prompt_id}.tsv'\n",
    "    extracted_entity_results_subset.to_csv(filename, sep ='\\t', index=False, header=True)\n",
    "    \n",
    "    print(f'\\nSaved to {filename}\\n------------\\n')\n",
    "    "
   ],
   "metadata": {
    "collapsed": false,
    "ExecuteTime": {
     "end_time": "2024-05-25T12:28:20.641653Z",
     "start_time": "2024-05-25T12:28:20.636898Z"
    }
   },
   "id": "4f324b34b436971e",
   "execution_count": 32
  },
  {
   "cell_type": "code",
   "execution_count": 33,
   "id": "54faf207-facd-4b75-b86a-04b6f71aa0df",
   "metadata": {
    "ExecuteTime": {
     "end_time": "2024-05-25T12:28:22.013317Z",
     "start_time": "2024-05-25T12:28:20.642557Z"
    }
   },
   "outputs": [
    {
     "name": "stdout",
     "output_type": "stream",
     "text": [
      "Original len: 36, subset len: 36\n",
      "\n",
      "\n",
      "Sample:\n",
      "          pmid           filename             label offset1 offset2  \\\n",
      "13   12672033  pmid-12672033.txt         DNAAllele    1527    1549   \n",
      "145  12673366  pmid-12673366.txt              Gene      78      83   \n",
      "161  12673366  pmid-12673366.txt           Disease     794     808   \n",
      "15   12672033  pmid-12672033.txt  NucleotideChange     960     976   \n",
      "160  12673366  pmid-12673366.txt     OtherMutation     787     790   \n",
      "\n",
      "                       span  \n",
      "13   deleciones hemizigotas  \n",
      "145                   RAD51  \n",
      "161          cáncer de mama  \n",
      "15         cambios de bases  \n",
      "160                     G/C  \n",
      "\n",
      "Saved to genovardis_p_001_ner_en_tsv.tsv\n",
      "------------\n",
      "\n",
      "Original len: 36, subset len: 0\n",
      "\n"
     ]
    },
    {
     "ename": "ValueError",
     "evalue": "a must be greater than 0 unless no samples are taken",
     "output_type": "error",
     "traceback": [
      "\u001B[0;31m---------------------------------------------------------------------------\u001B[0m",
      "\u001B[0;31mValueError\u001B[0m                                Traceback (most recent call last)",
      "Cell \u001B[0;32mIn[33], line 2\u001B[0m\n\u001B[1;32m      1\u001B[0m \u001B[38;5;28;01mfor\u001B[39;00m _, prompt \u001B[38;5;129;01min\u001B[39;00m prompt_library\u001B[38;5;241m.\u001B[39miterrows():\n\u001B[0;32m----> 2\u001B[0m    save_output(prompt[\u001B[38;5;124m'\u001B[39m\u001B[38;5;124mprompt_id\u001B[39m\u001B[38;5;124m'\u001B[39m])\n",
      "Cell \u001B[0;32mIn[32], line 6\u001B[0m, in \u001B[0;36msave_output\u001B[0;34m(prompt_id)\u001B[0m\n\u001B[1;32m      4\u001B[0m extracted_entity_results_subset \u001B[38;5;241m=\u001B[39m extracted_entity_results_subset\u001B[38;5;241m.\u001B[39mdrop([\u001B[38;5;124m'\u001B[39m\u001B[38;5;124mprompt_id\u001B[39m\u001B[38;5;124m'\u001B[39m, \u001B[38;5;124m'\u001B[39m\u001B[38;5;124moffset_checked\u001B[39m\u001B[38;5;124m'\u001B[39m], axis\u001B[38;5;241m=\u001B[39m\u001B[38;5;241m1\u001B[39m)\n\u001B[1;32m      5\u001B[0m \u001B[38;5;28mprint\u001B[39m(\u001B[38;5;124mf\u001B[39m\u001B[38;5;124m'\u001B[39m\u001B[38;5;124mOriginal len: \u001B[39m\u001B[38;5;132;01m{\u001B[39;00m\u001B[38;5;28mlen\u001B[39m(extracted_entity_results)\u001B[38;5;132;01m}\u001B[39;00m\u001B[38;5;124m, subset len: \u001B[39m\u001B[38;5;132;01m{\u001B[39;00m\u001B[38;5;28mlen\u001B[39m(extracted_entity_results_subset)\u001B[38;5;132;01m}\u001B[39;00m\u001B[38;5;130;01m\\n\u001B[39;00m\u001B[38;5;130;01m\\n\u001B[39;00m\u001B[38;5;124m'\u001B[39m)\n\u001B[0;32m----> 6\u001B[0m \u001B[38;5;28mprint\u001B[39m(\u001B[38;5;124m'\u001B[39m\u001B[38;5;124mSample:\u001B[39m\u001B[38;5;130;01m\\n\u001B[39;00m\u001B[38;5;124m'\u001B[39m, extracted_entity_results_subset\u001B[38;5;241m.\u001B[39msample(\u001B[38;5;241m5\u001B[39m))\n\u001B[1;32m      8\u001B[0m \u001B[38;5;66;03m# get results for tsv in the format\u001B[39;00m\n\u001B[1;32m      9\u001B[0m \u001B[38;5;66;03m# `pmid   filename   label   offset1   offset2   span`.\u001B[39;00m\n\u001B[1;32m     10\u001B[0m filename \u001B[38;5;241m=\u001B[39m \u001B[38;5;124mf\u001B[39m\u001B[38;5;124m'\u001B[39m\u001B[38;5;124mgenovardis_\u001B[39m\u001B[38;5;132;01m{\u001B[39;00mprompt_id\u001B[38;5;132;01m}\u001B[39;00m\u001B[38;5;124m.tsv\u001B[39m\u001B[38;5;124m'\u001B[39m\n",
      "File \u001B[0;32m/opt/anaconda3/lib/python3.11/site-packages/pandas/core/generic.py:6029\u001B[0m, in \u001B[0;36mNDFrame.sample\u001B[0;34m(self, n, frac, replace, weights, random_state, axis, ignore_index)\u001B[0m\n\u001B[1;32m   6026\u001B[0m \u001B[38;5;28;01mif\u001B[39;00m weights \u001B[38;5;129;01mis\u001B[39;00m \u001B[38;5;129;01mnot\u001B[39;00m \u001B[38;5;28;01mNone\u001B[39;00m:\n\u001B[1;32m   6027\u001B[0m     weights \u001B[38;5;241m=\u001B[39m sample\u001B[38;5;241m.\u001B[39mpreprocess_weights(\u001B[38;5;28mself\u001B[39m, weights, axis)\n\u001B[0;32m-> 6029\u001B[0m sampled_indices \u001B[38;5;241m=\u001B[39m sample\u001B[38;5;241m.\u001B[39msample(obj_len, size, replace, weights, rs)\n\u001B[1;32m   6030\u001B[0m result \u001B[38;5;241m=\u001B[39m \u001B[38;5;28mself\u001B[39m\u001B[38;5;241m.\u001B[39mtake(sampled_indices, axis\u001B[38;5;241m=\u001B[39maxis)\n\u001B[1;32m   6032\u001B[0m \u001B[38;5;28;01mif\u001B[39;00m ignore_index:\n",
      "File \u001B[0;32m/opt/anaconda3/lib/python3.11/site-packages/pandas/core/sample.py:152\u001B[0m, in \u001B[0;36msample\u001B[0;34m(obj_len, size, replace, weights, random_state)\u001B[0m\n\u001B[1;32m    149\u001B[0m     \u001B[38;5;28;01melse\u001B[39;00m:\n\u001B[1;32m    150\u001B[0m         \u001B[38;5;28;01mraise\u001B[39;00m \u001B[38;5;167;01mValueError\u001B[39;00m(\u001B[38;5;124m\"\u001B[39m\u001B[38;5;124mInvalid weights: weights sum to zero\u001B[39m\u001B[38;5;124m\"\u001B[39m)\n\u001B[0;32m--> 152\u001B[0m \u001B[38;5;28;01mreturn\u001B[39;00m random_state\u001B[38;5;241m.\u001B[39mchoice(obj_len, size\u001B[38;5;241m=\u001B[39msize, replace\u001B[38;5;241m=\u001B[39mreplace, p\u001B[38;5;241m=\u001B[39mweights)\u001B[38;5;241m.\u001B[39mastype(\n\u001B[1;32m    153\u001B[0m     np\u001B[38;5;241m.\u001B[39mintp, copy\u001B[38;5;241m=\u001B[39m\u001B[38;5;28;01mFalse\u001B[39;00m\n\u001B[1;32m    154\u001B[0m )\n",
      "File \u001B[0;32mnumpy/random/mtrand.pyx:945\u001B[0m, in \u001B[0;36mnumpy.random.mtrand.RandomState.choice\u001B[0;34m()\u001B[0m\n",
      "\u001B[0;31mValueError\u001B[0m: a must be greater than 0 unless no samples are taken"
     ]
    }
   ],
   "source": [
    "for _, prompt in prompt_library.iterrows():\n",
    "   save_output(prompt['prompt_id']) "
   ]
  }
 ],
 "metadata": {
  "kernelspec": {
   "display_name": "Python 3 (ipykernel)",
   "language": "python",
   "name": "python3"
  },
  "language_info": {
   "codemirror_mode": {
    "name": "ipython",
    "version": 3
   },
   "file_extension": ".py",
   "mimetype": "text/x-python",
   "name": "python",
   "nbconvert_exporter": "python",
   "pygments_lexer": "ipython3",
   "version": "3.11.7"
  }
 },
 "nbformat": 4,
 "nbformat_minor": 5
}
