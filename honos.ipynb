{
 "cells": [
  {
   "cell_type": "markdown",
   "id": "0881c944-4aed-4da2-8e21-72412033c1ee",
   "metadata": {},
   "source": [
    "# NER using GPT-3.5\n",
    "\n",
    "### Project name: Honos\n",
    "Date: 24th May 2024\n",
    "\n",
    "Author: Milindi Kodikara | Supervisor: Professor Karin Verspoor"
   ]
  },
  {
   "cell_type": "markdown",
   "id": "0337bbac-21c4-45c9-b0ca-922bfbc97b72",
   "metadata": {},
   "source": [
    "\n",
    "Before running this notebook:\n",
    "1. [Install Jupyter notebook](https://jupyter.org/install) \n",
    "\n",
    "\n",
    "2. [Setting up Azure OpenAI model](https://learn.microsoft.com/en-us/azure/ai-services/openai/how-to/working-with-models?tabs=powershell#model-updates)\n",
    "\n",
    "\n",
    "3. [Setting up connection to GPT-3.5 using Azure OpenAI service](https://learn.microsoft.com/en-us/azure/ai-services/openai/quickstart?tabs=command-line%2Cpython-new&pivots=programming-language-python)\n",
    "        - In the Environment variables section, instead of doing what is outlined in the link, add the `API_KEY`, `API-VERSION`, `ENDPOINT` and `DEPLOYMENT-NAME` into a `.env` file in the root folder.\n",
    "        \n",
    "4. Add the correct filename paths for `data` in Step 1 and gold annotated data filename for the `evaluate()` function in Step 4. \n"
   ]
  },
  {
   "cell_type": "code",
   "execution_count": 1,
   "id": "a7f739ac-16fa-4a1b-9855-e8b89fdeb194",
   "metadata": {
    "ExecuteTime": {
     "end_time": "2024-05-25T12:58:14.794465Z",
     "start_time": "2024-05-25T12:58:13.959649Z"
    }
   },
   "outputs": [
    {
     "data": {
      "text/plain": "True"
     },
     "execution_count": 1,
     "metadata": {},
     "output_type": "execute_result"
    }
   ],
   "source": [
    "import pandas as pd\n",
    "import re\n",
    "\n",
    "import os\n",
    "from openai import AzureOpenAI\n",
    "\n",
    "from dotenv import load_dotenv\n",
    "load_dotenv() "
   ]
  },
  {
   "cell_type": "markdown",
   "id": "5d926f35-0054-4d89-bfda-b3d3d589dcc5",
   "metadata": {},
   "source": [
    "\n",
    "### Step 1: Load and pre-process data and prompt library "
   ]
  },
  {
   "cell_type": "markdown",
   "id": "44a7d5cb-7d77-449d-a3f1-bcfb1281883d",
   "metadata": {},
   "source": [
    "\n",
    "#### Step 1.1: Load datasets"
   ]
  },
  {
   "cell_type": "code",
   "execution_count": 2,
   "id": "1cc0a4e4-b5b7-441f-b99f-29e18f7ed302",
   "metadata": {
    "ExecuteTime": {
     "end_time": "2024-05-25T12:58:14.824548Z",
     "start_time": "2024-05-25T12:58:14.796166Z"
    }
   },
   "outputs": [
    {
     "data": {
      "text/plain": "       pmid           filename  \\\n0  12672033  pmid-12672033.txt   \n1  12673366  pmid-12673366.txt   \n2  12701064  pmid-12701064.txt   \n3  12716337  pmid-12716337.txt   \n4  12719097  pmid-12719097.txt   \n\n                                                text  \n0  12672033|t|Análisis de mutaciones en DMBT1 en ...  \n1  12673366|t|Análisis del polimorfismo G/C en la...  \n2  12701064|t|Una nueva mutación compuesta hetero...  \n3  12716337|t|Polimorfismo en la posición -174 de...  \n4  12719097|t|Una nueva mutación en CACNA1F en un...  ",
      "text/html": "<div>\n<style scoped>\n    .dataframe tbody tr th:only-of-type {\n        vertical-align: middle;\n    }\n\n    .dataframe tbody tr th {\n        vertical-align: top;\n    }\n\n    .dataframe thead th {\n        text-align: right;\n    }\n</style>\n<table border=\"1\" class=\"dataframe\">\n  <thead>\n    <tr style=\"text-align: right;\">\n      <th></th>\n      <th>pmid</th>\n      <th>filename</th>\n      <th>text</th>\n    </tr>\n  </thead>\n  <tbody>\n    <tr>\n      <th>0</th>\n      <td>12672033</td>\n      <td>pmid-12672033.txt</td>\n      <td>12672033|t|Análisis de mutaciones en DMBT1 en ...</td>\n    </tr>\n    <tr>\n      <th>1</th>\n      <td>12673366</td>\n      <td>pmid-12673366.txt</td>\n      <td>12673366|t|Análisis del polimorfismo G/C en la...</td>\n    </tr>\n    <tr>\n      <th>2</th>\n      <td>12701064</td>\n      <td>pmid-12701064.txt</td>\n      <td>12701064|t|Una nueva mutación compuesta hetero...</td>\n    </tr>\n    <tr>\n      <th>3</th>\n      <td>12716337</td>\n      <td>pmid-12716337.txt</td>\n      <td>12716337|t|Polimorfismo en la posición -174 de...</td>\n    </tr>\n    <tr>\n      <th>4</th>\n      <td>12719097</td>\n      <td>pmid-12719097.txt</td>\n      <td>12719097|t|Una nueva mutación en CACNA1F en un...</td>\n    </tr>\n  </tbody>\n</table>\n</div>"
     },
     "execution_count": 2,
     "metadata": {},
     "output_type": "execute_result"
    }
   ],
   "source": [
    "# train_text.tsv\n",
    "# pmid\\tfilename\\ttext\n",
    "\n",
    "# TODO: Replace filepath for related data file\n",
    "data = pd.read_csv(\"./genovardis_train_dev/train_text.tsv\", sep='\\t', header=0)\n",
    "\n",
    "data.head(5)"
   ]
  },
  {
   "cell_type": "code",
   "outputs": [
    {
     "data": {
      "text/plain": "427"
     },
     "execution_count": 3,
     "metadata": {},
     "output_type": "execute_result"
    }
   ],
   "source": [
    "len(data)"
   ],
   "metadata": {
    "collapsed": false,
    "ExecuteTime": {
     "end_time": "2024-05-25T12:58:14.829753Z",
     "start_time": "2024-05-25T12:58:14.825789Z"
    }
   },
   "id": "4c170e2b03454265",
   "execution_count": 3
  },
  {
   "cell_type": "code",
   "outputs": [
    {
     "data": {
      "text/plain": "       pmid           filename  \\\n0  12672033  pmid-12672033.txt   \n1  12673366  pmid-12673366.txt   \n\n                                                text  \n0  12672033|t|Análisis de mutaciones en DMBT1 en ...  \n1  12673366|t|Análisis del polimorfismo G/C en la...  ",
      "text/html": "<div>\n<style scoped>\n    .dataframe tbody tr th:only-of-type {\n        vertical-align: middle;\n    }\n\n    .dataframe tbody tr th {\n        vertical-align: top;\n    }\n\n    .dataframe thead th {\n        text-align: right;\n    }\n</style>\n<table border=\"1\" class=\"dataframe\">\n  <thead>\n    <tr style=\"text-align: right;\">\n      <th></th>\n      <th>pmid</th>\n      <th>filename</th>\n      <th>text</th>\n    </tr>\n  </thead>\n  <tbody>\n    <tr>\n      <th>0</th>\n      <td>12672033</td>\n      <td>pmid-12672033.txt</td>\n      <td>12672033|t|Análisis de mutaciones en DMBT1 en ...</td>\n    </tr>\n    <tr>\n      <th>1</th>\n      <td>12673366</td>\n      <td>pmid-12673366.txt</td>\n      <td>12673366|t|Análisis del polimorfismo G/C en la...</td>\n    </tr>\n  </tbody>\n</table>\n</div>"
     },
     "execution_count": 4,
     "metadata": {},
     "output_type": "execute_result"
    }
   ],
   "source": [
    "# TODO: remove this after testing\n",
    "data = data.head(2)\n",
    "\n",
    "data"
   ],
   "metadata": {
    "collapsed": false,
    "ExecuteTime": {
     "end_time": "2024-05-25T12:58:14.838013Z",
     "start_time": "2024-05-25T12:58:14.832407Z"
    }
   },
   "id": "be60d3202a45483d",
   "execution_count": 4
  },
  {
   "cell_type": "code",
   "outputs": [],
   "source": [
    "# original data has the pmid instances in the text\n",
    "original_data = data"
   ],
   "metadata": {
    "collapsed": false,
    "ExecuteTime": {
     "end_time": "2024-05-25T12:58:14.840991Z",
     "start_time": "2024-05-25T12:58:14.839032Z"
    }
   },
   "id": "e0c0a8b4ea22dfc9",
   "execution_count": 5
  },
  {
   "cell_type": "code",
   "outputs": [],
   "source": [
    "# clean up text by removing the appended pmid and title abstract tags at the start of each section\n",
    "\n",
    "pattern = '(?:[\\d]{1,10}\\|t\\|)(?P<title>[\\w\\W]+)(?:\\\\n[\\d]{1,20}\\|a\\|)(?P<abstract>[\\w\\W]+)'\n",
    "\n",
    "def clean_text(text):\n",
    "    matches = re.search(pattern, text)\n",
    "    reformatted_text = f'{matches.group(\"title\")}\\n{matches.group(\"abstract\")}'\n",
    "    return reformatted_text\n",
    "\n",
    "data['text'] = [clean_text(text) for text in data['text']]"
   ],
   "metadata": {
    "collapsed": false,
    "ExecuteTime": {
     "end_time": "2024-05-25T12:58:14.845900Z",
     "start_time": "2024-05-25T12:58:14.841999Z"
    }
   },
   "id": "5d96ff234e2653dd",
   "execution_count": 6
  },
  {
   "cell_type": "code",
   "outputs": [
    {
     "data": {
      "text/plain": "2"
     },
     "execution_count": 7,
     "metadata": {},
     "output_type": "execute_result"
    }
   ],
   "source": [
    "len(data)"
   ],
   "metadata": {
    "collapsed": false,
    "ExecuteTime": {
     "end_time": "2024-05-25T12:58:14.851304Z",
     "start_time": "2024-05-25T12:58:14.847329Z"
    }
   },
   "id": "6296d4e5d31985f9",
   "execution_count": 7
  },
  {
   "cell_type": "markdown",
   "source": [
    "\n",
    "#### Step 1.2: Load prompt library\n",
    "\n",
    "Prompt id structure:\n",
    "`p_<index>_<task>_<language>_<output>`\n",
    "\n",
    "TODO: Figure out `<guideline>_<paradigm>`"
   ],
   "metadata": {},
   "id": "da74db47-221a-40f1-9e02-2fd68220b367"
  },
  {
   "cell_type": "code",
   "outputs": [
    {
     "data": {
      "text/plain": "          prompt_id                                        instruction  \\\n0  p_001_ner_en_tsv  Target: Find variant on DNA sequence entities ...   \n1  p_002_ner_es_tsv  Objetivo: encontrar variantes en entidades de ...   \n\n       text  \n0  Text: {}  \n1  Text: {}  ",
      "text/html": "<div>\n<style scoped>\n    .dataframe tbody tr th:only-of-type {\n        vertical-align: middle;\n    }\n\n    .dataframe tbody tr th {\n        vertical-align: top;\n    }\n\n    .dataframe thead th {\n        text-align: right;\n    }\n</style>\n<table border=\"1\" class=\"dataframe\">\n  <thead>\n    <tr style=\"text-align: right;\">\n      <th></th>\n      <th>prompt_id</th>\n      <th>instruction</th>\n      <th>text</th>\n    </tr>\n  </thead>\n  <tbody>\n    <tr>\n      <th>0</th>\n      <td>p_001_ner_en_tsv</td>\n      <td>Target: Find variant on DNA sequence entities ...</td>\n      <td>Text: {}</td>\n    </tr>\n    <tr>\n      <th>1</th>\n      <td>p_002_ner_es_tsv</td>\n      <td>Objetivo: encontrar variantes en entidades de ...</td>\n      <td>Text: {}</td>\n    </tr>\n  </tbody>\n</table>\n</div>"
     },
     "execution_count": 8,
     "metadata": {},
     "output_type": "execute_result"
    }
   ],
   "source": [
    "# TODO: Ask for mutations, variants, SNPs etc.\n",
    "prompt_library = pd.read_json('prompts.json')\n",
    "\n",
    "prompt_library"
   ],
   "metadata": {
    "ExecuteTime": {
     "end_time": "2024-05-25T12:58:14.864170Z",
     "start_time": "2024-05-25T12:58:14.852538Z"
    }
   },
   "id": "fb1d18f8-110f-4981-bc3a-40c417cb490a",
   "execution_count": 8
  },
  {
   "cell_type": "code",
   "outputs": [],
   "source": [
    "# TODO: remove this after testing\n",
    "# prompt_library = prompt_library.head(1)\n",
    "# \n",
    "# prompt_library"
   ],
   "metadata": {
    "collapsed": false,
    "ExecuteTime": {
     "end_time": "2024-05-25T12:58:14.867720Z",
     "start_time": "2024-05-25T12:58:14.865246Z"
    }
   },
   "id": "3f999fda207f1d6d",
   "execution_count": 9
  },
  {
   "cell_type": "markdown",
   "source": [
    "\n",
    "#### Step 1.3: Create data+prompt dataset"
   ],
   "metadata": {},
   "id": "7e17606d-7a57-4044-94b3-ef4b802af0f4"
  },
  {
   "cell_type": "code",
   "outputs": [],
   "source": [
    "# TODO: Buff up the prompts with guidelines and examples (shots)\n",
    "# pmid prompt_id embedded_prompt\n",
    "def embed_data_in_prompts(row_data):\n",
    "    prompts = []\n",
    "    pmid = row_data['pmid']\n",
    "    data_text = row_data['text']\n",
    "    \n",
    "    for index, row_prompt in prompt_library.iterrows():\n",
    "        instruction = row_prompt['instruction']\n",
    "        prompt_text = row_prompt['text'].format(data_text)\n",
    "        # TODO: Figure out the new line characters \n",
    "        concatenated_prompt = '{}\\n\"{}\"'.format(instruction, prompt_text)\n",
    "        \n",
    "        prompt = {'prompt_id': row_prompt['prompt_id'], 'prompt': concatenated_prompt}\n",
    "        prompts.append(prompt)\n",
    "    \n",
    "    return {'pmid': pmid, 'prompts': prompts}\n"
   ],
   "metadata": {
    "ExecuteTime": {
     "end_time": "2024-05-25T12:58:14.874166Z",
     "start_time": "2024-05-25T12:58:14.870609Z"
    }
   },
   "id": "6dc0bb8a-f112-432c-aee1-335dbf175970",
   "execution_count": 10
  },
  {
   "cell_type": "code",
   "outputs": [],
   "source": [
    "\n",
    "embedded_prompt_data_list = [embed_data_in_prompts(row_data) for index, row_data in data.iterrows()]"
   ],
   "metadata": {
    "collapsed": false,
    "ExecuteTime": {
     "end_time": "2024-05-25T12:58:14.879203Z",
     "start_time": "2024-05-25T12:58:14.875790Z"
    }
   },
   "id": "2e3fd79116cffa1c",
   "execution_count": 11
  },
  {
   "cell_type": "code",
   "outputs": [
    {
     "data": {
      "text/plain": "{'pmid': 12672033,\n 'prompts': [{'prompt_id': 'p_001_ner_en_tsv',\n   'prompt': 'Target: Find variant on DNA sequence entities as \\'DNAMutation\\', RS number entities as \\'SNP\\', COSMIC mutation entities as \\'SNP\\', Allele on DNA sequence entities as \\'DNAAllele\\', wild type and mutations as \\'NucleotideChange\\', variant entities with insufficient information as \\'OtherMutation\\', gene entities as \\'Gene\\', disease entities as \\'Disease\\' and Transcript ID entities as \\'Transcript\\' in the provided spanish language text. Display results in the tsv format with the headers \\'label\\' to annotate the entity as one of \\'DNAMutation\\', \\'SNP\\', \\'SNP\\', \\'DNAAllele\\', \\'NucleotideChange\\', \\'OtherMutation\\', \\'Gene\\', \\'Disease\\', \\'Transcript\\' and \\'span\\' for the identified entity. Provide each label and span in a new line.\\n\"Text: Análisis de mutaciones en DMBT1 en glioblastoma, meduloblastoma y tumores oligodendrogliales\\nDMBT1 ha sido implicado como un posible gen supresor de tumores en el cromosoma 10q en cáncer de cerebro, gastrointestinal y pulmón. La deleción homocigota y la falta de expresión son dos mecanismos conocidos para la inactivación de DMBT1. Evaluamos si la mutación somática, que representa un mecanismo importante de inactivación para la mayoría de los genes supresores de tumores, ocurre en el gen DMBT1. Se analizaron un total de 102 tumores cerebrales primarios, que consistían en 25 glioblastomas multiforme, 24 meduloblastomas y 53 tumores oligodendrogliales, mediante electroforesis en gel sensible a la conformación en los 54 exones codificantes de DMBT1. Se detectaron doce sustituciones de bases diferentes en 26 (25%) tumores. Ocho sustituciones de bases resultaron en cambios de aminoácidos y 4 fueron silenciosas. Sin embargo, estos cambios de bases también se detectaron en muestras de sangre emparejadas con los tumores, lo que indica que las variaciones de bases representan polimorfismos genéticos. También evaluamos las deleciones homocigotas del gen DMBT1 en la serie y encontramos que 16 de 95 (5 glioblastomas, 5 meduloblastomas, 6 tumores oligodendrogliales; total 17%) tumores presentan esta alteración. Se disponía de muestras de ADN de alta calidad de sangre en 5 tumores con deleción homocigota y, mediante PCR de largo alcance, se encontró que 3 de estas muestras de sangre presentaban deleciones hemizigotas germinales en una región entre los intrones 10 y 26 de DMBT1. Nuestros resultados mostraron que la mutación no juega un papel en la inactivación de DMBT1 en tumores cerebrales. La deleción homocigota intragénica de DMBT1 es común en tumores cerebrales y probablemente es el resultado de una deleción germinativa de un alelo seguida de la pérdida del segundo alelo durante el desarrollo del tumor.\\n\"'},\n  {'prompt_id': 'p_002_ner_es_tsv',\n   'prompt': 'Objetivo: encontrar variantes en entidades de secuencia de ADN como \\'DNAMutation\\', entidades de número RS como \\'SNP\\', entidades de mutación COSMIC como \\'SNP\\', alelos en entidades de secuencia de ADN como \\'DNAAllele\\', tipo salvaje y mutaciones como \\' NucleotideChange\\', entidades variantes con información insuficiente como \\'OtherMutation\\', entidades genéticas como \\'Gene\\', entidades de enfermedad como \\'Disease\\' y entidades de ID de transcripción como \\'Transcript\\' en el texto en español proporcionado. Muestra los resultados en formato tsv con los encabezados. \\'label\\' para anotar la entidad como una de \\'DNAMutation\\', \\'SNP\\', \\'DNAAllele\\', \\'NucleotideChange\\', \\'OtherMutation\\', \\'Gene\\', \\'Disease\\', \\'Transcript\\' y \\'span\\' para la entidad identificada. Proporcione cada etiqueta y intervalo en una nueva línea.\\n\"Text: Análisis de mutaciones en DMBT1 en glioblastoma, meduloblastoma y tumores oligodendrogliales\\nDMBT1 ha sido implicado como un posible gen supresor de tumores en el cromosoma 10q en cáncer de cerebro, gastrointestinal y pulmón. La deleción homocigota y la falta de expresión son dos mecanismos conocidos para la inactivación de DMBT1. Evaluamos si la mutación somática, que representa un mecanismo importante de inactivación para la mayoría de los genes supresores de tumores, ocurre en el gen DMBT1. Se analizaron un total de 102 tumores cerebrales primarios, que consistían en 25 glioblastomas multiforme, 24 meduloblastomas y 53 tumores oligodendrogliales, mediante electroforesis en gel sensible a la conformación en los 54 exones codificantes de DMBT1. Se detectaron doce sustituciones de bases diferentes en 26 (25%) tumores. Ocho sustituciones de bases resultaron en cambios de aminoácidos y 4 fueron silenciosas. Sin embargo, estos cambios de bases también se detectaron en muestras de sangre emparejadas con los tumores, lo que indica que las variaciones de bases representan polimorfismos genéticos. También evaluamos las deleciones homocigotas del gen DMBT1 en la serie y encontramos que 16 de 95 (5 glioblastomas, 5 meduloblastomas, 6 tumores oligodendrogliales; total 17%) tumores presentan esta alteración. Se disponía de muestras de ADN de alta calidad de sangre en 5 tumores con deleción homocigota y, mediante PCR de largo alcance, se encontró que 3 de estas muestras de sangre presentaban deleciones hemizigotas germinales en una región entre los intrones 10 y 26 de DMBT1. Nuestros resultados mostraron que la mutación no juega un papel en la inactivación de DMBT1 en tumores cerebrales. La deleción homocigota intragénica de DMBT1 es común en tumores cerebrales y probablemente es el resultado de una deleción germinativa de un alelo seguida de la pérdida del segundo alelo durante el desarrollo del tumor.\\n\"'}]}"
     },
     "execution_count": 12,
     "metadata": {},
     "output_type": "execute_result"
    }
   ],
   "source": [
    "embedded_prompt_data_list[0]"
   ],
   "metadata": {
    "collapsed": false,
    "ExecuteTime": {
     "end_time": "2024-05-25T12:58:14.885189Z",
     "start_time": "2024-05-25T12:58:14.880496Z"
    }
   },
   "id": "5905c131cf4c8e7b",
   "execution_count": 12
  },
  {
   "cell_type": "markdown",
   "id": "eac6e4d1-bfb4-4c90-8b7b-d0ffc71d6313",
   "metadata": {},
   "source": [
    "\n",
    "### Step 2: Setting up GPT-3.5"
   ]
  },
  {
   "cell_type": "code",
   "execution_count": 13,
   "id": "9bac339d-8467-4651-bc3f-72faa835033b",
   "metadata": {
    "ExecuteTime": {
     "end_time": "2024-05-25T12:58:14.932914Z",
     "start_time": "2024-05-25T12:58:14.886594Z"
    }
   },
   "outputs": [],
   "source": [
    "\n",
    "client = AzureOpenAI(\n",
    "    api_key=os.environ[\"API-KEY\"],  \n",
    "    api_version=os.environ[\"API-VERSION\"],\n",
    "    azure_endpoint=os.environ[\"ENDPOINT\"]\n",
    "    )\n",
    "    \n",
    "deployment_name=os.environ[\"DEPLOYMENT-NAME\"]\n"
   ]
  },
  {
   "cell_type": "code",
   "outputs": [
    {
     "name": "stdout",
     "output_type": "stream",
     "text": [
      "Hello there! How can I assist you today?\n"
     ]
    }
   ],
   "source": [
    "# Testing the connection\n",
    "test_response = client.chat.completions.create(model=deployment_name, messages=[{\"role\": \"user\", \"content\": \"Hello, World!\"}])\n",
    "print(test_response.choices[0].message.content)"
   ],
   "metadata": {
    "collapsed": false,
    "ExecuteTime": {
     "end_time": "2024-05-25T12:58:15.718435Z",
     "start_time": "2024-05-25T12:58:14.934091Z"
    }
   },
   "id": "efd39ba90dcb4d0b",
   "execution_count": 14
  },
  {
   "cell_type": "code",
   "outputs": [],
   "source": [
    "# TODO: Ask Karin whether we should run again and again to see what gpt generates - yes! later!\n",
    "results_list = []\n",
    "def generate_results(prompt_items):\n",
    "    \n",
    "    pmid = prompt_items['pmid']\n",
    "    \n",
    "    for prompt_item in prompt_items['prompts']:\n",
    "    \n",
    "        prompt_id = prompt_item['prompt_id']\n",
    "        prompt = prompt_item['prompt']\n",
    "        \n",
    "        # TODO: Look into hyper params like temp \n",
    "        response = client.chat.completions.create(model=deployment_name, messages=[{\"role\": \"user\", \"content\": prompt}])\n",
    "        \n",
    "        response_result = response.choices[0].message.content\n",
    "        \n",
    "        results_list.append({'pmid': pmid, 'prompt_id': prompt_id, 'result': response_result})\n",
    "    \n",
    "        # print(f'Prompt:\\n{prompt}\\n\\nResponse:\\n{response_result} \\n----------\\n')\n",
    "        print(f'Prompt_id:\\n{prompt_id}\\n\\npmid:\\n{pmid}\\n----------\\n')\n",
    "    \n",
    "    return results_list\n",
    "    "
   ],
   "metadata": {
    "collapsed": false,
    "ExecuteTime": {
     "end_time": "2024-05-25T12:58:15.727784Z",
     "start_time": "2024-05-25T12:58:15.720513Z"
    }
   },
   "id": "b71f8c1697ad95c",
   "execution_count": 15
  },
  {
   "cell_type": "code",
   "outputs": [
    {
     "name": "stdout",
     "output_type": "stream",
     "text": [
      "Prompt_id:\n",
      "p_001_ner_en_tsv\n",
      "\n",
      "pmid:\n",
      "12672033\n",
      "----------\n",
      "Prompt_id:\n",
      "p_002_ner_es_tsv\n",
      "\n",
      "pmid:\n",
      "12672033\n",
      "----------\n",
      "Prompt_id:\n",
      "p_001_ner_en_tsv\n",
      "\n",
      "pmid:\n",
      "12673366\n",
      "----------\n",
      "Prompt_id:\n",
      "p_002_ner_es_tsv\n",
      "\n",
      "pmid:\n",
      "12673366\n",
      "----------\n"
     ]
    }
   ],
   "source": [
    "for embedded_prompt_data in embedded_prompt_data_list:\n",
    "    generate_results(embedded_prompt_data)"
   ],
   "metadata": {
    "collapsed": false,
    "ExecuteTime": {
     "end_time": "2024-05-25T12:58:55.400374Z",
     "start_time": "2024-05-25T12:58:15.729296Z"
    }
   },
   "id": "2ff8b7c3321ce93d",
   "execution_count": 16
  },
  {
   "cell_type": "code",
   "outputs": [
    {
     "data": {
      "text/plain": "[{'pmid': 12672033,\n  'prompt_id': 'p_001_ner_en_tsv',\n  'result': 'label   span\\nGene    DMBT1\\nDisease glioblastoma\\nDisease meduloblastoma\\nDisease tumores oligodendrogliales\\nGene    DMBT1\\nGene    DMBT1\\nGene    DMBT1\\nGene    DMBT1\\nDisease cáncer de cerebro\\nDisease gastrointestinal\\nDisease pulmón\\nDNAMutation mutación\\nGene    DMBT1\\nDNAMutation mutación\\nDNAMutation inactivación\\nGene    DMBT1\\nDNAMutation mutación\\nDNAMutation somática\\nGene    DMBT1\\nDNAMutation mecanismo\\nDNAMutation inactivación\\nGene    DMBT1\\nDNAMutation gen \\nDNAMutation DMBT1\\nDNAMutation analizaron\\nDNAMutation tumores cerebrales\\nDNAMutation glioblastomas multiforme\\nDNAMutation meduloblastomas\\nDNAMutation tumores oligodendrogliales\\nDNAMutation exones codificantes\\nDNAMutation DMBT1\\nDNAMutation sustituciones de bases\\nDNAMutation cambios de aminoácidos\\nDNAMutation silenciosas\\nDNAMutation cambios de bases\\nDNAMutation polimorfismos genéticos\\nDNAMutation deleciones homocigotas\\nGene    DMBT1\\nDNAMutation deleciones homocigotas\\nDNAMutation glioblastomas\\nDNAMutation meduloblastomas\\nDNAMutation tumores oligodendrogliales\\nDNAMutation tumores\\nGene    DMBT1\\nDNAMutation muestras de ADN\\nDNAMutation sangre\\nDNAMutation deleciones hemizigotas\\nGene    DMBT1\\nDNAMutation mutación\\nGene    DMBT1\\nDNAMutation deleción homocigota\\nDNAMutation DMBT1\\nDNAMutation tumores cerebrales\\nDNAMutation deleciones homocigotas\\nDNAMutation tumores cerebrales\\nDNAMutation deleción germinativa\\nDNAMutation alelo\\nDNAMutation pérdida del segundo alelo\\nGene    DMBT1\\nDNAMutation desarrollo del tumor'},\n {'pmid': 12672033,\n  'prompt_id': 'p_002_ner_es_tsv',\n  'result': 'label   span\\nGene    DMBT1\\nDisease glioblastoma\\nDisease meduloblastoma\\nDisease tumores oligodendrogliales\\nGene    DMBT1\\nGene    DMBT1\\nGene    DMBT1\\nDNAMutation     10q\\nDisease cáncer de cerebro\\nDisease gastrointestinal\\nDisease pulmón\\nOtherMutation   deleción homocigota\\nGene    DMBT1\\nDNAAllele       polimorfismos genéticos\\nSNP bases diferentes\\nOtherMutation   cambios de aminoácidos\\nDNAAllele       polimorfismos genéticos\\nDNAMutation     deleciones homocigotas\\nSNP 5\\nDisease tumores\\nOtherMutation   deleción homocigota\\nDNAAllele       deleciones hemizigotas germinales\\nGene    DMBT1\\nDNAMutation     deleción homocigota intragénica\\nGene    DMBT1\\nDNAAllele       deleción germinativa\\nDNAAllele       pérdida del segundo alelo'},\n {'pmid': 12673366,\n  'prompt_id': 'p_001_ner_en_tsv',\n  'result': 'label    span\\nGene     gen RAD51\\nDNAMutation    polimorfismo G/C\\nDNAMutation    una sustitución G por C\\nSNP     polimorfismo G/C\\nSNP     una sustitución G por C\\nDisease    cáncer de mama\\nGene     BRCA1\\nGene     BRCA2\\nGene     RAD51\\nDNAMutation    polimorfismo G/C\\nDNAMutation    una sustitución G por C\\nGene     RAD51\\nDisease    cáncer de mama\\nSNP     polimorfismo G/C\\nDisease    cáncer de mama\\nDNAMutation    polimorfismo G/C\\nGene     RAD51\\nDNAMutation    polimorfismo G/C\\nSNP     polimorfismo G/C\\nDisease    cáncer de mama\\nSNP     polimorfismo G/C\\nDNAMutation    polimorfismo G/C\\nSNP     polimorfismo G/C\\nDNAMutation    polimorfismo G/C\\nSNP     polimorfismo G/C\\nDNAMutation    polimorfismo G/C\\nSNP     polimorfismo G/C\\nDNAMutation    polimorfismo G/C\\nSNP     polimorfismo G/C\\nOtherMutation    una sustitución G por C en la posición 135'},\n {'pmid': 12673366,\n  'prompt_id': 'p_002_ner_es_tsv',\n  'result': \"label   span\\nOtherMutation   región no traducida 5'\\nGene    RAD51\\nDisease     cáncer de mama\\nGene    BRCA1\\nGene    BRCA2\\nGene    RAD51\\nGene    RAD51\\nDisease     cáncer de mama\\nDNAAllele   G/C\\nGene    RAD51\\nNucleotideChange    G por C\\nDisease     cáncer de mama\\nGene    RAD51\\nGene    RAD51\\nGene    RAD51\\nDNAAllele   G/C\\nGene    RAD51\\nDNAAllele   G/C\\nGene    RAD51\\nGene    RAD51\\nDNAAllele   G/C\\nGene    RAD51\\nGene    RAD51\\nGene    RAD51\\nDNAAllele   G/C\\nGene    RAD51\\nGene    RAD51\\nGene    RAD51\\nDNAAllele   G/C\\nGene    RAD51\\nGene    RAD51\\nGene    RAD51\\nDNAAllele   G/C\\nGene    RAD51\\nGene    RAD51\\nGene    RAD51\\nDNAAllele   G/C\\nGene    RAD51\\nGene    RAD51\\nGene    RAD51\\nDNAAllele   G/C\\nGene    RAD51\\nGene    RAD51\\nGene    RAD51\\nDNAAllele   G/C\\nGene    RAD51\\nGene    RAD51\\nDisease     cáncer de mama\\nGene    RAD51\\nGene    RAD51\\nGene    RAD51\\nDNAAllele   G/C\\nGene    RAD51\\nDNAAllele   G/C\\nGene    RAD51\\nGene    RAD51\\nDNAAllele   G/C\\nGene    RAD51\\nGene    RAD51\\nGene    RAD51\\nDNAAllele   G/C\\nGene    RAD51\\nDisease     cáncer de mama\\nGene    RAD51\\nGene    RAD51\\nGene    RAD51\\nDNAAllele   G/C\\nGene    RAD51\\nOtherMutation   polimorfismo G/C\\nGene    RAD51\\nDisease     cáncer de mama\\nGene    RAD51\\nGene    RAD51\\nGene    RAD51\\nGene    RAD51\\nDNAAllele   G/C\\nGene    RAD51\\nGene    RAD51\\nGene    RAD51\\nGene    RAD51\\nDNAAllele   G/C\\nGene    RAD51\\nGene    RAD51\\nGene    RAD51\\nGene    RAD51\\nDNAAllele   G/C\\nGene    RAD51\\nGene    RAD51\\nGene    RAD51\\nGene    RAD51\\nDNAAllele   G/C\\nGene    RAD51\\nGene    RAD51\\nGene    RAD51\\nGene    RAD51\\nDNAAllele   G/C\\nGene    RAD51\\nGene    RAD51\\nGene    RAD51\\nGene    RAD51\\nDNAAllele   G/C\\nGene    RAD51\\nGene    RAD51\\nGene    RAD51\\nGene    RAD51\\nDNAAllele   G/C\\nGene    RAD51\\nGene    RAD51\\nDisease     cáncer de mama\\nGene    RAD51\\nGene    RAD51\\nGene    RAD51\\nGene    RAD51\\nDNAAllele   G/C\\nGene    RAD51\\nGene    RAD51\\nGene    RAD51\\nDNAAllele   G/C\\nGene    RAD51\\nGene    RAD51\\nGene    RAD51\\nDNAAllele   G/C\\nGene    RAD51\\nGene    RAD51\\nGene    RAD51\\nDNAAllele   G/C\\nGene    RAD51\\nGene    RAD51\\nGene    RAD51\\nDNAAllele   G/C\\nGene    RAD51\\nGene    RAD51\\nGene    RAD51\\nDNAAllele   G/C\\nGene    RAD51\\nGene    RAD51\\nGene    RAD51\\nDNAAllele   G/C\\nGene    RAD51\\nGene    RAD51\\nGene    RAD51\\nDNAAllele   G/C\\nGene    RAD51\\nGene    RAD51\\nGene    RAD51\\nDNAAllele   G/C\\nGene    RAD51\\nGene    RAD51\\nGene    RAD51\\nDNAAllele   G/C\\nGene    RAD51\\nGene    RAD51\\nGene    RAD51\\nDNAAllele   G/C\\nGene    RAD51\\nGene    RAD51\\nGene    RAD51\\nDNAAllele   G/C\\nGene    RAD51\\nGene    RAD51\\nDisease     cáncer de mama\\nGene    RAD51\\nGene    RAD51\\nGene    RAD51\\nDNAAllele   G/C\\nGene    RAD51\\nDNAAllele   G/C\\nGene    RAD51\\nGene    RAD51\\nDNAAllele   G/C\\nGene    RAD51\\nGene    RAD51\\nGene    RAD51\\nDNAAllele   G/C\\nGene    RAD51\\nDisease     cáncer de mama\\nGene    RAD51\\nGene    RAD51\\nGene    RAD51\\nDNAAllele   G/C\\nGene    RAD51\\nOtherMutation   polimorfismo G/C\\nGene    RAD51\\nDisease     cáncer de mama\\nGene    RAD51\\nGene    RAD51\\nGene    RAD51\\nGene    RAD51\\nDNAAllele   G/C\\nGene    RAD51\\nGene    RAD51\\nGene    RAD51\\nGene    RAD51\\nDNAAllele   G/C\\nGene    RAD51\\nGene    RAD51\\nGene    RAD51\\nGene    RAD51\\nDNAAllele   G/C\\nGene    RAD51\\nGene    RAD51\\nGene    RAD51\\nGene    RAD51\\nDNAAllele   G/C\\nGene    RAD51\\nGene    RAD51\\nGene    RAD51\\nGene    RAD51\\nDNAAllele   G/C\\nGene    RAD51\\nGene    RAD51\\nGene    RAD51\\nGene    RAD51\\nDNAAllele   G/C\\nGene    RAD51\\nGene    RAD51\\nGene    RAD51\\nGene    RAD51\\nDNAAllele   G/C\\nGene    RAD51\\nGene    RAD51\\nGene    RAD51\\nGene    RAD51\\nDNAAllele   G/C\\nGene    RAD51\\nGene    RAD51\\nDisease     cáncer de mama\\nGene    RAD51\\nGene    RAD51\\nGene    RAD51\\nGene    RAD51\\nDNAAllele   G/C\\nGene    RAD51\\nGene    RAD51\\nGene    RAD51\\nDNAAllele   G/C\\nGene    RAD51\\nGene    RAD51\\nGene    RAD51\\nDNAAllele   G/C\\nGene    RAD51\\nGene    RAD51\\nGene    RAD51\\nDNAAllele   G/C\\nGene    RAD51\\nGene    RAD51\\nGene    RAD51\\nDNAAllele   G/C\\nGene    RAD51\\nGene    RAD51\\nGene    RAD51\\nDNAAllele   G/C\\nGene    RAD51\\nGene    RAD51\\nGene    RAD51\\nDNAAllele   G/C\\nGene    RAD51\\nGene    RAD51\\nGene    RAD51\\nDNAAllele   G/C\\nGene    RAD51\\nGene    RAD51\\nGene    RAD51\\nDNAAllele   G/C\\nGene    RAD51\\nGene    RAD51\\nGene    RAD51\\nDNAAllele   G/C\\nGene    RAD51\\nGene    RAD51\\nGene    RAD51\\nDNAAllele   G/C\\nGene    RAD51\\nGene    RAD51\\nGene    RAD51\\nDNAAllele   G/C\\nGene    RAD51\\nGene    RAD51\\nGene    RAD51\\nDNAAllele   G/C\\nGene    RAD51\\nGene    RAD51\\nGene    RAD51\\nDNAAllele   G/C\\nGene    RAD51\\nGene    RAD51\\nGene    RAD51\\nDNAAllele   G/C\\nGene    RAD51\\nGene    RAD51\\nGene    RAD51\\nDNAAllele   G/C\\nGene    RAD51\\nGene    RAD51\\nGene    RAD51\\nDNAAllele   G/C\\nGene    RAD51\\nGene    RAD51\\nGene    RAD51\\nDNAAllele   G/C\\nGene    RAD51\\nGene    RAD51\\nGene    RAD51\\nDNAAllele   G/C\\nGene    RAD51\\nGene    RAD51\\nGene    RAD51\\nDNAAllele   G/C\\nGene    RAD51\\nGene    RAD51\\nGene    RAD51\\nDNAAllele   G/C\\nGene    RAD51\\nGene    RAD51\\nGene    RAD51\\nDNAAllele   G/C\\nGene    RAD51\\nGene    RAD51\\nGene    RAD51\\nDNAAllele   G/C\\nGene    RAD51\\nGene    RAD51\\nGene    RAD51\\nDNAAllele   G/C\\nGene    RAD51\\nGene    RAD51\\nGene    RAD51\\nDNAAllele   G/C\\nGene    RAD51\\nGene    RAD51\\nGene    RAD51\\nDNAAllele   G/C\\nGene    RAD51\\nGene    RAD51\\nGene    RAD51\\nDNAAllele   G/C\\nGene    RAD51\\nGene    RAD51\\nGene    RAD51\\nDNAAllele   G/C\\nGene    RAD51\\nGene    RAD51\\nGene    RAD51\\nDNAAllele   G/C\\nGene    RAD51\\nGene    RAD51\\nGene    RAD51\\nDNAAllele   G/C\\nGene    RAD51\\nGene    RAD51\\nDNAAllele   G/C\\nGene    RAD51\\nGene    RAD51\"}]"
     },
     "execution_count": 17,
     "metadata": {},
     "output_type": "execute_result"
    }
   ],
   "source": [
    "results_list"
   ],
   "metadata": {
    "collapsed": false,
    "ExecuteTime": {
     "end_time": "2024-05-25T12:58:55.411541Z",
     "start_time": "2024-05-25T12:58:55.403138Z"
    }
   },
   "id": "ac9d89026d543e42",
   "execution_count": 17
  },
  {
   "cell_type": "code",
   "outputs": [
    {
     "data": {
      "text/plain": "4"
     },
     "execution_count": 18,
     "metadata": {},
     "output_type": "execute_result"
    }
   ],
   "source": [
    "len(results_list)"
   ],
   "metadata": {
    "collapsed": false,
    "ExecuteTime": {
     "end_time": "2024-05-25T12:58:55.417707Z",
     "start_time": "2024-05-25T12:58:55.413316Z"
    }
   },
   "id": "f90944f4d4f74661",
   "execution_count": 18
  },
  {
   "cell_type": "markdown",
   "id": "0ce5f688-6a65-4e58-a070-22caf6cdf95d",
   "metadata": {},
   "source": [
    "### Step 3: Post-processing"
   ]
  },
  {
   "cell_type": "code",
   "outputs": [],
   "source": [
    "# create df from results list and data df\n",
    "# columns = pmid, prompt_id, filename, label, offset1, offset2, span\n",
    "extracted_entity_results = pd.DataFrame(columns=['pmid','prompt_id','filename','label', 'offset_checked', 'offset1','offset2','span'])"
   ],
   "metadata": {
    "collapsed": false,
    "ExecuteTime": {
     "end_time": "2024-05-25T12:58:55.424428Z",
     "start_time": "2024-05-25T12:58:55.419285Z"
    }
   },
   "id": "81729923a951ac42",
   "execution_count": 19
  },
  {
   "cell_type": "code",
   "outputs": [
    {
     "data": {
      "text/plain": "0"
     },
     "execution_count": 20,
     "metadata": {},
     "output_type": "execute_result"
    }
   ],
   "source": [
    "len(extracted_entity_results)"
   ],
   "metadata": {
    "collapsed": false,
    "ExecuteTime": {
     "end_time": "2024-05-25T12:58:55.429153Z",
     "start_time": "2024-05-25T12:58:55.425652Z"
    }
   },
   "id": "2b445e9eccce4b77",
   "execution_count": 20
  },
  {
   "cell_type": "code",
   "outputs": [],
   "source": [
    "label_entity_pattern = '^(?P<label>DNAMutation|SNP|DNAAllele|NucleotideChange|OtherMutation|Gene|Disease)\\s+(?P<span>[\\w\\W]+)$'\n",
    "\n",
    "def extract_tuple(tuple_string):\n",
    "    stripped_tuple_string = tuple_string.strip()\n",
    "    matches = re.search(label_entity_pattern, stripped_tuple_string)\n",
    "    \n",
    "    if not matches:\n",
    "        return\n",
    "    \n",
    "    label = matches.group(\"label\").strip()\n",
    "    span = matches.group(\"span\").strip()\n",
    "    \n",
    "    return {'label': label, 'span': span}"
   ],
   "metadata": {
    "collapsed": false,
    "ExecuteTime": {
     "end_time": "2024-05-25T12:58:55.433764Z",
     "start_time": "2024-05-25T12:58:55.430343Z"
    }
   },
   "id": "4ad88bf60dafa5b0",
   "execution_count": 21
  },
  {
   "cell_type": "code",
   "outputs": [],
   "source": [
    "# extract each entity from the combined result string from gpt-3.5\n",
    "# add each extracted tuple as a new row in extracted_entity_results df\n",
    "def extract_ner_results(pmid, prompt_id, result_string):\n",
    "    extracted_list = result_string.splitlines()\n",
    "    extracted_tuple_list = [ extract_tuple(result_string) for result_string in extracted_list]\n",
    "    \n",
    "    for extracted_tuple in extracted_tuple_list:\n",
    "        if extracted_tuple:\n",
    "            row = {\n",
    "                    \"pmid\": pmid,\n",
    "                    \"prompt_id\": prompt_id,\n",
    "                    \"filename\" : data.loc[data['pmid'] == pmid, 'filename'].iloc[0],\n",
    "                    \"label\": extracted_tuple['label'],\n",
    "                    \"offset_checked\": False,\n",
    "                    \"offset1\": '',\n",
    "                    \"offset2\": '',\n",
    "                    \"span\": extracted_tuple['span']\n",
    "                }\n",
    "        \n",
    "            extracted_entity_results.loc[len(extracted_entity_results)] = row\n",
    "    "
   ],
   "metadata": {
    "collapsed": false,
    "ExecuteTime": {
     "end_time": "2024-05-25T12:58:55.439221Z",
     "start_time": "2024-05-25T12:58:55.435303Z"
    }
   },
   "id": "986f798aed3ca42b",
   "execution_count": 22
  },
  {
   "cell_type": "code",
   "outputs": [],
   "source": [
    "# extract the concatenated results strings into a new line for each tuple \n",
    "for result_dict in results_list:\n",
    "    extract_ner_results(result_dict['pmid'], result_dict['prompt_id'], result_dict['result'])\n"
   ],
   "metadata": {
    "collapsed": false,
    "ExecuteTime": {
     "end_time": "2024-05-25T12:58:55.853170Z",
     "start_time": "2024-05-25T12:58:55.440579Z"
    }
   },
   "id": "ba7743f3b0d9c2bd",
   "execution_count": 23
  },
  {
   "cell_type": "code",
   "outputs": [
    {
     "data": {
      "text/plain": "         pmid         prompt_id           filename      label  offset_checked  \\\n0    12672033  p_001_ner_en_tsv  pmid-12672033.txt       Gene           False   \n1    12672033  p_001_ner_en_tsv  pmid-12672033.txt    Disease           False   \n2    12672033  p_001_ner_en_tsv  pmid-12672033.txt    Disease           False   \n3    12672033  p_001_ner_en_tsv  pmid-12672033.txt    Disease           False   \n4    12672033  p_001_ner_en_tsv  pmid-12672033.txt       Gene           False   \n..        ...               ...                ...        ...             ...   \n465  12673366  p_002_ner_es_tsv  pmid-12673366.txt       Gene           False   \n466  12673366  p_002_ner_es_tsv  pmid-12673366.txt       Gene           False   \n467  12673366  p_002_ner_es_tsv  pmid-12673366.txt  DNAAllele           False   \n468  12673366  p_002_ner_es_tsv  pmid-12673366.txt       Gene           False   \n469  12673366  p_002_ner_es_tsv  pmid-12673366.txt       Gene           False   \n\n    offset1 offset2                        span  \n0                                         DMBT1  \n1                                  glioblastoma  \n2                                meduloblastoma  \n3                    tumores oligodendrogliales  \n4                                         DMBT1  \n..      ...     ...                         ...  \n465                                       RAD51  \n466                                       RAD51  \n467                                         G/C  \n468                                       RAD51  \n469                                       RAD51  \n\n[470 rows x 8 columns]",
      "text/html": "<div>\n<style scoped>\n    .dataframe tbody tr th:only-of-type {\n        vertical-align: middle;\n    }\n\n    .dataframe tbody tr th {\n        vertical-align: top;\n    }\n\n    .dataframe thead th {\n        text-align: right;\n    }\n</style>\n<table border=\"1\" class=\"dataframe\">\n  <thead>\n    <tr style=\"text-align: right;\">\n      <th></th>\n      <th>pmid</th>\n      <th>prompt_id</th>\n      <th>filename</th>\n      <th>label</th>\n      <th>offset_checked</th>\n      <th>offset1</th>\n      <th>offset2</th>\n      <th>span</th>\n    </tr>\n  </thead>\n  <tbody>\n    <tr>\n      <th>0</th>\n      <td>12672033</td>\n      <td>p_001_ner_en_tsv</td>\n      <td>pmid-12672033.txt</td>\n      <td>Gene</td>\n      <td>False</td>\n      <td></td>\n      <td></td>\n      <td>DMBT1</td>\n    </tr>\n    <tr>\n      <th>1</th>\n      <td>12672033</td>\n      <td>p_001_ner_en_tsv</td>\n      <td>pmid-12672033.txt</td>\n      <td>Disease</td>\n      <td>False</td>\n      <td></td>\n      <td></td>\n      <td>glioblastoma</td>\n    </tr>\n    <tr>\n      <th>2</th>\n      <td>12672033</td>\n      <td>p_001_ner_en_tsv</td>\n      <td>pmid-12672033.txt</td>\n      <td>Disease</td>\n      <td>False</td>\n      <td></td>\n      <td></td>\n      <td>meduloblastoma</td>\n    </tr>\n    <tr>\n      <th>3</th>\n      <td>12672033</td>\n      <td>p_001_ner_en_tsv</td>\n      <td>pmid-12672033.txt</td>\n      <td>Disease</td>\n      <td>False</td>\n      <td></td>\n      <td></td>\n      <td>tumores oligodendrogliales</td>\n    </tr>\n    <tr>\n      <th>4</th>\n      <td>12672033</td>\n      <td>p_001_ner_en_tsv</td>\n      <td>pmid-12672033.txt</td>\n      <td>Gene</td>\n      <td>False</td>\n      <td></td>\n      <td></td>\n      <td>DMBT1</td>\n    </tr>\n    <tr>\n      <th>...</th>\n      <td>...</td>\n      <td>...</td>\n      <td>...</td>\n      <td>...</td>\n      <td>...</td>\n      <td>...</td>\n      <td>...</td>\n      <td>...</td>\n    </tr>\n    <tr>\n      <th>465</th>\n      <td>12673366</td>\n      <td>p_002_ner_es_tsv</td>\n      <td>pmid-12673366.txt</td>\n      <td>Gene</td>\n      <td>False</td>\n      <td></td>\n      <td></td>\n      <td>RAD51</td>\n    </tr>\n    <tr>\n      <th>466</th>\n      <td>12673366</td>\n      <td>p_002_ner_es_tsv</td>\n      <td>pmid-12673366.txt</td>\n      <td>Gene</td>\n      <td>False</td>\n      <td></td>\n      <td></td>\n      <td>RAD51</td>\n    </tr>\n    <tr>\n      <th>467</th>\n      <td>12673366</td>\n      <td>p_002_ner_es_tsv</td>\n      <td>pmid-12673366.txt</td>\n      <td>DNAAllele</td>\n      <td>False</td>\n      <td></td>\n      <td></td>\n      <td>G/C</td>\n    </tr>\n    <tr>\n      <th>468</th>\n      <td>12673366</td>\n      <td>p_002_ner_es_tsv</td>\n      <td>pmid-12673366.txt</td>\n      <td>Gene</td>\n      <td>False</td>\n      <td></td>\n      <td></td>\n      <td>RAD51</td>\n    </tr>\n    <tr>\n      <th>469</th>\n      <td>12673366</td>\n      <td>p_002_ner_es_tsv</td>\n      <td>pmid-12673366.txt</td>\n      <td>Gene</td>\n      <td>False</td>\n      <td></td>\n      <td></td>\n      <td>RAD51</td>\n    </tr>\n  </tbody>\n</table>\n<p>470 rows × 8 columns</p>\n</div>"
     },
     "execution_count": 24,
     "metadata": {},
     "output_type": "execute_result"
    }
   ],
   "source": [
    "extracted_entity_results"
   ],
   "metadata": {
    "collapsed": false,
    "ExecuteTime": {
     "end_time": "2024-05-25T12:58:55.863227Z",
     "start_time": "2024-05-25T12:58:55.854222Z"
    }
   },
   "id": "a4f69ce585b7d7eb",
   "execution_count": 24
  },
  {
   "cell_type": "code",
   "outputs": [
    {
     "data": {
      "text/plain": "470"
     },
     "execution_count": 25,
     "metadata": {},
     "output_type": "execute_result"
    }
   ],
   "source": [
    "len(extracted_entity_results)"
   ],
   "metadata": {
    "collapsed": false,
    "ExecuteTime": {
     "end_time": "2024-05-25T12:58:55.867221Z",
     "start_time": "2024-05-25T12:58:55.864387Z"
    }
   },
   "id": "d976196e5c4e9fea",
   "execution_count": 25
  },
  {
   "cell_type": "code",
   "outputs": [],
   "source": [
    "# Find offsets \n",
    "\n",
    "# loop df, find each span, calculate the word length, find the indexes of each occurance \n",
    "for _, row in extracted_entity_results.iterrows():\n",
    "    pmid = row['pmid']\n",
    "    prompt_id = row['prompt_id']\n",
    "    # find the text location in the original_data with the pmid\n",
    "    text = original_data.loc[data['pmid'] == pmid, 'text'].iloc[0]\n",
    "    \n",
    "    if not row['offset_checked'] and row['offset1'] == '':\n",
    "        span = row['span']\n",
    "        span_length = len(span)\n",
    "        span_start_indexes = [m.start() for m in re.finditer(re.escape(span), text)]\n",
    "        span_count = 0\n",
    "        \n",
    "        matching_spans = extracted_entity_results[(extracted_entity_results['pmid']==pmid) & (extracted_entity_results['prompt_id']==prompt_id) & (extracted_entity_results['span']==span) & (extracted_entity_results['offset1']=='') & (extracted_entity_results['offset_checked']==False)]\n",
    "        \n",
    "        for index, matched_span in matching_spans.iterrows(): \n",
    "            if span_start_indexes and span_count < len(span_start_indexes):\n",
    "                extracted_entity_results.loc[index, 'offset1'] = str(span_start_indexes[span_count])\n",
    "                extracted_entity_results.loc[index, 'offset2'] = str(span_start_indexes[span_count] + span_length)\n",
    "                \n",
    "                span_count = span_count + 1\n",
    "            else: \n",
    "                # Add -1 to extra or missing ones \n",
    "                extracted_entity_results.loc[index, 'offset1'] = '-1'\n",
    "                extracted_entity_results.loc[index, 'offset2'] = '-1'\n",
    "                \n",
    "            extracted_entity_results.loc[index, 'offset_checked'] = True\n",
    "            \n",
    "        # testing code\n",
    "        # test_matching_spans = extracted_entity_results[(extracted_entity_results['pmid']==pmid) & (extracted_entity_results['prompt_id']==prompt_id) & (extracted_entity_results['span']==span)]\n",
    "        # \n",
    "        # print(test_matching_spans)"
   ],
   "metadata": {
    "collapsed": false,
    "ExecuteTime": {
     "end_time": "2024-05-25T12:58:56.351397Z",
     "start_time": "2024-05-25T12:58:55.868260Z"
    }
   },
   "id": "c120fe53384d5e53",
   "execution_count": 26
  },
  {
   "cell_type": "code",
   "outputs": [
    {
     "data": {
      "text/plain": "         pmid         prompt_id           filename      label  offset_checked  \\\n0    12672033  p_001_ner_en_tsv  pmid-12672033.txt       Gene            True   \n1    12672033  p_001_ner_en_tsv  pmid-12672033.txt    Disease            True   \n2    12672033  p_001_ner_en_tsv  pmid-12672033.txt    Disease            True   \n3    12672033  p_001_ner_en_tsv  pmid-12672033.txt    Disease            True   \n4    12672033  p_001_ner_en_tsv  pmid-12672033.txt       Gene            True   \n..        ...               ...                ...        ...             ...   \n465  12673366  p_002_ner_es_tsv  pmid-12673366.txt       Gene            True   \n466  12673366  p_002_ner_es_tsv  pmid-12673366.txt       Gene            True   \n467  12673366  p_002_ner_es_tsv  pmid-12673366.txt  DNAAllele            True   \n468  12673366  p_002_ner_es_tsv  pmid-12673366.txt       Gene            True   \n469  12673366  p_002_ner_es_tsv  pmid-12673366.txt       Gene            True   \n\n    offset1 offset2                        span  \n0        26      31                       DMBT1  \n1        35      47                glioblastoma  \n2        49      63              meduloblastoma  \n3        66      92  tumores oligodendrogliales  \n4        93      98                       DMBT1  \n..      ...     ...                         ...  \n465      -1      -1                       RAD51  \n466      -1      -1                       RAD51  \n467      -1      -1                         G/C  \n468      -1      -1                       RAD51  \n469      -1      -1                       RAD51  \n\n[470 rows x 8 columns]",
      "text/html": "<div>\n<style scoped>\n    .dataframe tbody tr th:only-of-type {\n        vertical-align: middle;\n    }\n\n    .dataframe tbody tr th {\n        vertical-align: top;\n    }\n\n    .dataframe thead th {\n        text-align: right;\n    }\n</style>\n<table border=\"1\" class=\"dataframe\">\n  <thead>\n    <tr style=\"text-align: right;\">\n      <th></th>\n      <th>pmid</th>\n      <th>prompt_id</th>\n      <th>filename</th>\n      <th>label</th>\n      <th>offset_checked</th>\n      <th>offset1</th>\n      <th>offset2</th>\n      <th>span</th>\n    </tr>\n  </thead>\n  <tbody>\n    <tr>\n      <th>0</th>\n      <td>12672033</td>\n      <td>p_001_ner_en_tsv</td>\n      <td>pmid-12672033.txt</td>\n      <td>Gene</td>\n      <td>True</td>\n      <td>26</td>\n      <td>31</td>\n      <td>DMBT1</td>\n    </tr>\n    <tr>\n      <th>1</th>\n      <td>12672033</td>\n      <td>p_001_ner_en_tsv</td>\n      <td>pmid-12672033.txt</td>\n      <td>Disease</td>\n      <td>True</td>\n      <td>35</td>\n      <td>47</td>\n      <td>glioblastoma</td>\n    </tr>\n    <tr>\n      <th>2</th>\n      <td>12672033</td>\n      <td>p_001_ner_en_tsv</td>\n      <td>pmid-12672033.txt</td>\n      <td>Disease</td>\n      <td>True</td>\n      <td>49</td>\n      <td>63</td>\n      <td>meduloblastoma</td>\n    </tr>\n    <tr>\n      <th>3</th>\n      <td>12672033</td>\n      <td>p_001_ner_en_tsv</td>\n      <td>pmid-12672033.txt</td>\n      <td>Disease</td>\n      <td>True</td>\n      <td>66</td>\n      <td>92</td>\n      <td>tumores oligodendrogliales</td>\n    </tr>\n    <tr>\n      <th>4</th>\n      <td>12672033</td>\n      <td>p_001_ner_en_tsv</td>\n      <td>pmid-12672033.txt</td>\n      <td>Gene</td>\n      <td>True</td>\n      <td>93</td>\n      <td>98</td>\n      <td>DMBT1</td>\n    </tr>\n    <tr>\n      <th>...</th>\n      <td>...</td>\n      <td>...</td>\n      <td>...</td>\n      <td>...</td>\n      <td>...</td>\n      <td>...</td>\n      <td>...</td>\n      <td>...</td>\n    </tr>\n    <tr>\n      <th>465</th>\n      <td>12673366</td>\n      <td>p_002_ner_es_tsv</td>\n      <td>pmid-12673366.txt</td>\n      <td>Gene</td>\n      <td>True</td>\n      <td>-1</td>\n      <td>-1</td>\n      <td>RAD51</td>\n    </tr>\n    <tr>\n      <th>466</th>\n      <td>12673366</td>\n      <td>p_002_ner_es_tsv</td>\n      <td>pmid-12673366.txt</td>\n      <td>Gene</td>\n      <td>True</td>\n      <td>-1</td>\n      <td>-1</td>\n      <td>RAD51</td>\n    </tr>\n    <tr>\n      <th>467</th>\n      <td>12673366</td>\n      <td>p_002_ner_es_tsv</td>\n      <td>pmid-12673366.txt</td>\n      <td>DNAAllele</td>\n      <td>True</td>\n      <td>-1</td>\n      <td>-1</td>\n      <td>G/C</td>\n    </tr>\n    <tr>\n      <th>468</th>\n      <td>12673366</td>\n      <td>p_002_ner_es_tsv</td>\n      <td>pmid-12673366.txt</td>\n      <td>Gene</td>\n      <td>True</td>\n      <td>-1</td>\n      <td>-1</td>\n      <td>RAD51</td>\n    </tr>\n    <tr>\n      <th>469</th>\n      <td>12673366</td>\n      <td>p_002_ner_es_tsv</td>\n      <td>pmid-12673366.txt</td>\n      <td>Gene</td>\n      <td>True</td>\n      <td>-1</td>\n      <td>-1</td>\n      <td>RAD51</td>\n    </tr>\n  </tbody>\n</table>\n<p>470 rows × 8 columns</p>\n</div>"
     },
     "execution_count": 27,
     "metadata": {},
     "output_type": "execute_result"
    }
   ],
   "source": [
    "extracted_entity_results"
   ],
   "metadata": {
    "collapsed": false,
    "ExecuteTime": {
     "end_time": "2024-05-25T12:58:56.361044Z",
     "start_time": "2024-05-25T12:58:56.352358Z"
    }
   },
   "id": "4dda2d6069e63a23",
   "execution_count": 27
  },
  {
   "cell_type": "code",
   "outputs": [
    {
     "data": {
      "text/plain": "470"
     },
     "execution_count": 28,
     "metadata": {},
     "output_type": "execute_result"
    }
   ],
   "source": [
    "len(extracted_entity_results)"
   ],
   "metadata": {
    "collapsed": false,
    "ExecuteTime": {
     "end_time": "2024-05-25T12:58:56.371347Z",
     "start_time": "2024-05-25T12:58:56.367603Z"
    }
   },
   "id": "b42da2e6058cb0d2",
   "execution_count": 28
  },
  {
   "cell_type": "code",
   "outputs": [],
   "source": [
    "# remove hallucinations\n",
    "# TODO: Find a better way for this \n",
    "extracted_entity_results = extracted_entity_results[(extracted_entity_results['offset1'] != '-1') & (extracted_entity_results['offset2'] != '-1')]"
   ],
   "metadata": {
    "collapsed": false,
    "ExecuteTime": {
     "end_time": "2024-05-25T12:58:56.376876Z",
     "start_time": "2024-05-25T12:58:56.372863Z"
    }
   },
   "id": "fe1fc86f056705bf",
   "execution_count": 29
  },
  {
   "cell_type": "code",
   "outputs": [
    {
     "data": {
      "text/plain": "         pmid         prompt_id           filename          label  \\\n0    12672033  p_001_ner_en_tsv  pmid-12672033.txt           Gene   \n1    12672033  p_001_ner_en_tsv  pmid-12672033.txt        Disease   \n2    12672033  p_001_ner_en_tsv  pmid-12672033.txt        Disease   \n3    12672033  p_001_ner_en_tsv  pmid-12672033.txt        Disease   \n4    12672033  p_001_ner_en_tsv  pmid-12672033.txt           Gene   \n..        ...               ...                ...            ...   \n164  12673366  p_002_ner_es_tsv  pmid-12673366.txt        Disease   \n179  12673366  p_002_ner_es_tsv  pmid-12673366.txt        Disease   \n185  12673366  p_002_ner_es_tsv  pmid-12673366.txt  OtherMutation   \n187  12673366  p_002_ner_es_tsv  pmid-12673366.txt        Disease   \n298  12673366  p_002_ner_es_tsv  pmid-12673366.txt  OtherMutation   \n\n     offset_checked offset1 offset2                        span  \n0              True      26      31                       DMBT1  \n1              True      35      47                glioblastoma  \n2              True      49      63              meduloblastoma  \n3              True      66      92  tumores oligodendrogliales  \n4              True      93      98                       DMBT1  \n..              ...     ...     ...                         ...  \n164            True     667     681              cáncer de mama  \n179            True     772     786              cáncer de mama  \n185            True      13      29            polimorfismo G/C  \n187            True    1853    1867              cáncer de mama  \n298            True     629     645            polimorfismo G/C  \n\n[115 rows x 8 columns]",
      "text/html": "<div>\n<style scoped>\n    .dataframe tbody tr th:only-of-type {\n        vertical-align: middle;\n    }\n\n    .dataframe tbody tr th {\n        vertical-align: top;\n    }\n\n    .dataframe thead th {\n        text-align: right;\n    }\n</style>\n<table border=\"1\" class=\"dataframe\">\n  <thead>\n    <tr style=\"text-align: right;\">\n      <th></th>\n      <th>pmid</th>\n      <th>prompt_id</th>\n      <th>filename</th>\n      <th>label</th>\n      <th>offset_checked</th>\n      <th>offset1</th>\n      <th>offset2</th>\n      <th>span</th>\n    </tr>\n  </thead>\n  <tbody>\n    <tr>\n      <th>0</th>\n      <td>12672033</td>\n      <td>p_001_ner_en_tsv</td>\n      <td>pmid-12672033.txt</td>\n      <td>Gene</td>\n      <td>True</td>\n      <td>26</td>\n      <td>31</td>\n      <td>DMBT1</td>\n    </tr>\n    <tr>\n      <th>1</th>\n      <td>12672033</td>\n      <td>p_001_ner_en_tsv</td>\n      <td>pmid-12672033.txt</td>\n      <td>Disease</td>\n      <td>True</td>\n      <td>35</td>\n      <td>47</td>\n      <td>glioblastoma</td>\n    </tr>\n    <tr>\n      <th>2</th>\n      <td>12672033</td>\n      <td>p_001_ner_en_tsv</td>\n      <td>pmid-12672033.txt</td>\n      <td>Disease</td>\n      <td>True</td>\n      <td>49</td>\n      <td>63</td>\n      <td>meduloblastoma</td>\n    </tr>\n    <tr>\n      <th>3</th>\n      <td>12672033</td>\n      <td>p_001_ner_en_tsv</td>\n      <td>pmid-12672033.txt</td>\n      <td>Disease</td>\n      <td>True</td>\n      <td>66</td>\n      <td>92</td>\n      <td>tumores oligodendrogliales</td>\n    </tr>\n    <tr>\n      <th>4</th>\n      <td>12672033</td>\n      <td>p_001_ner_en_tsv</td>\n      <td>pmid-12672033.txt</td>\n      <td>Gene</td>\n      <td>True</td>\n      <td>93</td>\n      <td>98</td>\n      <td>DMBT1</td>\n    </tr>\n    <tr>\n      <th>...</th>\n      <td>...</td>\n      <td>...</td>\n      <td>...</td>\n      <td>...</td>\n      <td>...</td>\n      <td>...</td>\n      <td>...</td>\n      <td>...</td>\n    </tr>\n    <tr>\n      <th>164</th>\n      <td>12673366</td>\n      <td>p_002_ner_es_tsv</td>\n      <td>pmid-12673366.txt</td>\n      <td>Disease</td>\n      <td>True</td>\n      <td>667</td>\n      <td>681</td>\n      <td>cáncer de mama</td>\n    </tr>\n    <tr>\n      <th>179</th>\n      <td>12673366</td>\n      <td>p_002_ner_es_tsv</td>\n      <td>pmid-12673366.txt</td>\n      <td>Disease</td>\n      <td>True</td>\n      <td>772</td>\n      <td>786</td>\n      <td>cáncer de mama</td>\n    </tr>\n    <tr>\n      <th>185</th>\n      <td>12673366</td>\n      <td>p_002_ner_es_tsv</td>\n      <td>pmid-12673366.txt</td>\n      <td>OtherMutation</td>\n      <td>True</td>\n      <td>13</td>\n      <td>29</td>\n      <td>polimorfismo G/C</td>\n    </tr>\n    <tr>\n      <th>187</th>\n      <td>12673366</td>\n      <td>p_002_ner_es_tsv</td>\n      <td>pmid-12673366.txt</td>\n      <td>Disease</td>\n      <td>True</td>\n      <td>1853</td>\n      <td>1867</td>\n      <td>cáncer de mama</td>\n    </tr>\n    <tr>\n      <th>298</th>\n      <td>12673366</td>\n      <td>p_002_ner_es_tsv</td>\n      <td>pmid-12673366.txt</td>\n      <td>OtherMutation</td>\n      <td>True</td>\n      <td>629</td>\n      <td>645</td>\n      <td>polimorfismo G/C</td>\n    </tr>\n  </tbody>\n</table>\n<p>115 rows × 8 columns</p>\n</div>"
     },
     "execution_count": 30,
     "metadata": {},
     "output_type": "execute_result"
    }
   ],
   "source": [
    "extracted_entity_results"
   ],
   "metadata": {
    "collapsed": false,
    "ExecuteTime": {
     "end_time": "2024-05-25T12:58:56.387470Z",
     "start_time": "2024-05-25T12:58:56.378031Z"
    }
   },
   "id": "f2f7ae68b7c12551",
   "execution_count": 30
  },
  {
   "cell_type": "code",
   "outputs": [
    {
     "data": {
      "text/plain": "115"
     },
     "execution_count": 31,
     "metadata": {},
     "output_type": "execute_result"
    }
   ],
   "source": [
    "len(extracted_entity_results)"
   ],
   "metadata": {
    "collapsed": false,
    "ExecuteTime": {
     "end_time": "2024-05-25T12:58:56.392059Z",
     "start_time": "2024-05-25T12:58:56.388550Z"
    }
   },
   "id": "86edcea9bf90fa98",
   "execution_count": 31
  },
  {
   "cell_type": "markdown",
   "source": [
    "\n",
    "### Step 4: Evaluation\n",
    "\n",
    "*Skip this part for evaluation dataset as there is no gold standard data to compare against.*"
   ],
   "metadata": {},
   "id": "5b2da4d1-bb9b-4b6a-932c-0ceecc811e2b"
  },
  {
   "cell_type": "code",
   "outputs": [],
   "source": [
    "# train_annotations.tsv\n",
    "# pmid\\tfilename\\tmark\\tlabel\\toffset1\\toffset2\\tspan\n",
    "\n",
    "# TODO: Keep track of the variations between the runs eg: hyperparams (fixed), prompt that worked best etc. to add the metrics for result \n",
    "# Read and find what other people have done \n",
    "\n",
    "# brat format for NER\n",
    "# <unique_id>   <label>  <offset1> <offset2>   <span> \n",
    "def bratify(eval_filepath=None, results=None):\n",
    "    if eval_filepath is not None:\n",
    "        \n",
    "        gold_standard_annotations = pd.read_csv(eval_filepath, sep='\\t', header=0)\n",
    "        # TODO: Get gold standard data in brat formation for evaluation\n",
    "        print(gold_standard_annotations.sample(5))\n",
    "        # TODO: Save file in desired output file     \n",
    "        \n",
    "    if results is not None:\n",
    "        # TODO: Get results in the brat format for evaluation\n",
    "        # TODO: Remove extra whitespaces and new lines from the response for JSON format\n",
    "        # TODO: Extract each new line as a row in the results \n",
    "        # formatted_response = re.sub('[^\\S\\t]', '', response.choices[0].message.content)\n",
    "        results = results\n",
    "        # TODO: Save file in desired output format\n",
    "    "
   ],
   "metadata": {
    "ExecuteTime": {
     "end_time": "2024-05-25T12:58:56.396657Z",
     "start_time": "2024-05-25T12:58:56.393215Z"
    }
   },
   "id": "4a8ce412-2e29-4838-90a5-15c9a72e4011",
   "execution_count": 32
  },
  {
   "cell_type": "code",
   "outputs": [
    {
     "name": "stdout",
     "output_type": "stream",
     "text": [
      "          pmid           filename mark    label  offset1  offset2  \\\n",
      "1569  15642853  pmid-15642853.ann  T17  Disease     1453     1483   \n",
      "1496  15607529  pmid-15607529.ann   T9     Gene      721      727   \n",
      "7533  21615796  pmid-21615796.ann  T25     Gene     1575     1581   \n",
      "1308  15353880  pmid-15353880.ann  T12  Disease      933      953   \n",
      "3652  17391797  pmid-17391797.ann  T18     Gene     1662     1666   \n",
      "\n",
      "                                span  \n",
      "1569  distonía simétrica de los pies  \n",
      "1496                          LH/CGR  \n",
      "7533                          IL-17F  \n",
      "1308            hipertrofia cardíaca  \n",
      "3652                            PEMT  \n"
     ]
    }
   ],
   "source": [
    "# TODO: Replace filepath of to convert to brat format\n",
    "bratify(\"./genovardis_train_dev/train_annotation.tsv\")"
   ],
   "metadata": {
    "ExecuteTime": {
     "end_time": "2024-05-25T12:58:56.413780Z",
     "start_time": "2024-05-25T12:58:56.397611Z"
    }
   },
   "id": "19a97533-fd35-41cd-801c-ac42721da509",
   "execution_count": 33
  },
  {
   "cell_type": "code",
   "outputs": [],
   "source": [
    "# https://github.com/READ-BioMed/brateval"
   ],
   "metadata": {
    "collapsed": false,
    "ExecuteTime": {
     "end_time": "2024-05-25T12:58:56.417339Z",
     "start_time": "2024-05-25T12:58:56.414769Z"
    }
   },
   "id": "7bab3531e682749e",
   "execution_count": 34
  },
  {
   "cell_type": "markdown",
   "source": [
    "\n",
    "### Step 5: Saving output\n",
    "\n",
    "`.tsv` file containing the annotations in the following format: \n",
    "\n",
    "`pmid   filename   label   offset1   offset2   span`.\n",
    "\n"
   ],
   "metadata": {},
   "id": "96d5210a-e7e4-49b5-a29d-9fe8c28a179f"
  },
  {
   "cell_type": "code",
   "outputs": [],
   "source": [
    "# Extracting results of a specific prompt\n",
    "def save_output(prompt_id):\n",
    "    extracted_entity_results_subset = extracted_entity_results[(extracted_entity_results['prompt_id']==prompt_id)]\n",
    "    extracted_entity_results_subset = extracted_entity_results_subset.drop(['prompt_id', 'offset_checked'], axis=1)\n",
    "    print(f'Original len: {len(extracted_entity_results)}, subset len: {len(extracted_entity_results_subset)}\\n\\n')\n",
    "    print('Sample:\\n', extracted_entity_results_subset.sample(5))\n",
    "    \n",
    "    # get results for tsv in the format\n",
    "    # `pmid   filename   label   offset1   offset2   span`.\n",
    "    filename = f'genovardis_{prompt_id}.tsv'\n",
    "    extracted_entity_results_subset.to_csv(filename, sep ='\\t', index=False, header=True)\n",
    "    \n",
    "    print(f'\\nSaved to {filename}\\n------------\\n')\n",
    "    "
   ],
   "metadata": {
    "collapsed": false,
    "ExecuteTime": {
     "end_time": "2024-05-25T12:58:56.423582Z",
     "start_time": "2024-05-25T12:58:56.418729Z"
    }
   },
   "id": "4f324b34b436971e",
   "execution_count": 35
  },
  {
   "cell_type": "code",
   "execution_count": 36,
   "id": "54faf207-facd-4b75-b86a-04b6f71aa0df",
   "metadata": {
    "ExecuteTime": {
     "end_time": "2024-05-25T12:58:56.436988Z",
     "start_time": "2024-05-25T12:58:56.425274Z"
    }
   },
   "outputs": [
    {
     "name": "stdout",
     "output_type": "stream",
     "text": [
      "Original len: 115, subset len: 66\n",
      "\n",
      "\n",
      "Sample:\n",
      "         pmid           filename        label offset1 offset2  \\\n",
      "52  12672033  pmid-12672033.txt  DNAMutation    1685    1703   \n",
      "40  12672033  pmid-12672033.txt  DNAMutation    1226    1241   \n",
      "93  12673366  pmid-12673366.txt         Gene     136     141   \n",
      "92  12673366  pmid-12673366.txt      Disease      76      90   \n",
      "54  12672033  pmid-12672033.txt  DNAMutation    1761    1779   \n",
      "\n",
      "                  span  \n",
      "52  tumores cerebrales  \n",
      "40     meduloblastomas  \n",
      "93               BRCA1  \n",
      "92      cáncer de mama  \n",
      "54  tumores cerebrales  \n",
      "\n",
      "Saved to genovardis_p_001_ner_en_tsv.tsv\n",
      "------------\n",
      "\n",
      "Original len: 115, subset len: 49\n",
      "\n",
      "\n",
      "Sample:\n",
      "          pmid           filename             label offset1 offset2  \\\n",
      "63   12672033  pmid-12672033.txt           Disease      66      92   \n",
      "127  12673366  pmid-12673366.txt  NucleotideChange     598     605   \n",
      "83   12672033  pmid-12672033.txt       DNAMutation    1708    1739   \n",
      "78   12672033  pmid-12672033.txt               SNP     578     579   \n",
      "118  12673366  pmid-12673366.txt              Gene      67      72   \n",
      "\n",
      "                                span  \n",
      "63        tumores oligodendrogliales  \n",
      "127                          G por C  \n",
      "83   deleción homocigota intragénica  \n",
      "78                                 5  \n",
      "118                            RAD51  \n",
      "\n",
      "Saved to genovardis_p_002_ner_es_tsv.tsv\n",
      "------------\n",
      "\n"
     ]
    }
   ],
   "source": [
    "for _, prompt in prompt_library.iterrows():\n",
    "   save_output(prompt['prompt_id']) "
   ]
  }
 ],
 "metadata": {
  "kernelspec": {
   "display_name": "Python 3 (ipykernel)",
   "language": "python",
   "name": "python3"
  },
  "language_info": {
   "codemirror_mode": {
    "name": "ipython",
    "version": 3
   },
   "file_extension": ".py",
   "mimetype": "text/x-python",
   "name": "python",
   "nbconvert_exporter": "python",
   "pygments_lexer": "ipython3",
   "version": "3.11.7"
  }
 },
 "nbformat": 4,
 "nbformat_minor": 5
}
