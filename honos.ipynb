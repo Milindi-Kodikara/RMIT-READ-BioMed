{
 "cells": [
  {
   "cell_type": "markdown",
   "id": "0881c944-4aed-4da2-8e21-72412033c1ee",
   "metadata": {},
   "source": [
    "# NER using GPT-3.5\n",
    "\n",
    "### Project name: Honos\n",
    "Date: 24th May 2024\n",
    "\n",
    "Author: Milindi Kodikara\n",
    "\n",
    "Supervisor: Professor Karin Verspoor"
   ]
  },
  {
   "cell_type": "markdown",
   "id": "ce162c89-d8dc-422d-804b-4daaf121a29f",
   "metadata": {},
   "source": [
    "Guidelines before running the notebook:\n",
    "1. Add the correct filename paths for train data, test data, dev data"
   ]
  },
  {
   "cell_type": "markdown",
   "id": "0337bbac-21c4-45c9-b0ca-922bfbc97b72",
   "metadata": {},
   "source": [
    "Libraries used: \n",
    "- pd\n",
    "- numpy"
   ]
  },
  {
   "cell_type": "code",
   "execution_count": null,
   "id": "a7f739ac-16fa-4a1b-9855-e8b89fdeb194",
   "metadata": {},
   "outputs": [],
   "source": [
    "import pandas as pd\n",
    "import json"
   ]
  },
  {
   "cell_type": "markdown",
   "id": "5d926f35-0054-4d89-bfda-b3d3d589dcc5",
   "metadata": {},
   "source": [
    "\n",
    "### Step 1: Load and pre-process data and prompt library "
   ]
  },
  {
   "cell_type": "markdown",
   "id": "44a7d5cb-7d77-449d-a3f1-bcfb1281883d",
   "metadata": {},
   "source": [
    "\n",
    "#### Step 1.1: Load datasets"
   ]
  },
  {
   "cell_type": "code",
   "execution_count": null,
   "id": "1cc0a4e4-b5b7-441f-b99f-29e18f7ed302",
   "metadata": {},
   "outputs": [],
   "source": [
    "# train_text.tsv\n",
    "# pmid\\tfilename\\ttext\n",
    "\n",
    "train_data = pd.read_csv(\"./genovardis_train_dev/train_text.tsv\", sep='\\t', header=0)\n",
    "\n",
    "train_data.sample(5)"
   ]
  },
  {
   "cell_type": "code",
   "execution_count": null,
   "id": "4a8ce412-2e29-4838-90a5-15c9a72e4011",
   "metadata": {},
   "outputs": [],
   "source": [
    "# train_annotations.tsv\n",
    "# pmid\\tfilename\\tmark\\tlabel\\toffset1\\toffset2\\tspan\n",
    "\n",
    "train_annotations = pd.read_csv(\"./genovardis_train_dev/train_annotation.tsv\", sep='\\t', header=0)\n",
    "\n",
    "train_annotations.sample(5)"
   ]
  },
  {
   "cell_type": "markdown",
   "id": "da74db47-221a-40f1-9e02-2fd68220b367",
   "metadata": {},
   "source": [
    "\n",
    "#### Step 1.2: Load prompt library"
   ]
  },
  {
   "cell_type": "code",
   "execution_count": null,
   "id": "fb1d18f8-110f-4981-bc3a-40c417cb490a",
   "metadata": {},
   "outputs": [],
   "source": [
    "\n",
    "prompt_library = pd.read_json('prompts.json')\n",
    "\n",
    "prompt_library"
   ]
  },
  {
   "cell_type": "markdown",
   "id": "7e17606d-7a57-4044-94b3-ef4b802af0f4",
   "metadata": {},
   "source": [
    "\n",
    "#### Step 1.3: Create data+prompt dataset"
   ]
  },
  {
   "cell_type": "code",
   "execution_count": null,
   "id": "6dc0bb8a-f112-432c-aee1-335dbf175970",
   "metadata": {},
   "outputs": [],
   "source": []
  },
  {
   "cell_type": "markdown",
   "id": "eac6e4d1-bfb4-4c90-8b7b-d0ffc71d6313",
   "metadata": {},
   "source": [
    "\n",
    "### Step 2: Setting up GPT-3.5"
   ]
  },
  {
   "cell_type": "code",
   "execution_count": null,
   "id": "9bac339d-8467-4651-bc3f-72faa835033b",
   "metadata": {},
   "outputs": [],
   "source": []
  },
  {
   "cell_type": "markdown",
   "id": "0ce5f688-6a65-4e58-a070-22caf6cdf95d",
   "metadata": {},
   "source": [
    "### Step 3: Post-processing"
   ]
  },
  {
   "cell_type": "code",
   "execution_count": null,
   "id": "7011dbdc-ac78-415c-a8d0-f7e565f0ca7f",
   "metadata": {},
   "outputs": [],
   "source": []
  },
  {
   "cell_type": "markdown",
   "id": "5b2da4d1-bb9b-4b6a-932c-0ceecc811e2b",
   "metadata": {},
   "source": [
    "\n",
    "### Step 4: Evaluation\n",
    "\n",
    "*Skip this part for evaluation dataset as there is no gold standard data to compare against.*"
   ]
  },
  {
   "cell_type": "code",
   "execution_count": null,
   "id": "19a97533-fd35-41cd-801c-ac42721da509",
   "metadata": {},
   "outputs": [],
   "source": []
  },
  {
   "cell_type": "markdown",
   "id": "96d5210a-e7e4-49b5-a29d-9fe8c28a179f",
   "metadata": {},
   "source": [
    "\n",
    "### Step 5: Saving output\n",
    "\n",
    "`.tsv` file containing the annotations in the following format: \n",
    "\n",
    "`pmid   filename   label   offset1   offset2   span`.\n",
    "\n"
   ]
  },
  {
   "cell_type": "code",
   "execution_count": null,
   "id": "2bff9721-1ec5-4602-baf4-084936802af4",
   "metadata": {},
   "outputs": [],
   "source": []
  },
  {
   "cell_type": "code",
   "execution_count": null,
   "id": "5f2f59c7-cf46-465f-8bdd-119f86425c41",
   "metadata": {},
   "outputs": [],
   "source": []
  },
  {
   "cell_type": "code",
   "execution_count": null,
   "id": "a9531b6e-e5b8-430b-8332-44c46687ff15",
   "metadata": {},
   "outputs": [],
   "source": []
  },
  {
   "cell_type": "code",
   "execution_count": null,
   "id": "54faf207-facd-4b75-b86a-04b6f71aa0df",
   "metadata": {},
   "outputs": [],
   "source": []
  }
 ],
 "metadata": {
  "kernelspec": {
   "display_name": "Python 3 (ipykernel)",
   "language": "python",
   "name": "python3"
  },
  "language_info": {
   "codemirror_mode": {
    "name": "ipython",
    "version": 3
   },
   "file_extension": ".py",
   "mimetype": "text/x-python",
   "name": "python",
   "nbconvert_exporter": "python",
   "pygments_lexer": "ipython3",
   "version": "3.11.7"
  }
 },
 "nbformat": 4,
 "nbformat_minor": 5
}
